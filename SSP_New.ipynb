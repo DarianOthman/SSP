{
 "cells": [
  {
   "cell_type": "code",
   "execution_count": 76,
   "outputs": [],
   "source": [
    "# Libraries and functions\n",
    "# Importing the necessary libraries\n",
    "import pandas as pd\n",
    "\n",
    "# Function to calculate proportions\n",
    "def calculate_proportions(df1, col1, col2, col3):\n",
    "    df_new[col1] = df1[col2] / df1[col3]\n",
    "    return df_new\n",
    "\n",
    "# Function to normalize the values of a column\n",
    "def normalize(df, col1, col2):\n",
    "    min_density = df[col1].min()\n",
    "    max_density = df[col1].max()\n",
    "    df_new[col2] =(df[col1] - min_density) / (max_density - min_density)\n",
    "    return df_new"
   ],
   "metadata": {
    "collapsed": false,
    "ExecuteTime": {
     "end_time": "2024-05-15T10:00:38.584551400Z",
     "start_time": "2024-05-15T10:00:38.525651300Z"
    }
   },
   "id": "f429e95e2a132739"
  },
  {
   "cell_type": "code",
   "execution_count": 83,
   "outputs": [
    {
     "name": "stderr",
     "output_type": "stream",
     "text": [
      "C:\\Users\\I6240624\\AppData\\Local\\Temp\\ipykernel_13968\\2031631432.py:25: FutureWarning: Series.__getitem__ treating keys as positions is deprecated. In a future version, integer keys will always be treated as labels (consistent with DataFrame behavior). To access a value by position, use `ser.iloc[pos]`\n",
      "  average_value = (row1[-1] + row2[-1]) / 2\n",
      "C:\\Users\\I6240624\\AppData\\Local\\Temp\\ipykernel_13968\\2031631432.py:28: FutureWarning: Series.__getitem__ treating keys as positions is deprecated. In a future version, integer keys will always be treated as labels (consistent with DataFrame behavior). To access a value by position, use `ser.iloc[pos]`\n",
      "  new_row = [max(row1[0], row2[0]), 2021, average_value]\n"
     ]
    }
   ],
   "source": [
    "# Load the control variable data\n",
    "df = pd.read_csv(\"data_preprocessed.csv\", index_col=0)\n",
    "\n",
    "# Load the livability data (from CBS)\n",
    "df_buurt = pd.read_csv(\"Leefbaarometer-scores buurten 2002-2022.csv\")\n",
    "\n",
    "# Select the first four columns: the code, the name, the year, and the livability score\n",
    "df_buurt = df_buurt.iloc[:, :4]\n",
    "\n",
    "# Filter for the years 2020 and 2022\n",
    "df_buurt = df_buurt[(df_buurt['jaar'] == 2020) | (df_buurt['jaar'] == 2022)]\n",
    "\n",
    "# Remove the first two characters from 'bu_code': BU001400 to 001400\n",
    "df_buurt[\"bu_code\"] = df_buurt[\"bu_code\"].apply(lambda x: x[2:])\n",
    "\n",
    "# Rename the 'bu_naam' column to 'name'\n",
    "df_buurt.rename(columns={'bu_naam': 'name'}, inplace=True)\n",
    "\n",
    "# Initialize an empty list to store the averaged rows\n",
    "dfall = []\n",
    "\n",
    "# Iterate over the dataframe in steps of 2 to pair rows\n",
    "for i in range(0, len(df_buurt) - 1, 2):\n",
    "    row1 = df_buurt.iloc[i]\n",
    "    row2 = df_buurt.iloc[i + 1]\n",
    "    \n",
    "    # Calculate the average of the last column values\n",
    "    average_value = (row1[-1] + row2[-1]) / 2\n",
    "    \n",
    "    # Create a new row with the max value of the first column, year as 2021, and the average value\n",
    "    new_row = [max(row1[0], row2[0]), 2021, average_value]\n",
    "    \n",
    "    # Append the new row to the list\n",
    "    dfall.append(new_row)\n",
    "\n",
    "# Convert the list of new rows to a DataFrame\n",
    "df_all = pd.DataFrame(dfall, columns=[\"code\", \"year\", \"livability_score\"])\n",
    "\n",
    "# Convert the 'code' column to integer type\n",
    "df_all[\"code\"] = df_all[\"code\"].astype(int)\n",
    "\n",
    "# Merge the control variable dataframe with the livability dataframe on the 'code' column\n",
    "df=pd.merge(df, df_all, left_on=\"gwb_code_10\",right_on=\"code\", how='inner')"
   ],
   "metadata": {
    "collapsed": false,
    "ExecuteTime": {
     "end_time": "2024-05-15T10:02:31.636719200Z",
     "start_time": "2024-05-15T10:02:27.039851800Z"
    }
   },
   "id": "a11438d1d1ad7b50"
  },
  {
   "cell_type": "code",
   "execution_count": 36,
   "outputs": [],
   "source": [
    "# Column renaming and selection for better readability\n",
    "new_column_names = {\n",
    "    \"gwb_code_10\": \"postal_code\",\n",
    "    \"DistanceToGPPractice_5\": \"Distance GP\", \n",
    "    \"Within1Km_6\": \"Within 1 km GP\", \n",
    "    \"Within3Km_7\": \"Within 3 km GP\", \n",
    "    \"Within5Km_8\": \"Within 5 km GP\",\n",
    "    \"DistanceToHospital_11\": \"Distance Hospital\",\n",
    "    \"Within5Km_12\": \"Within 5 km Hospital\",\n",
    "    \"Within10Km_13\": \"Within 10 km Hospital\", \n",
    "    \"Within20Km_14\": \"Within 20 km Hospital\",\n",
    "    \"DistanceToLargeSupermarket_24\": \"Distance Supermarket\", \n",
    "    \"Within1Km_25\": \"Within 1 km Supermarket\", \n",
    "    \"Within3Km_26\": \"Within 3 km Supermarket\", \n",
    "    \"Within5Km_27\": \"Within 5 km Supermarket\",\n",
    "    \"DistanceToDepartmentStore_32\": \"Distance Department Store\",\n",
    "    \"Within5Km_33\": \"Within 5 km Department Store\",\n",
    "    \"Within10Km_34\": \"Within 10 km Department Store\",\n",
    "    \"Within20Km_35\": \"Within 20 km Department Store\",\n",
    "    \"DistanceToRestaurant_44\": \"Distance Restaurant\", \n",
    "    \"Within1Km_45\": \"Within 1 km Restaurant\", \n",
    "    \"Within3Km_46\": \"Within 3 km Restaurant\", \n",
    "    \"Within5Km_47\": \"Within 5 km Restaurant\",\n",
    "    \"DistanceToDaycareCentres_52\": \"Distance Day Care\", \n",
    "    \"Within1Km_53\": \"Within 1 km Day Care\", \n",
    "    \"Within3Km_54\": \"Within 3 km Day Care\", \n",
    "    \"Within5Km_55\": \"Within 5 km Day Care\",\n",
    "    \"DistanceToSchool_60\": \"Distance School\", \n",
    "    \"Within1Km_61\": \"Within 1 km School\", \n",
    "    \"Within3Km_62\": \"Within 3 km School\", \n",
    "    \"Within5Km_63\": \"Within 5 km School\"\n",
    "}\n",
    "\n",
    "# Renaming columns and selecting specified columns\n",
    "dist_df = df.rename(columns=new_column_names)[list(new_column_names.values())]\n",
    "\n",
    "# Exporting the DataFrame to a CSV file for regression analysis\n",
    "dist_df.to_csv(\"distances.csv\", index=False)"
   ],
   "metadata": {
    "collapsed": false,
    "ExecuteTime": {
     "end_time": "2024-05-15T09:52:45.370710Z",
     "start_time": "2024-05-15T09:52:45.231467300Z"
    }
   },
   "id": "79efd4f27f66c687"
  },
  {
   "cell_type": "code",
   "execution_count": 38,
   "outputs": [],
   "source": [
    "# Create a new DataFrame\n",
    "df_new = pd.DataFrame()\n",
    "\n",
    "# Copy 'postal_code' column from existing DataFrame 'df' to the new DataFrame 'df_new'\n",
    "df_new[\"postal_code\"] = df[\"postal_code\"]"
   ],
   "metadata": {
    "collapsed": false,
    "ExecuteTime": {
     "end_time": "2024-05-15T09:52:45.387276900Z",
     "start_time": "2024-05-15T09:52:45.306399800Z"
    }
   },
   "id": "4ca49286b79bf082"
  },
  {
   "cell_type": "code",
   "execution_count": 39,
   "outputs": [],
   "source": [
    "# Calculate proportions for age groups\n",
    "calculate_proportions(df, 'prop_0-14', 'Numbers.of.people.from.0.14.years.old', 'Number.of.inhabitants')\n",
    "df = df.drop(columns=['Numbers.of.people.from.0.14.years.old'])\n",
    "\n",
    "calculate_proportions(df, 'prop_15-24', 'Number.of.people.from.15.24.years.old', 'Number.of.inhabitants')\n",
    "df = df.drop(columns=['Number.of.people.from.15.24.years.old'])\n",
    "\n",
    "calculate_proportions(df, 'prop_25-44', 'Number.of.people.from.25.44.years.old', 'Number.of.inhabitants')\n",
    "df = df.drop(columns=['Number.of.people.from.25.44.years.old'])\n",
    "\n",
    "calculate_proportions(df, 'prop_45-64', 'Number.of.people.from.45.64.years.old', 'Number.of.inhabitants')\n",
    "df = df.drop(columns=['Number.of.people.from.45.64.years.old'])\n",
    "\n",
    "calculate_proportions(df, 'prop_65+', 'Number.of.people....65.years.old', 'Number.of.inhabitants')\n",
    "df = df.drop(columns=['Number.of.people....65.years.old'])\n",
    "\n",
    "# Calculate proportion for education level\n",
    "df = df.drop(columns=['n_highschool_educated'])\n",
    "calculate_proportions(df, 'prop_university', 'n_highly_educated', 'Number.of.inhabitants')\n",
    "df = df.drop(columns=['n_highly_educated'])\n",
    "\n",
    "# Calculate proportion for income recipients\n",
    "calculate_proportions(df, 'prop_recipients', 'n_income_recipients', 'Number.of.inhabitants')\n",
    "df_new[\"worker\"] = 1 - df_new['prop_recipients']\n",
    "df_new = df_new.drop(columns=['prop_recipients'])\n",
    "df = df.drop(columns=['n_income_recipients'])\n",
    "\n",
    "# Calculate proportion for women\n",
    "calculate_proportions(df, 'prop_women', 'Number.of.women', 'Number.of.inhabitants')\n",
    "df = df.drop(columns=['Number.of.women'])"
   ],
   "metadata": {
    "collapsed": false,
    "ExecuteTime": {
     "end_time": "2024-05-15T09:52:45.389510400Z",
     "start_time": "2024-05-15T09:52:45.323868200Z"
    }
   },
   "id": "8f22a8a719213df4"
  },
  {
   "cell_type": "code",
   "execution_count": 40,
   "outputs": [],
   "source": [
    "# Normalize population density\n",
    "normalize(df, 'Population.density', 'pop_density')\n",
    "df = df.drop(columns=['Population.density'])\n",
    "\n",
    "# Normalize liveability score\n",
    "normalize(df, 'liveability_score', 'liveability_score')\n",
    "df = df.drop(columns=['liveability_score'])\n",
    "\n",
    "# Calculate and normalize total aid\n",
    "df[\"Aid\"] = df[\"n_pp_w_AO\"] + df[\"n_pp_w_WW\"]\n",
    "normalize(df, \"Aid\", \"Aid\")\n",
    "df = df.drop(columns=['Aid'])\n",
    "\n",
    "# Normalize average income per recipient\n",
    "normalize(df, \"avg_income_per_recipient\", \"Income\")\n",
    "\n",
    "# Convert percentage of single-family housing to decimal and assign to new DataFrame\n",
    "df_new[\"single_family_housing\"] = df[\"percent.of.single.family.housing\"] / 100\n",
    "df = df.drop(columns=['percent.of.single.family.housing'])\n",
    "\n",
    "# Drop rows with missing values in the new DataFrame\n",
    "df_new.dropna(inplace=True)"
   ],
   "metadata": {
    "collapsed": false,
    "ExecuteTime": {
     "end_time": "2024-05-15T09:52:45.472730800Z",
     "start_time": "2024-05-15T09:52:45.385282300Z"
    }
   },
   "id": "d45f2eef93d83d57"
  },
  {
   "cell_type": "code",
   "execution_count": 42,
   "outputs": [],
   "source": [
    "# Save the new DataFrame with normalized variables to a CSV file\n",
    "df_new.to_csv(\"normalized_variables.csv\")"
   ],
   "metadata": {
    "collapsed": false,
    "ExecuteTime": {
     "end_time": "2024-05-15T09:52:45.646386700Z",
     "start_time": "2024-05-15T09:52:45.447373Z"
    }
   },
   "id": "2ab49643e8c15e4"
  }
 ],
 "metadata": {
  "kernelspec": {
   "display_name": "Python 3",
   "language": "python",
   "name": "python3"
  },
  "language_info": {
   "codemirror_mode": {
    "name": "ipython",
    "version": 2
   },
   "file_extension": ".py",
   "mimetype": "text/x-python",
   "name": "python",
   "nbconvert_exporter": "python",
   "pygments_lexer": "ipython2",
   "version": "2.7.6"
  }
 },
 "nbformat": 4,
 "nbformat_minor": 5
}

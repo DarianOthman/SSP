{
 "cells": [
  {
   "cell_type": "code",
   "execution_count": 268,
   "outputs": [
    {
     "data": {
      "text/plain": "         X  gwb_code_10    gm_naam   recs  ind_wbi  Number.of.inhabitants  \\\n2        2       340101     Almere  Buurt        3                   1580   \n3        3       340102     Almere  Buurt        3                   2860   \n4        4       340103     Almere  Buurt        3                   2410   \n5        5       340104     Almere  Buurt        3                   2260   \n6        6       340105     Almere  Buurt        3                   2255   \n...    ...          ...        ...    ...      ...                    ...   \n1246  1246      3639700  Amsterdam  Buurt        1                   2960   \n1247  1247      3639701  Amsterdam  Buurt        1                   1670   \n1248  1248      3639702  Amsterdam  Buurt        1                   3250   \n1249  1249      3639703  Amsterdam  Buurt        1                   3355   \n1250  1250      3639800  Amsterdam  Buurt        1                   1485   \n\n      Number.of.man  Number.of.women  Numbers.of.people.from.0.14.years.old  \\\n2               740              845                                    155   \n3              1375             1480                                    515   \n4              1170             1240                                    450   \n5              1100             1160                                    380   \n6              1060             1195                                    370   \n...             ...              ...                                    ...   \n1246           1490             1475                                    475   \n1247            800              865                                    305   \n1248           1650             1600                                    450   \n1249           1635             1715                                    505   \n1250            705              785                                    260   \n\n      Number.of.people.from.15.24.years.old  ...  Within5Km_105  \\\n2                                       150  ...            0.0   \n3                                       290  ...            0.0   \n4                                       295  ...            0.2   \n5                                       215  ...            0.0   \n6                                       220  ...            0.0   \n...                                     ...  ...            ...   \n1246                                    405  ...            0.1   \n1247                                    235  ...            0.3   \n1248                                    375  ...            0.0   \n1249                                    320  ...            0.1   \n1250                                    170  ...            0.0   \n\n      Within10Km_106  Within20Km_107  DistanceToSauna_108  \\\n2                1.0             3.9                  2.7   \n3                1.0             3.0                  2.6   \n4                1.0             3.2                  2.2   \n5                1.0             3.0                  3.2   \n6                1.0             3.0                  2.9   \n...              ...             ...                  ...   \n1246             1.2            15.0                  6.6   \n1247             1.0            15.0                  7.0   \n1248             1.2            15.0                  6.7   \n1249             1.0            15.0                  7.1   \n1250             1.0            17.6                  2.5   \n\n      DistanceToTanningSalon_109  DistanceToAttraction_110  Within10Km_111  \\\n2                            0.4                       2.4             4.0   \n3                            1.2                       2.3             4.0   \n4                            0.8                       1.9             4.0   \n5                            1.7                       2.8             4.0   \n6                            2.2                       2.3             4.0   \n...                          ...                       ...             ...   \n1246                         6.9                       1.3             3.0   \n1247                         7.3                       1.7             3.0   \n1248                         6.9                       0.8             3.0   \n1249                         7.3                       1.8             3.0   \n1250                         5.9                       4.8             3.0   \n\n      Within20Km_112  Within50Km_113  DistanceToFireStation_114  \n2                7.0            50.0                        4.6  \n3                6.6            49.6                        4.4  \n4                7.0            50.0                        4.2  \n5                6.4            49.0                        4.8  \n6                6.0            48.0                        4.3  \n...              ...             ...                        ...  \n1246            10.2            58.9                        2.2  \n1247            11.2            59.0                        2.6  \n1248            10.3            58.6                        2.3  \n1249            11.1            59.0                        2.7  \n1250            12.2            59.3                        0.4  \n\n[993 rows x 143 columns]",
      "text/html": "<div>\n<style scoped>\n    .dataframe tbody tr th:only-of-type {\n        vertical-align: middle;\n    }\n\n    .dataframe tbody tr th {\n        vertical-align: top;\n    }\n\n    .dataframe thead th {\n        text-align: right;\n    }\n</style>\n<table border=\"1\" class=\"dataframe\">\n  <thead>\n    <tr style=\"text-align: right;\">\n      <th></th>\n      <th>X</th>\n      <th>gwb_code_10</th>\n      <th>gm_naam</th>\n      <th>recs</th>\n      <th>ind_wbi</th>\n      <th>Number.of.inhabitants</th>\n      <th>Number.of.man</th>\n      <th>Number.of.women</th>\n      <th>Numbers.of.people.from.0.14.years.old</th>\n      <th>Number.of.people.from.15.24.years.old</th>\n      <th>...</th>\n      <th>Within5Km_105</th>\n      <th>Within10Km_106</th>\n      <th>Within20Km_107</th>\n      <th>DistanceToSauna_108</th>\n      <th>DistanceToTanningSalon_109</th>\n      <th>DistanceToAttraction_110</th>\n      <th>Within10Km_111</th>\n      <th>Within20Km_112</th>\n      <th>Within50Km_113</th>\n      <th>DistanceToFireStation_114</th>\n    </tr>\n  </thead>\n  <tbody>\n    <tr>\n      <th>2</th>\n      <td>2</td>\n      <td>340101</td>\n      <td>Almere</td>\n      <td>Buurt</td>\n      <td>3</td>\n      <td>1580</td>\n      <td>740</td>\n      <td>845</td>\n      <td>155</td>\n      <td>150</td>\n      <td>...</td>\n      <td>0.0</td>\n      <td>1.0</td>\n      <td>3.9</td>\n      <td>2.7</td>\n      <td>0.4</td>\n      <td>2.4</td>\n      <td>4.0</td>\n      <td>7.0</td>\n      <td>50.0</td>\n      <td>4.6</td>\n    </tr>\n    <tr>\n      <th>3</th>\n      <td>3</td>\n      <td>340102</td>\n      <td>Almere</td>\n      <td>Buurt</td>\n      <td>3</td>\n      <td>2860</td>\n      <td>1375</td>\n      <td>1480</td>\n      <td>515</td>\n      <td>290</td>\n      <td>...</td>\n      <td>0.0</td>\n      <td>1.0</td>\n      <td>3.0</td>\n      <td>2.6</td>\n      <td>1.2</td>\n      <td>2.3</td>\n      <td>4.0</td>\n      <td>6.6</td>\n      <td>49.6</td>\n      <td>4.4</td>\n    </tr>\n    <tr>\n      <th>4</th>\n      <td>4</td>\n      <td>340103</td>\n      <td>Almere</td>\n      <td>Buurt</td>\n      <td>3</td>\n      <td>2410</td>\n      <td>1170</td>\n      <td>1240</td>\n      <td>450</td>\n      <td>295</td>\n      <td>...</td>\n      <td>0.2</td>\n      <td>1.0</td>\n      <td>3.2</td>\n      <td>2.2</td>\n      <td>0.8</td>\n      <td>1.9</td>\n      <td>4.0</td>\n      <td>7.0</td>\n      <td>50.0</td>\n      <td>4.2</td>\n    </tr>\n    <tr>\n      <th>5</th>\n      <td>5</td>\n      <td>340104</td>\n      <td>Almere</td>\n      <td>Buurt</td>\n      <td>3</td>\n      <td>2260</td>\n      <td>1100</td>\n      <td>1160</td>\n      <td>380</td>\n      <td>215</td>\n      <td>...</td>\n      <td>0.0</td>\n      <td>1.0</td>\n      <td>3.0</td>\n      <td>3.2</td>\n      <td>1.7</td>\n      <td>2.8</td>\n      <td>4.0</td>\n      <td>6.4</td>\n      <td>49.0</td>\n      <td>4.8</td>\n    </tr>\n    <tr>\n      <th>6</th>\n      <td>6</td>\n      <td>340105</td>\n      <td>Almere</td>\n      <td>Buurt</td>\n      <td>3</td>\n      <td>2255</td>\n      <td>1060</td>\n      <td>1195</td>\n      <td>370</td>\n      <td>220</td>\n      <td>...</td>\n      <td>0.0</td>\n      <td>1.0</td>\n      <td>3.0</td>\n      <td>2.9</td>\n      <td>2.2</td>\n      <td>2.3</td>\n      <td>4.0</td>\n      <td>6.0</td>\n      <td>48.0</td>\n      <td>4.3</td>\n    </tr>\n    <tr>\n      <th>...</th>\n      <td>...</td>\n      <td>...</td>\n      <td>...</td>\n      <td>...</td>\n      <td>...</td>\n      <td>...</td>\n      <td>...</td>\n      <td>...</td>\n      <td>...</td>\n      <td>...</td>\n      <td>...</td>\n      <td>...</td>\n      <td>...</td>\n      <td>...</td>\n      <td>...</td>\n      <td>...</td>\n      <td>...</td>\n      <td>...</td>\n      <td>...</td>\n      <td>...</td>\n      <td>...</td>\n    </tr>\n    <tr>\n      <th>1246</th>\n      <td>1246</td>\n      <td>3639700</td>\n      <td>Amsterdam</td>\n      <td>Buurt</td>\n      <td>1</td>\n      <td>2960</td>\n      <td>1490</td>\n      <td>1475</td>\n      <td>475</td>\n      <td>405</td>\n      <td>...</td>\n      <td>0.1</td>\n      <td>1.2</td>\n      <td>15.0</td>\n      <td>6.6</td>\n      <td>6.9</td>\n      <td>1.3</td>\n      <td>3.0</td>\n      <td>10.2</td>\n      <td>58.9</td>\n      <td>2.2</td>\n    </tr>\n    <tr>\n      <th>1247</th>\n      <td>1247</td>\n      <td>3639701</td>\n      <td>Amsterdam</td>\n      <td>Buurt</td>\n      <td>1</td>\n      <td>1670</td>\n      <td>800</td>\n      <td>865</td>\n      <td>305</td>\n      <td>235</td>\n      <td>...</td>\n      <td>0.3</td>\n      <td>1.0</td>\n      <td>15.0</td>\n      <td>7.0</td>\n      <td>7.3</td>\n      <td>1.7</td>\n      <td>3.0</td>\n      <td>11.2</td>\n      <td>59.0</td>\n      <td>2.6</td>\n    </tr>\n    <tr>\n      <th>1248</th>\n      <td>1248</td>\n      <td>3639702</td>\n      <td>Amsterdam</td>\n      <td>Buurt</td>\n      <td>1</td>\n      <td>3250</td>\n      <td>1650</td>\n      <td>1600</td>\n      <td>450</td>\n      <td>375</td>\n      <td>...</td>\n      <td>0.0</td>\n      <td>1.2</td>\n      <td>15.0</td>\n      <td>6.7</td>\n      <td>6.9</td>\n      <td>0.8</td>\n      <td>3.0</td>\n      <td>10.3</td>\n      <td>58.6</td>\n      <td>2.3</td>\n    </tr>\n    <tr>\n      <th>1249</th>\n      <td>1249</td>\n      <td>3639703</td>\n      <td>Amsterdam</td>\n      <td>Buurt</td>\n      <td>1</td>\n      <td>3355</td>\n      <td>1635</td>\n      <td>1715</td>\n      <td>505</td>\n      <td>320</td>\n      <td>...</td>\n      <td>0.1</td>\n      <td>1.0</td>\n      <td>15.0</td>\n      <td>7.1</td>\n      <td>7.3</td>\n      <td>1.8</td>\n      <td>3.0</td>\n      <td>11.1</td>\n      <td>59.0</td>\n      <td>2.7</td>\n    </tr>\n    <tr>\n      <th>1250</th>\n      <td>1250</td>\n      <td>3639800</td>\n      <td>Amsterdam</td>\n      <td>Buurt</td>\n      <td>1</td>\n      <td>1485</td>\n      <td>705</td>\n      <td>785</td>\n      <td>260</td>\n      <td>170</td>\n      <td>...</td>\n      <td>0.0</td>\n      <td>1.0</td>\n      <td>17.6</td>\n      <td>2.5</td>\n      <td>5.9</td>\n      <td>4.8</td>\n      <td>3.0</td>\n      <td>12.2</td>\n      <td>59.3</td>\n      <td>0.4</td>\n    </tr>\n  </tbody>\n</table>\n<p>993 rows × 143 columns</p>\n</div>"
     },
     "execution_count": 268,
     "metadata": {},
     "output_type": "execute_result"
    }
   ],
   "source": [
    "import pandas as pd\n",
    "df = pd.read_csv(\"data_preprocessed.csv\", index_col=0)  \n",
    "df"
   ],
   "metadata": {
    "collapsed": false,
    "ExecuteTime": {
     "end_time": "2024-05-08T12:26:59.725163500Z",
     "start_time": "2024-05-08T12:26:59.617318900Z"
    }
   },
   "id": "f429e95e2a132739"
  },
  {
   "cell_type": "code",
   "execution_count": 269,
   "outputs": [
    {
     "name": "stderr",
     "output_type": "stream",
     "text": [
      "C:\\Users\\I6240624\\AppData\\Local\\Temp\\ipykernel_3816\\444341776.py:12: FutureWarning: Series.__getitem__ treating keys as positions is deprecated. In a future version, integer keys will always be treated as labels (consistent with DataFrame behavior). To access a value by position, use `ser.iloc[pos]`\n",
      "  average_value = (row1[-1] + row2[-1]) / 2\n",
      "C:\\Users\\I6240624\\AppData\\Local\\Temp\\ipykernel_3816\\444341776.py:15: FutureWarning: Series.__getitem__ treating keys as positions is deprecated. In a future version, integer keys will always be treated as labels (consistent with DataFrame behavior). To access a value by position, use `ser.iloc[pos]`\n",
      "  new_row = [max(row1[0], row2[0]), 2021, average_value]\n"
     ]
    }
   ],
   "source": [
    "df_wijk = pd.read_csv(\"Leefbaarometer-scores wijken 2002-2022.csv\")\n",
    "df_wijk=df_wijk.iloc[:,:4]\n",
    "df_wijk=df_wijk[(df_wijk['jaar']==2020) | (df_wijk['jaar']==2022)]\n",
    "df_wijk[\"wk_code\"]=df_wijk[\"wk_code\"].apply(lambda x: x[2:])\n",
    "df_wijk.rename(columns={'wk_naam': 'name'}, inplace=True)\n",
    "df_all = []\n",
    "for i in range(0, len(df_wijk)-1, 2):\n",
    "    row1 = df_wijk.iloc[i]\n",
    "    row2 = df_wijk.iloc[i+1]\n",
    "    \n",
    "    # Calculate the average of the last column values\n",
    "    average_value = (row1[-1] + row2[-1]) / 2\n",
    "    \n",
    "    # Create a new row with the average value\n",
    "    new_row = [max(row1[0], row2[0]), 2021, average_value]\n",
    "    \n",
    "    # Append the new row to the averaged df_wijk\n",
    "    df_all.append(new_row)\n"
   ],
   "metadata": {
    "collapsed": false,
    "ExecuteTime": {
     "end_time": "2024-05-08T12:27:02.001692300Z",
     "start_time": "2024-05-08T12:26:59.693249400Z"
    }
   },
   "id": "8268702833a2b2e"
  },
  {
   "cell_type": "code",
   "execution_count": 270,
   "outputs": [
    {
     "name": "stderr",
     "output_type": "stream",
     "text": [
      "C:\\Users\\I6240624\\AppData\\Local\\Temp\\ipykernel_3816\\3285892393.py:11: FutureWarning: Series.__getitem__ treating keys as positions is deprecated. In a future version, integer keys will always be treated as labels (consistent with DataFrame behavior). To access a value by position, use `ser.iloc[pos]`\n",
      "  average_value = (row1[-1] + row2[-1]) / 2\n",
      "C:\\Users\\I6240624\\AppData\\Local\\Temp\\ipykernel_3816\\3285892393.py:14: FutureWarning: Series.__getitem__ treating keys as positions is deprecated. In a future version, integer keys will always be treated as labels (consistent with DataFrame behavior). To access a value by position, use `ser.iloc[pos]`\n",
      "  new_row = [max(row1[0], row2[0]), 2021, average_value]\n"
     ]
    }
   ],
   "source": [
    "df_buurt = pd.read_csv(\"Leefbaarometer-scores buurten 2002-2022.csv\")\n",
    "df_buurt=df_buurt.iloc[:,:4]\n",
    "df_buurt=df_buurt[(df_buurt['jaar']==2020) | (df_buurt['jaar']==2022)]\n",
    "df_buurt[\"bu_code\"]=df_buurt[\"bu_code\"].apply(lambda x: x[2:])\n",
    "df_buurt.rename(columns={'bu_naam': 'name'}, inplace=True)\n",
    "for i in range(0, len(df_buurt)-1, 2):\n",
    "    row1 = df_buurt.iloc[i]\n",
    "    row2 = df_buurt.iloc[i+1]\n",
    "    \n",
    "    # Calculate the average of the last column values\n",
    "    average_value = (row1[-1] + row2[-1]) / 2\n",
    "    \n",
    "    # Create a new row with the average value\n",
    "    new_row = [max(row1[0], row2[0]), 2021, average_value]\n",
    "    \n",
    "    # Append the new row to the averaged df_wijk\n",
    "    df_all.append(new_row)\n",
    "df_all = pd.DataFrame(df_all, columns=[\"code\", \"year\", \"liveability_score\"])\n",
    "df_all[\"code\"] = df_all[\"code\"].astype(int)"
   ],
   "metadata": {
    "collapsed": false,
    "ExecuteTime": {
     "end_time": "2024-05-08T12:27:07.793310700Z",
     "start_time": "2024-05-08T12:27:01.983740900Z"
    }
   },
   "id": "a11438d1d1ad7b50"
  },
  {
   "cell_type": "code",
   "execution_count": 271,
   "outputs": [],
   "source": [
    "df=pd.merge(df, df_all, left_on=\"gwb_code_10\",right_on=\"code\", how='inner')"
   ],
   "metadata": {
    "collapsed": false,
    "ExecuteTime": {
     "end_time": "2024-05-08T12:27:07.845172Z",
     "start_time": "2024-05-08T12:27:07.793310700Z"
    }
   },
   "id": "aa2154366a64bfbf"
  },
  {
   "cell_type": "code",
   "execution_count": 272,
   "outputs": [],
   "source": [
    "from sklearn.preprocessing import StandardScaler\n",
    "\n",
    "# Initialize StandardScaler\n",
    "scaler = StandardScaler()\n",
    "\n",
    "# Fit and transform the column\n"
   ],
   "metadata": {
    "collapsed": false,
    "ExecuteTime": {
     "end_time": "2024-05-08T12:27:07.845172Z",
     "start_time": "2024-05-08T12:27:07.828217600Z"
    }
   },
   "id": "c43166f97af31f71"
  },
  {
   "cell_type": "code",
   "execution_count": 273,
   "outputs": [],
   "source": [
    "df_new=pd.DataFrame()\n",
    "def calculate_proportions(df1, col1, col2, col3):\n",
    "    df_new[col1] = df1[col2] / df1[col3]\n",
    "    return df_new\n",
    "\n",
    "def normalize(df, col1, col2):\n",
    "    min_density = df[col1].min()\n",
    "    max_density = df[col1].max()\n",
    "    df_new[col2] =(df[col1] - min_density) / (max_density - min_density)\n",
    "    return df_new"
   ],
   "metadata": {
    "collapsed": false,
    "ExecuteTime": {
     "end_time": "2024-05-08T12:27:07.901022300Z",
     "start_time": "2024-05-08T12:27:07.843177300Z"
    }
   },
   "id": "a6b7b28711653dd2"
  },
  {
   "cell_type": "code",
   "execution_count": 274,
   "outputs": [
    {
     "data": {
      "text/plain": "        X  gwb_code_10    gm_naam   recs  ind_wbi  Number.of.inhabitants  \\\n0       2       340101     Almere  Buurt        3                   1580   \n1       3       340102     Almere  Buurt        3                   2860   \n2      16       340201     Almere  Buurt        3                   4755   \n3      17       340202     Almere  Buurt        3                  10430   \n4      18       340203     Almere  Buurt        3                   5710   \n..    ...          ...        ...    ...      ...                    ...   \n957  1246      3639700  Amsterdam  Buurt        1                   2960   \n958  1247      3639701  Amsterdam  Buurt        1                   1670   \n959  1248      3639702  Amsterdam  Buurt        1                   3250   \n960  1249      3639703  Amsterdam  Buurt        1                   3355   \n961  1250      3639800  Amsterdam  Buurt        1                   1485   \n\n     Number.of.man  Number.of.women  Numbers.of.people.from.0.14.years.old  \\\n0              740              845                                    155   \n1             1375             1480                                    515   \n2             2470             2290                                    555   \n3             5080             5345                                   1570   \n4             2875             2835                                   1035   \n..             ...              ...                                    ...   \n957           1490             1475                                    475   \n958            800              865                                    305   \n959           1650             1600                                    450   \n960           1635             1715                                    505   \n961            705              785                                    260   \n\n     Number.of.people.from.15.24.years.old  ...  DistanceToSauna_108  \\\n0                                      150  ...                  2.7   \n1                                      290  ...                  2.6   \n2                                      460  ...                  2.0   \n3                                     1645  ...                  3.3   \n4                                      890  ...                  4.5   \n..                                     ...  ...                  ...   \n957                                    405  ...                  6.6   \n958                                    235  ...                  7.0   \n959                                    375  ...                  6.7   \n960                                    320  ...                  7.1   \n961                                    170  ...                  2.5   \n\n     DistanceToTanningSalon_109  DistanceToAttraction_110  Within10Km_111  \\\n0                           0.4                       2.4             4.0   \n1                           1.2                       2.3             4.0   \n2                           0.5                       3.8             4.0   \n3                           1.3                       3.8             4.0   \n4                           2.6                       3.1             4.0   \n..                          ...                       ...             ...   \n957                         6.9                       1.3             3.0   \n958                         7.3                       1.7             3.0   \n959                         6.9                       0.8             3.0   \n960                         7.3                       1.8             3.0   \n961                         5.9                       4.8             3.0   \n\n     Within20Km_112  Within50Km_113  DistanceToFireStation_114     code  year  \\\n0               7.0            50.0                        4.6   340101  2021   \n1               6.6            49.6                        4.4   340102  2021   \n2               6.0            46.8                        1.2   340201  2021   \n3               5.9            45.0                        1.4   340202  2021   \n4               5.2            44.2                        1.6   340203  2021   \n..              ...             ...                        ...      ...   ...   \n957            10.2            58.9                        2.2  3639700  2021   \n958            11.2            59.0                        2.6  3639701  2021   \n959            10.3            58.6                        2.3  3639702  2021   \n960            11.1            59.0                        2.7  3639703  2021   \n961            12.2            59.3                        0.4  3639800  2021   \n\n     liveability_score  \n0             4.113391  \n1             3.965993  \n2             4.035158  \n3             4.031153  \n4             3.966037  \n..                 ...  \n957           3.866068  \n958           3.750136  \n959           3.857822  \n960           3.931361  \n961           3.966485  \n\n[962 rows x 146 columns]",
      "text/html": "<div>\n<style scoped>\n    .dataframe tbody tr th:only-of-type {\n        vertical-align: middle;\n    }\n\n    .dataframe tbody tr th {\n        vertical-align: top;\n    }\n\n    .dataframe thead th {\n        text-align: right;\n    }\n</style>\n<table border=\"1\" class=\"dataframe\">\n  <thead>\n    <tr style=\"text-align: right;\">\n      <th></th>\n      <th>X</th>\n      <th>gwb_code_10</th>\n      <th>gm_naam</th>\n      <th>recs</th>\n      <th>ind_wbi</th>\n      <th>Number.of.inhabitants</th>\n      <th>Number.of.man</th>\n      <th>Number.of.women</th>\n      <th>Numbers.of.people.from.0.14.years.old</th>\n      <th>Number.of.people.from.15.24.years.old</th>\n      <th>...</th>\n      <th>DistanceToSauna_108</th>\n      <th>DistanceToTanningSalon_109</th>\n      <th>DistanceToAttraction_110</th>\n      <th>Within10Km_111</th>\n      <th>Within20Km_112</th>\n      <th>Within50Km_113</th>\n      <th>DistanceToFireStation_114</th>\n      <th>code</th>\n      <th>year</th>\n      <th>liveability_score</th>\n    </tr>\n  </thead>\n  <tbody>\n    <tr>\n      <th>0</th>\n      <td>2</td>\n      <td>340101</td>\n      <td>Almere</td>\n      <td>Buurt</td>\n      <td>3</td>\n      <td>1580</td>\n      <td>740</td>\n      <td>845</td>\n      <td>155</td>\n      <td>150</td>\n      <td>...</td>\n      <td>2.7</td>\n      <td>0.4</td>\n      <td>2.4</td>\n      <td>4.0</td>\n      <td>7.0</td>\n      <td>50.0</td>\n      <td>4.6</td>\n      <td>340101</td>\n      <td>2021</td>\n      <td>4.113391</td>\n    </tr>\n    <tr>\n      <th>1</th>\n      <td>3</td>\n      <td>340102</td>\n      <td>Almere</td>\n      <td>Buurt</td>\n      <td>3</td>\n      <td>2860</td>\n      <td>1375</td>\n      <td>1480</td>\n      <td>515</td>\n      <td>290</td>\n      <td>...</td>\n      <td>2.6</td>\n      <td>1.2</td>\n      <td>2.3</td>\n      <td>4.0</td>\n      <td>6.6</td>\n      <td>49.6</td>\n      <td>4.4</td>\n      <td>340102</td>\n      <td>2021</td>\n      <td>3.965993</td>\n    </tr>\n    <tr>\n      <th>2</th>\n      <td>16</td>\n      <td>340201</td>\n      <td>Almere</td>\n      <td>Buurt</td>\n      <td>3</td>\n      <td>4755</td>\n      <td>2470</td>\n      <td>2290</td>\n      <td>555</td>\n      <td>460</td>\n      <td>...</td>\n      <td>2.0</td>\n      <td>0.5</td>\n      <td>3.8</td>\n      <td>4.0</td>\n      <td>6.0</td>\n      <td>46.8</td>\n      <td>1.2</td>\n      <td>340201</td>\n      <td>2021</td>\n      <td>4.035158</td>\n    </tr>\n    <tr>\n      <th>3</th>\n      <td>17</td>\n      <td>340202</td>\n      <td>Almere</td>\n      <td>Buurt</td>\n      <td>3</td>\n      <td>10430</td>\n      <td>5080</td>\n      <td>5345</td>\n      <td>1570</td>\n      <td>1645</td>\n      <td>...</td>\n      <td>3.3</td>\n      <td>1.3</td>\n      <td>3.8</td>\n      <td>4.0</td>\n      <td>5.9</td>\n      <td>45.0</td>\n      <td>1.4</td>\n      <td>340202</td>\n      <td>2021</td>\n      <td>4.031153</td>\n    </tr>\n    <tr>\n      <th>4</th>\n      <td>18</td>\n      <td>340203</td>\n      <td>Almere</td>\n      <td>Buurt</td>\n      <td>3</td>\n      <td>5710</td>\n      <td>2875</td>\n      <td>2835</td>\n      <td>1035</td>\n      <td>890</td>\n      <td>...</td>\n      <td>4.5</td>\n      <td>2.6</td>\n      <td>3.1</td>\n      <td>4.0</td>\n      <td>5.2</td>\n      <td>44.2</td>\n      <td>1.6</td>\n      <td>340203</td>\n      <td>2021</td>\n      <td>3.966037</td>\n    </tr>\n    <tr>\n      <th>...</th>\n      <td>...</td>\n      <td>...</td>\n      <td>...</td>\n      <td>...</td>\n      <td>...</td>\n      <td>...</td>\n      <td>...</td>\n      <td>...</td>\n      <td>...</td>\n      <td>...</td>\n      <td>...</td>\n      <td>...</td>\n      <td>...</td>\n      <td>...</td>\n      <td>...</td>\n      <td>...</td>\n      <td>...</td>\n      <td>...</td>\n      <td>...</td>\n      <td>...</td>\n      <td>...</td>\n    </tr>\n    <tr>\n      <th>957</th>\n      <td>1246</td>\n      <td>3639700</td>\n      <td>Amsterdam</td>\n      <td>Buurt</td>\n      <td>1</td>\n      <td>2960</td>\n      <td>1490</td>\n      <td>1475</td>\n      <td>475</td>\n      <td>405</td>\n      <td>...</td>\n      <td>6.6</td>\n      <td>6.9</td>\n      <td>1.3</td>\n      <td>3.0</td>\n      <td>10.2</td>\n      <td>58.9</td>\n      <td>2.2</td>\n      <td>3639700</td>\n      <td>2021</td>\n      <td>3.866068</td>\n    </tr>\n    <tr>\n      <th>958</th>\n      <td>1247</td>\n      <td>3639701</td>\n      <td>Amsterdam</td>\n      <td>Buurt</td>\n      <td>1</td>\n      <td>1670</td>\n      <td>800</td>\n      <td>865</td>\n      <td>305</td>\n      <td>235</td>\n      <td>...</td>\n      <td>7.0</td>\n      <td>7.3</td>\n      <td>1.7</td>\n      <td>3.0</td>\n      <td>11.2</td>\n      <td>59.0</td>\n      <td>2.6</td>\n      <td>3639701</td>\n      <td>2021</td>\n      <td>3.750136</td>\n    </tr>\n    <tr>\n      <th>959</th>\n      <td>1248</td>\n      <td>3639702</td>\n      <td>Amsterdam</td>\n      <td>Buurt</td>\n      <td>1</td>\n      <td>3250</td>\n      <td>1650</td>\n      <td>1600</td>\n      <td>450</td>\n      <td>375</td>\n      <td>...</td>\n      <td>6.7</td>\n      <td>6.9</td>\n      <td>0.8</td>\n      <td>3.0</td>\n      <td>10.3</td>\n      <td>58.6</td>\n      <td>2.3</td>\n      <td>3639702</td>\n      <td>2021</td>\n      <td>3.857822</td>\n    </tr>\n    <tr>\n      <th>960</th>\n      <td>1249</td>\n      <td>3639703</td>\n      <td>Amsterdam</td>\n      <td>Buurt</td>\n      <td>1</td>\n      <td>3355</td>\n      <td>1635</td>\n      <td>1715</td>\n      <td>505</td>\n      <td>320</td>\n      <td>...</td>\n      <td>7.1</td>\n      <td>7.3</td>\n      <td>1.8</td>\n      <td>3.0</td>\n      <td>11.1</td>\n      <td>59.0</td>\n      <td>2.7</td>\n      <td>3639703</td>\n      <td>2021</td>\n      <td>3.931361</td>\n    </tr>\n    <tr>\n      <th>961</th>\n      <td>1250</td>\n      <td>3639800</td>\n      <td>Amsterdam</td>\n      <td>Buurt</td>\n      <td>1</td>\n      <td>1485</td>\n      <td>705</td>\n      <td>785</td>\n      <td>260</td>\n      <td>170</td>\n      <td>...</td>\n      <td>2.5</td>\n      <td>5.9</td>\n      <td>4.8</td>\n      <td>3.0</td>\n      <td>12.2</td>\n      <td>59.3</td>\n      <td>0.4</td>\n      <td>3639800</td>\n      <td>2021</td>\n      <td>3.966485</td>\n    </tr>\n  </tbody>\n</table>\n<p>962 rows × 146 columns</p>\n</div>"
     },
     "execution_count": 274,
     "metadata": {},
     "output_type": "execute_result"
    }
   ],
   "source": [
    "df"
   ],
   "metadata": {
    "collapsed": false,
    "ExecuteTime": {
     "end_time": "2024-05-08T12:27:07.964852900Z",
     "start_time": "2024-05-08T12:27:07.875091700Z"
    }
   },
   "id": "4ca49286b79bf082"
  },
  {
   "cell_type": "code",
   "execution_count": 275,
   "outputs": [],
   "source": [
    "calculate_proportions(df, 'prop_0-14', 'Numbers.of.people.from.0.14.years.old', 'Number.of.inhabitants')\n",
    "df=df.drop(columns=['Numbers.of.people.from.0.14.years.old'])\n",
    "calculate_proportions(df, 'prop_15-24', 'Number.of.people.from.15.24.years.old', 'Number.of.inhabitants')\n",
    "df=df.drop(columns=['Number.of.people.from.15.24.years.old'])\n",
    "calculate_proportions(df, 'prop_25-44', 'Number.of.people.from.25.44.years.old', 'Number.of.inhabitants')\n",
    "df=df.drop(columns=['Number.of.people.from.25.44.years.old'])\n",
    "calculate_proportions(df, 'prop_45-64', 'Number.of.people.from.45.64.years.old', 'Number.of.inhabitants')\n",
    "df=df.drop(columns=['Number.of.people.from.45.64.years.old'])\n",
    "calculate_proportions(df, 'prop_65+', 'Number.of.people....65.years.old', 'Number.of.inhabitants')\n",
    "df=df.drop(columns=['Number.of.people....65.years.old'])\n",
    "calculate_proportions(df, 'prop_low_ed', 'n_low_educated', 'Number.of.inhabitants')\n",
    "df=df.drop(columns=['n_low_educated'])\n",
    "calculate_proportions(df, 'prop_med_ed', 'n_highschool_educated', 'Number.of.inhabitants')\n",
    "df=df.drop(columns=['n_highschool_educated'])\n",
    "calculate_proportions(df, 'prop_high_ed', 'n_highly_educated', 'Number.of.inhabitants')\n",
    "df=df.drop(columns=['n_highly_educated'])\n",
    "calculate_proportions(df, 'prop_recipients', 'n_income_recipients', 'Number.of.inhabitants')\n",
    "df_new['prop_employee']=((df[\"Number.of.inhabitants\"]-df['n_income_recipients'])*(df['p_employees']/100))/df[\"Number.of.inhabitants\"]\n",
    "df_new[\"prop_self_employed\"]=1-df_new['prop_employee']-df_new['prop_recipients']\n",
    "df=df.drop(columns=['n_income_recipients'])\n",
    "calculate_proportions(df, 'prop_men', 'Number.of.man', 'Number.of.inhabitants')\n",
    "df=df.drop(columns=['Number.of.man'])\n",
    "calculate_proportions(df, 'prop_women', 'Number.of.women', 'Number.of.inhabitants')\n",
    "df=df.drop(columns=['Number.of.women'])\n"
   ],
   "metadata": {
    "collapsed": false,
    "ExecuteTime": {
     "end_time": "2024-05-08T12:27:08.116445800Z",
     "start_time": "2024-05-08T12:27:07.935930900Z"
    }
   },
   "id": "8f22a8a719213df4"
  },
  {
   "cell_type": "code",
   "execution_count": 276,
   "outputs": [],
   "source": [
    "normalize(df, 'Population.density', 'pop_density')\n",
    "df=df.drop(columns=['Population.density'])\n",
    "normalize(df, 'avg_income_per_recipient', 'income')\n",
    "df=df.drop(columns=['avg_income_per_recipient'])\n",
    "normalize(df, 'liveability_score', 'liveability_score')\n",
    "df=df.drop(columns=['liveability_score'])\n",
    "normalize(df, \"Number.of.inhabitants\", \"inhabitants\")\n",
    "df=df.drop(columns=['Number.of.inhabitants'])\n",
    "normalize(df, \"Average.household.size\", \"household_size\")\n",
    "df=df.drop(columns=['Average.household.size'])\n",
    "normalize(df, \"Number.of.households\", \"households\")\n",
    "df=df.drop(columns=['Number.of.households'])\n",
    "normalize(df, \"n_pp_w_assitance\", \"assistance\")\n",
    "df=df.drop(columns=['n_pp_w_assitance'])\n",
    "normalize(df,\"n_pp_w_AO\",\"AO\")\n",
    "df=df.drop(columns=['n_pp_w_AO'])\n",
    "normalize(df,\"n_pp_w_WW\",\"WW\")\n",
    "df=df.drop(columns=['n_pp_w_WW'])\n",
    "normalize(df,\"n_pp_w_state_pension\",\"Pension\")\n",
    "df=df.drop(columns=['n_pp_w_state_pension'])\n",
    "\n",
    "df_new[\"p_belong_40p_w_lowest_income\"]=df[\"p_belong_40p_w_lowest_income\"]/100\n",
    "df=df.drop(columns=['p_belong_40p_w_lowest_income'])\n",
    "df_new[\"p_belong_20p_w_highest_income\"]=df[\"p_belong_20p_w_highest_income\"]/100\n",
    "df=df.drop(columns=['p_belong_20p_w_highest_income'])\n",
    "df_new[\"p_household_lowest_40p_income\"]=df[\"p_household_lowest_40p_income\"]/100\n",
    "df=df.drop(columns=['p_household_lowest_40p_income'])\n",
    "df_new[\"p_household_highest_20p_income\"]=df[\"p_household_highest_20p_income\"]/100\n",
    "df=df.drop(columns=['p_household_highest_20p_income'])\n",
    "df_new[\"p_household_smaller_bare_social_minimum\"]=df[\"p_household_smaller_bare_social_minimum\"]/100\n",
    "df=df.drop(columns=['p_household_smaller_bare_social_minimum'])\n",
    "df=df.drop(columns=['p_low_income_household'])\n",
    "df_new[\"p_household_upto_110p_social_minimum\"]=df[\"p_household_upto_110p_social_minimum\"]/100\n",
    "df=df.drop(columns=['p_household_upto_110p_social_minimum'])\n",
    "df_new[\"p_household_120p_social_minimum\"]=df[\"p_househould_upto_120p_social_minimum\"]/100\n",
    "df=df.drop(columns=['p_househould_upto_120p_social_minimum'])\n",
    "df_new[\"single_family_housing\"]=df[\"percent.of.single.family.housing\"]/100\n",
    "df=df.drop(columns=['percent.of.single.family.housing'])\n",
    "df_new[\"multi_family_housing\"]=df[\"percent.of.multifamily.housing\"]/100\n",
    "df=df.drop(columns=['percent.of.multifamily.housing'])\n",
    "df_new.dropna(inplace=True)"
   ],
   "metadata": {
    "collapsed": false,
    "ExecuteTime": {
     "end_time": "2024-05-08T12:27:08.117444700Z",
     "start_time": "2024-05-08T12:27:07.997765700Z"
    }
   },
   "id": "d45f2eef93d83d57"
  },
  {
   "cell_type": "code",
   "execution_count": 277,
   "outputs": [
    {
     "data": {
      "text/plain": "        X  gwb_code_10    gm_naam   recs  ind_wbi  NonDutch.EU  \\\n0       2       340101     Almere  Buurt        3          190   \n1       3       340102     Almere  Buurt        3          280   \n2      16       340201     Almere  Buurt        3          710   \n3      17       340202     Almere  Buurt        3         1235   \n4      18       340203     Almere  Buurt        3          620   \n..    ...          ...        ...    ...      ...          ...   \n957  1246      3639700  Amsterdam  Buurt        1          350   \n958  1247      3639701  Amsterdam  Buurt        1          160   \n959  1248      3639702  Amsterdam  Buurt        1          455   \n960  1249      3639703  Amsterdam  Buurt        1          380   \n961  1250      3639800  Amsterdam  Buurt        1          150   \n\n     NonDutch.NonEU  Number.of.people.from.Marocco  \\\n0               410                             30   \n1               750                            165   \n2              2085                            180   \n3              3450                            350   \n4              2345                            260   \n..              ...                            ...   \n957            1855                             85   \n958            1200                             45   \n959            1110                              5   \n960            1730                             75   \n961             185                             20   \n\n     Number.of.people.from.Dutch.territories  Number.of.people.from.Surinaam  \\\n0                                         55                             120   \n1                                         75                             195   \n2                                        215                             625   \n3                                        235                            1055   \n4                                        180                             810   \n..                                       ...                             ...   \n957                                      145                             845   \n958                                       70                             470   \n959                                       50                             570   \n960                                      125                             840   \n961                                       20                              80   \n\n     ...  Within20Km_107  DistanceToSauna_108  DistanceToTanningSalon_109  \\\n0    ...             3.9                  2.7                         0.4   \n1    ...             3.0                  2.6                         1.2   \n2    ...             3.0                  2.0                         0.5   \n3    ...             3.0                  3.3                         1.3   \n4    ...             3.0                  4.5                         2.6   \n..   ...             ...                  ...                         ...   \n957  ...            15.0                  6.6                         6.9   \n958  ...            15.0                  7.0                         7.3   \n959  ...            15.0                  6.7                         6.9   \n960  ...            15.0                  7.1                         7.3   \n961  ...            17.6                  2.5                         5.9   \n\n     DistanceToAttraction_110  Within10Km_111  Within20Km_112  Within50Km_113  \\\n0                         2.4             4.0             7.0            50.0   \n1                         2.3             4.0             6.6            49.6   \n2                         3.8             4.0             6.0            46.8   \n3                         3.8             4.0             5.9            45.0   \n4                         3.1             4.0             5.2            44.2   \n..                        ...             ...             ...             ...   \n957                       1.3             3.0            10.2            58.9   \n958                       1.7             3.0            11.2            59.0   \n959                       0.8             3.0            10.3            58.6   \n960                       1.8             3.0            11.1            59.0   \n961                       4.8             3.0            12.2            59.3   \n\n     DistanceToFireStation_114     code  year  \n0                          4.6   340101  2021  \n1                          4.4   340102  2021  \n2                          1.2   340201  2021  \n3                          1.4   340202  2021  \n4                          1.6   340203  2021  \n..                         ...      ...   ...  \n957                        2.2  3639700  2021  \n958                        2.6  3639701  2021  \n959                        2.3  3639702  2021  \n960                        2.7  3639703  2021  \n961                        0.4  3639800  2021  \n\n[962 rows x 115 columns]",
      "text/html": "<div>\n<style scoped>\n    .dataframe tbody tr th:only-of-type {\n        vertical-align: middle;\n    }\n\n    .dataframe tbody tr th {\n        vertical-align: top;\n    }\n\n    .dataframe thead th {\n        text-align: right;\n    }\n</style>\n<table border=\"1\" class=\"dataframe\">\n  <thead>\n    <tr style=\"text-align: right;\">\n      <th></th>\n      <th>X</th>\n      <th>gwb_code_10</th>\n      <th>gm_naam</th>\n      <th>recs</th>\n      <th>ind_wbi</th>\n      <th>NonDutch.EU</th>\n      <th>NonDutch.NonEU</th>\n      <th>Number.of.people.from.Marocco</th>\n      <th>Number.of.people.from.Dutch.territories</th>\n      <th>Number.of.people.from.Surinaam</th>\n      <th>...</th>\n      <th>Within20Km_107</th>\n      <th>DistanceToSauna_108</th>\n      <th>DistanceToTanningSalon_109</th>\n      <th>DistanceToAttraction_110</th>\n      <th>Within10Km_111</th>\n      <th>Within20Km_112</th>\n      <th>Within50Km_113</th>\n      <th>DistanceToFireStation_114</th>\n      <th>code</th>\n      <th>year</th>\n    </tr>\n  </thead>\n  <tbody>\n    <tr>\n      <th>0</th>\n      <td>2</td>\n      <td>340101</td>\n      <td>Almere</td>\n      <td>Buurt</td>\n      <td>3</td>\n      <td>190</td>\n      <td>410</td>\n      <td>30</td>\n      <td>55</td>\n      <td>120</td>\n      <td>...</td>\n      <td>3.9</td>\n      <td>2.7</td>\n      <td>0.4</td>\n      <td>2.4</td>\n      <td>4.0</td>\n      <td>7.0</td>\n      <td>50.0</td>\n      <td>4.6</td>\n      <td>340101</td>\n      <td>2021</td>\n    </tr>\n    <tr>\n      <th>1</th>\n      <td>3</td>\n      <td>340102</td>\n      <td>Almere</td>\n      <td>Buurt</td>\n      <td>3</td>\n      <td>280</td>\n      <td>750</td>\n      <td>165</td>\n      <td>75</td>\n      <td>195</td>\n      <td>...</td>\n      <td>3.0</td>\n      <td>2.6</td>\n      <td>1.2</td>\n      <td>2.3</td>\n      <td>4.0</td>\n      <td>6.6</td>\n      <td>49.6</td>\n      <td>4.4</td>\n      <td>340102</td>\n      <td>2021</td>\n    </tr>\n    <tr>\n      <th>2</th>\n      <td>16</td>\n      <td>340201</td>\n      <td>Almere</td>\n      <td>Buurt</td>\n      <td>3</td>\n      <td>710</td>\n      <td>2085</td>\n      <td>180</td>\n      <td>215</td>\n      <td>625</td>\n      <td>...</td>\n      <td>3.0</td>\n      <td>2.0</td>\n      <td>0.5</td>\n      <td>3.8</td>\n      <td>4.0</td>\n      <td>6.0</td>\n      <td>46.8</td>\n      <td>1.2</td>\n      <td>340201</td>\n      <td>2021</td>\n    </tr>\n    <tr>\n      <th>3</th>\n      <td>17</td>\n      <td>340202</td>\n      <td>Almere</td>\n      <td>Buurt</td>\n      <td>3</td>\n      <td>1235</td>\n      <td>3450</td>\n      <td>350</td>\n      <td>235</td>\n      <td>1055</td>\n      <td>...</td>\n      <td>3.0</td>\n      <td>3.3</td>\n      <td>1.3</td>\n      <td>3.8</td>\n      <td>4.0</td>\n      <td>5.9</td>\n      <td>45.0</td>\n      <td>1.4</td>\n      <td>340202</td>\n      <td>2021</td>\n    </tr>\n    <tr>\n      <th>4</th>\n      <td>18</td>\n      <td>340203</td>\n      <td>Almere</td>\n      <td>Buurt</td>\n      <td>3</td>\n      <td>620</td>\n      <td>2345</td>\n      <td>260</td>\n      <td>180</td>\n      <td>810</td>\n      <td>...</td>\n      <td>3.0</td>\n      <td>4.5</td>\n      <td>2.6</td>\n      <td>3.1</td>\n      <td>4.0</td>\n      <td>5.2</td>\n      <td>44.2</td>\n      <td>1.6</td>\n      <td>340203</td>\n      <td>2021</td>\n    </tr>\n    <tr>\n      <th>...</th>\n      <td>...</td>\n      <td>...</td>\n      <td>...</td>\n      <td>...</td>\n      <td>...</td>\n      <td>...</td>\n      <td>...</td>\n      <td>...</td>\n      <td>...</td>\n      <td>...</td>\n      <td>...</td>\n      <td>...</td>\n      <td>...</td>\n      <td>...</td>\n      <td>...</td>\n      <td>...</td>\n      <td>...</td>\n      <td>...</td>\n      <td>...</td>\n      <td>...</td>\n      <td>...</td>\n    </tr>\n    <tr>\n      <th>957</th>\n      <td>1246</td>\n      <td>3639700</td>\n      <td>Amsterdam</td>\n      <td>Buurt</td>\n      <td>1</td>\n      <td>350</td>\n      <td>1855</td>\n      <td>85</td>\n      <td>145</td>\n      <td>845</td>\n      <td>...</td>\n      <td>15.0</td>\n      <td>6.6</td>\n      <td>6.9</td>\n      <td>1.3</td>\n      <td>3.0</td>\n      <td>10.2</td>\n      <td>58.9</td>\n      <td>2.2</td>\n      <td>3639700</td>\n      <td>2021</td>\n    </tr>\n    <tr>\n      <th>958</th>\n      <td>1247</td>\n      <td>3639701</td>\n      <td>Amsterdam</td>\n      <td>Buurt</td>\n      <td>1</td>\n      <td>160</td>\n      <td>1200</td>\n      <td>45</td>\n      <td>70</td>\n      <td>470</td>\n      <td>...</td>\n      <td>15.0</td>\n      <td>7.0</td>\n      <td>7.3</td>\n      <td>1.7</td>\n      <td>3.0</td>\n      <td>11.2</td>\n      <td>59.0</td>\n      <td>2.6</td>\n      <td>3639701</td>\n      <td>2021</td>\n    </tr>\n    <tr>\n      <th>959</th>\n      <td>1248</td>\n      <td>3639702</td>\n      <td>Amsterdam</td>\n      <td>Buurt</td>\n      <td>1</td>\n      <td>455</td>\n      <td>1110</td>\n      <td>5</td>\n      <td>50</td>\n      <td>570</td>\n      <td>...</td>\n      <td>15.0</td>\n      <td>6.7</td>\n      <td>6.9</td>\n      <td>0.8</td>\n      <td>3.0</td>\n      <td>10.3</td>\n      <td>58.6</td>\n      <td>2.3</td>\n      <td>3639702</td>\n      <td>2021</td>\n    </tr>\n    <tr>\n      <th>960</th>\n      <td>1249</td>\n      <td>3639703</td>\n      <td>Amsterdam</td>\n      <td>Buurt</td>\n      <td>1</td>\n      <td>380</td>\n      <td>1730</td>\n      <td>75</td>\n      <td>125</td>\n      <td>840</td>\n      <td>...</td>\n      <td>15.0</td>\n      <td>7.1</td>\n      <td>7.3</td>\n      <td>1.8</td>\n      <td>3.0</td>\n      <td>11.1</td>\n      <td>59.0</td>\n      <td>2.7</td>\n      <td>3639703</td>\n      <td>2021</td>\n    </tr>\n    <tr>\n      <th>961</th>\n      <td>1250</td>\n      <td>3639800</td>\n      <td>Amsterdam</td>\n      <td>Buurt</td>\n      <td>1</td>\n      <td>150</td>\n      <td>185</td>\n      <td>20</td>\n      <td>20</td>\n      <td>80</td>\n      <td>...</td>\n      <td>17.6</td>\n      <td>2.5</td>\n      <td>5.9</td>\n      <td>4.8</td>\n      <td>3.0</td>\n      <td>12.2</td>\n      <td>59.3</td>\n      <td>0.4</td>\n      <td>3639800</td>\n      <td>2021</td>\n    </tr>\n  </tbody>\n</table>\n<p>962 rows × 115 columns</p>\n</div>"
     },
     "execution_count": 277,
     "metadata": {},
     "output_type": "execute_result"
    }
   ],
   "source": [
    "df"
   ],
   "metadata": {
    "collapsed": false,
    "ExecuteTime": {
     "end_time": "2024-05-08T12:27:08.121441800Z",
     "start_time": "2024-05-08T12:27:08.058600800Z"
    }
   },
   "id": "d58355605f86c536"
  },
  {
   "cell_type": "code",
   "execution_count": 279,
   "outputs": [],
   "source": [
    "df_new.to_csv(\"normalized_variables.csv\")"
   ],
   "metadata": {
    "collapsed": false,
    "ExecuteTime": {
     "end_time": "2024-05-08T12:27:35.077954300Z",
     "start_time": "2024-05-08T12:27:34.980215200Z"
    }
   },
   "id": "2ab49643e8c15e4"
  }
 ],
 "metadata": {
  "kernelspec": {
   "display_name": "Python 3",
   "language": "python",
   "name": "python3"
  },
  "language_info": {
   "codemirror_mode": {
    "name": "ipython",
    "version": 2
   },
   "file_extension": ".py",
   "mimetype": "text/x-python",
   "name": "python",
   "nbconvert_exporter": "python",
   "pygments_lexer": "ipython2",
   "version": "2.7.6"
  }
 },
 "nbformat": 4,
 "nbformat_minor": 5
}

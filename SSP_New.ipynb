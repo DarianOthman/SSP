{
 "cells": [
  {
   "cell_type": "code",
   "execution_count": 39,
   "outputs": [
    {
     "data": {
      "text/plain": "         X  gwb_code_10    gm_naam   recs  ind_wbi  Number.of.inhabitants  \\\n2        2       340101     Almere  Buurt        3                   1580   \n3        3       340102     Almere  Buurt        3                   2860   \n4        4       340103     Almere  Buurt        3                   2410   \n5        5       340104     Almere  Buurt        3                   2260   \n6        6       340105     Almere  Buurt        3                   2255   \n...    ...          ...        ...    ...      ...                    ...   \n1246  1246      3639700  Amsterdam  Buurt        1                   2960   \n1247  1247      3639701  Amsterdam  Buurt        1                   1670   \n1248  1248      3639702  Amsterdam  Buurt        1                   3250   \n1249  1249      3639703  Amsterdam  Buurt        1                   3355   \n1250  1250      3639800  Amsterdam  Buurt        1                   1485   \n\n      Number.of.man  Number.of.women  Numbers.of.people.from.0.14.years.old  \\\n2               740              845                                    155   \n3              1375             1480                                    515   \n4              1170             1240                                    450   \n5              1100             1160                                    380   \n6              1060             1195                                    370   \n...             ...              ...                                    ...   \n1246           1490             1475                                    475   \n1247            800              865                                    305   \n1248           1650             1600                                    450   \n1249           1635             1715                                    505   \n1250            705              785                                    260   \n\n      Number.of.people.from.15.24.years.old  ...  Within5Km_105  \\\n2                                       150  ...            0.0   \n3                                       290  ...            0.0   \n4                                       295  ...            0.2   \n5                                       215  ...            0.0   \n6                                       220  ...            0.0   \n...                                     ...  ...            ...   \n1246                                    405  ...            0.1   \n1247                                    235  ...            0.3   \n1248                                    375  ...            0.0   \n1249                                    320  ...            0.1   \n1250                                    170  ...            0.0   \n\n      Within10Km_106  Within20Km_107  DistanceToSauna_108  \\\n2                1.0             3.9                  2.7   \n3                1.0             3.0                  2.6   \n4                1.0             3.2                  2.2   \n5                1.0             3.0                  3.2   \n6                1.0             3.0                  2.9   \n...              ...             ...                  ...   \n1246             1.2            15.0                  6.6   \n1247             1.0            15.0                  7.0   \n1248             1.2            15.0                  6.7   \n1249             1.0            15.0                  7.1   \n1250             1.0            17.6                  2.5   \n\n      DistanceToTanningSalon_109  DistanceToAttraction_110  Within10Km_111  \\\n2                            0.4                       2.4             4.0   \n3                            1.2                       2.3             4.0   \n4                            0.8                       1.9             4.0   \n5                            1.7                       2.8             4.0   \n6                            2.2                       2.3             4.0   \n...                          ...                       ...             ...   \n1246                         6.9                       1.3             3.0   \n1247                         7.3                       1.7             3.0   \n1248                         6.9                       0.8             3.0   \n1249                         7.3                       1.8             3.0   \n1250                         5.9                       4.8             3.0   \n\n      Within20Km_112  Within50Km_113  DistanceToFireStation_114  \n2                7.0            50.0                        4.6  \n3                6.6            49.6                        4.4  \n4                7.0            50.0                        4.2  \n5                6.4            49.0                        4.8  \n6                6.0            48.0                        4.3  \n...              ...             ...                        ...  \n1246            10.2            58.9                        2.2  \n1247            11.2            59.0                        2.6  \n1248            10.3            58.6                        2.3  \n1249            11.1            59.0                        2.7  \n1250            12.2            59.3                        0.4  \n\n[993 rows x 143 columns]",
      "text/html": "<div>\n<style scoped>\n    .dataframe tbody tr th:only-of-type {\n        vertical-align: middle;\n    }\n\n    .dataframe tbody tr th {\n        vertical-align: top;\n    }\n\n    .dataframe thead th {\n        text-align: right;\n    }\n</style>\n<table border=\"1\" class=\"dataframe\">\n  <thead>\n    <tr style=\"text-align: right;\">\n      <th></th>\n      <th>X</th>\n      <th>gwb_code_10</th>\n      <th>gm_naam</th>\n      <th>recs</th>\n      <th>ind_wbi</th>\n      <th>Number.of.inhabitants</th>\n      <th>Number.of.man</th>\n      <th>Number.of.women</th>\n      <th>Numbers.of.people.from.0.14.years.old</th>\n      <th>Number.of.people.from.15.24.years.old</th>\n      <th>...</th>\n      <th>Within5Km_105</th>\n      <th>Within10Km_106</th>\n      <th>Within20Km_107</th>\n      <th>DistanceToSauna_108</th>\n      <th>DistanceToTanningSalon_109</th>\n      <th>DistanceToAttraction_110</th>\n      <th>Within10Km_111</th>\n      <th>Within20Km_112</th>\n      <th>Within50Km_113</th>\n      <th>DistanceToFireStation_114</th>\n    </tr>\n  </thead>\n  <tbody>\n    <tr>\n      <th>2</th>\n      <td>2</td>\n      <td>340101</td>\n      <td>Almere</td>\n      <td>Buurt</td>\n      <td>3</td>\n      <td>1580</td>\n      <td>740</td>\n      <td>845</td>\n      <td>155</td>\n      <td>150</td>\n      <td>...</td>\n      <td>0.0</td>\n      <td>1.0</td>\n      <td>3.9</td>\n      <td>2.7</td>\n      <td>0.4</td>\n      <td>2.4</td>\n      <td>4.0</td>\n      <td>7.0</td>\n      <td>50.0</td>\n      <td>4.6</td>\n    </tr>\n    <tr>\n      <th>3</th>\n      <td>3</td>\n      <td>340102</td>\n      <td>Almere</td>\n      <td>Buurt</td>\n      <td>3</td>\n      <td>2860</td>\n      <td>1375</td>\n      <td>1480</td>\n      <td>515</td>\n      <td>290</td>\n      <td>...</td>\n      <td>0.0</td>\n      <td>1.0</td>\n      <td>3.0</td>\n      <td>2.6</td>\n      <td>1.2</td>\n      <td>2.3</td>\n      <td>4.0</td>\n      <td>6.6</td>\n      <td>49.6</td>\n      <td>4.4</td>\n    </tr>\n    <tr>\n      <th>4</th>\n      <td>4</td>\n      <td>340103</td>\n      <td>Almere</td>\n      <td>Buurt</td>\n      <td>3</td>\n      <td>2410</td>\n      <td>1170</td>\n      <td>1240</td>\n      <td>450</td>\n      <td>295</td>\n      <td>...</td>\n      <td>0.2</td>\n      <td>1.0</td>\n      <td>3.2</td>\n      <td>2.2</td>\n      <td>0.8</td>\n      <td>1.9</td>\n      <td>4.0</td>\n      <td>7.0</td>\n      <td>50.0</td>\n      <td>4.2</td>\n    </tr>\n    <tr>\n      <th>5</th>\n      <td>5</td>\n      <td>340104</td>\n      <td>Almere</td>\n      <td>Buurt</td>\n      <td>3</td>\n      <td>2260</td>\n      <td>1100</td>\n      <td>1160</td>\n      <td>380</td>\n      <td>215</td>\n      <td>...</td>\n      <td>0.0</td>\n      <td>1.0</td>\n      <td>3.0</td>\n      <td>3.2</td>\n      <td>1.7</td>\n      <td>2.8</td>\n      <td>4.0</td>\n      <td>6.4</td>\n      <td>49.0</td>\n      <td>4.8</td>\n    </tr>\n    <tr>\n      <th>6</th>\n      <td>6</td>\n      <td>340105</td>\n      <td>Almere</td>\n      <td>Buurt</td>\n      <td>3</td>\n      <td>2255</td>\n      <td>1060</td>\n      <td>1195</td>\n      <td>370</td>\n      <td>220</td>\n      <td>...</td>\n      <td>0.0</td>\n      <td>1.0</td>\n      <td>3.0</td>\n      <td>2.9</td>\n      <td>2.2</td>\n      <td>2.3</td>\n      <td>4.0</td>\n      <td>6.0</td>\n      <td>48.0</td>\n      <td>4.3</td>\n    </tr>\n    <tr>\n      <th>...</th>\n      <td>...</td>\n      <td>...</td>\n      <td>...</td>\n      <td>...</td>\n      <td>...</td>\n      <td>...</td>\n      <td>...</td>\n      <td>...</td>\n      <td>...</td>\n      <td>...</td>\n      <td>...</td>\n      <td>...</td>\n      <td>...</td>\n      <td>...</td>\n      <td>...</td>\n      <td>...</td>\n      <td>...</td>\n      <td>...</td>\n      <td>...</td>\n      <td>...</td>\n      <td>...</td>\n    </tr>\n    <tr>\n      <th>1246</th>\n      <td>1246</td>\n      <td>3639700</td>\n      <td>Amsterdam</td>\n      <td>Buurt</td>\n      <td>1</td>\n      <td>2960</td>\n      <td>1490</td>\n      <td>1475</td>\n      <td>475</td>\n      <td>405</td>\n      <td>...</td>\n      <td>0.1</td>\n      <td>1.2</td>\n      <td>15.0</td>\n      <td>6.6</td>\n      <td>6.9</td>\n      <td>1.3</td>\n      <td>3.0</td>\n      <td>10.2</td>\n      <td>58.9</td>\n      <td>2.2</td>\n    </tr>\n    <tr>\n      <th>1247</th>\n      <td>1247</td>\n      <td>3639701</td>\n      <td>Amsterdam</td>\n      <td>Buurt</td>\n      <td>1</td>\n      <td>1670</td>\n      <td>800</td>\n      <td>865</td>\n      <td>305</td>\n      <td>235</td>\n      <td>...</td>\n      <td>0.3</td>\n      <td>1.0</td>\n      <td>15.0</td>\n      <td>7.0</td>\n      <td>7.3</td>\n      <td>1.7</td>\n      <td>3.0</td>\n      <td>11.2</td>\n      <td>59.0</td>\n      <td>2.6</td>\n    </tr>\n    <tr>\n      <th>1248</th>\n      <td>1248</td>\n      <td>3639702</td>\n      <td>Amsterdam</td>\n      <td>Buurt</td>\n      <td>1</td>\n      <td>3250</td>\n      <td>1650</td>\n      <td>1600</td>\n      <td>450</td>\n      <td>375</td>\n      <td>...</td>\n      <td>0.0</td>\n      <td>1.2</td>\n      <td>15.0</td>\n      <td>6.7</td>\n      <td>6.9</td>\n      <td>0.8</td>\n      <td>3.0</td>\n      <td>10.3</td>\n      <td>58.6</td>\n      <td>2.3</td>\n    </tr>\n    <tr>\n      <th>1249</th>\n      <td>1249</td>\n      <td>3639703</td>\n      <td>Amsterdam</td>\n      <td>Buurt</td>\n      <td>1</td>\n      <td>3355</td>\n      <td>1635</td>\n      <td>1715</td>\n      <td>505</td>\n      <td>320</td>\n      <td>...</td>\n      <td>0.1</td>\n      <td>1.0</td>\n      <td>15.0</td>\n      <td>7.1</td>\n      <td>7.3</td>\n      <td>1.8</td>\n      <td>3.0</td>\n      <td>11.1</td>\n      <td>59.0</td>\n      <td>2.7</td>\n    </tr>\n    <tr>\n      <th>1250</th>\n      <td>1250</td>\n      <td>3639800</td>\n      <td>Amsterdam</td>\n      <td>Buurt</td>\n      <td>1</td>\n      <td>1485</td>\n      <td>705</td>\n      <td>785</td>\n      <td>260</td>\n      <td>170</td>\n      <td>...</td>\n      <td>0.0</td>\n      <td>1.0</td>\n      <td>17.6</td>\n      <td>2.5</td>\n      <td>5.9</td>\n      <td>4.8</td>\n      <td>3.0</td>\n      <td>12.2</td>\n      <td>59.3</td>\n      <td>0.4</td>\n    </tr>\n  </tbody>\n</table>\n<p>993 rows × 143 columns</p>\n</div>"
     },
     "execution_count": 39,
     "metadata": {},
     "output_type": "execute_result"
    }
   ],
   "source": [
    "import pandas as pd\n",
    "df = pd.read_csv(\"data_preprocessed.csv\", index_col=0)  \n",
    "df"
   ],
   "metadata": {
    "collapsed": false,
    "ExecuteTime": {
     "end_time": "2024-05-08T17:04:08.923670100Z",
     "start_time": "2024-05-08T17:04:08.803714700Z"
    }
   },
   "id": "f429e95e2a132739"
  },
  {
   "cell_type": "code",
   "execution_count": 40,
   "outputs": [
    {
     "name": "stderr",
     "output_type": "stream",
     "text": [
      "C:\\Users\\I6240624\\AppData\\Local\\Temp\\ipykernel_15844\\444341776.py:12: FutureWarning: Series.__getitem__ treating keys as positions is deprecated. In a future version, integer keys will always be treated as labels (consistent with DataFrame behavior). To access a value by position, use `ser.iloc[pos]`\n",
      "  average_value = (row1[-1] + row2[-1]) / 2\n",
      "C:\\Users\\I6240624\\AppData\\Local\\Temp\\ipykernel_15844\\444341776.py:15: FutureWarning: Series.__getitem__ treating keys as positions is deprecated. In a future version, integer keys will always be treated as labels (consistent with DataFrame behavior). To access a value by position, use `ser.iloc[pos]`\n",
      "  new_row = [max(row1[0], row2[0]), 2021, average_value]\n"
     ]
    }
   ],
   "source": [
    "df_wijk = pd.read_csv(\"Leefbaarometer-scores wijken 2002-2022.csv\")\n",
    "df_wijk=df_wijk.iloc[:,:4]\n",
    "df_wijk=df_wijk[(df_wijk['jaar']==2020) | (df_wijk['jaar']==2022)]\n",
    "df_wijk[\"wk_code\"]=df_wijk[\"wk_code\"].apply(lambda x: x[2:])\n",
    "df_wijk.rename(columns={'wk_naam': 'name'}, inplace=True)\n",
    "df_all = []\n",
    "for i in range(0, len(df_wijk)-1, 2):\n",
    "    row1 = df_wijk.iloc[i]\n",
    "    row2 = df_wijk.iloc[i+1]\n",
    "    \n",
    "    # Calculate the average of the last column values\n",
    "    average_value = (row1[-1] + row2[-1]) / 2\n",
    "    \n",
    "    # Create a new row with the average value\n",
    "    new_row = [max(row1[0], row2[0]), 2021, average_value]\n",
    "    \n",
    "    # Append the new row to the averaged df_wijk\n",
    "    df_all.append(new_row)\n"
   ],
   "metadata": {
    "collapsed": false,
    "ExecuteTime": {
     "end_time": "2024-05-08T17:04:10.212441600Z",
     "start_time": "2024-05-08T17:04:08.903212500Z"
    }
   },
   "id": "8268702833a2b2e"
  },
  {
   "cell_type": "code",
   "execution_count": 41,
   "outputs": [
    {
     "name": "stderr",
     "output_type": "stream",
     "text": [
      "C:\\Users\\I6240624\\AppData\\Local\\Temp\\ipykernel_15844\\3285892393.py:11: FutureWarning: Series.__getitem__ treating keys as positions is deprecated. In a future version, integer keys will always be treated as labels (consistent with DataFrame behavior). To access a value by position, use `ser.iloc[pos]`\n",
      "  average_value = (row1[-1] + row2[-1]) / 2\n",
      "C:\\Users\\I6240624\\AppData\\Local\\Temp\\ipykernel_15844\\3285892393.py:14: FutureWarning: Series.__getitem__ treating keys as positions is deprecated. In a future version, integer keys will always be treated as labels (consistent with DataFrame behavior). To access a value by position, use `ser.iloc[pos]`\n",
      "  new_row = [max(row1[0], row2[0]), 2021, average_value]\n"
     ]
    }
   ],
   "source": [
    "df_buurt = pd.read_csv(\"Leefbaarometer-scores buurten 2002-2022.csv\")\n",
    "df_buurt=df_buurt.iloc[:,:4]\n",
    "df_buurt=df_buurt[(df_buurt['jaar']==2020) | (df_buurt['jaar']==2022)]\n",
    "df_buurt[\"bu_code\"]=df_buurt[\"bu_code\"].apply(lambda x: x[2:])\n",
    "df_buurt.rename(columns={'bu_naam': 'name'}, inplace=True)\n",
    "for i in range(0, len(df_buurt)-1, 2):\n",
    "    row1 = df_buurt.iloc[i]\n",
    "    row2 = df_buurt.iloc[i+1]\n",
    "    \n",
    "    # Calculate the average of the last column values\n",
    "    average_value = (row1[-1] + row2[-1]) / 2\n",
    "    \n",
    "    # Create a new row with the average value\n",
    "    new_row = [max(row1[0], row2[0]), 2021, average_value]\n",
    "    \n",
    "    # Append the new row to the averaged df_wijk\n",
    "    df_all.append(new_row)\n",
    "df_all = pd.DataFrame(df_all, columns=[\"code\", \"year\", \"liveability_score\"])\n",
    "df_all[\"code\"] = df_all[\"code\"].astype(int)"
   ],
   "metadata": {
    "collapsed": false,
    "ExecuteTime": {
     "end_time": "2024-05-08T17:04:12.903827800Z",
     "start_time": "2024-05-08T17:04:10.220410500Z"
    }
   },
   "id": "a11438d1d1ad7b50"
  },
  {
   "cell_type": "code",
   "execution_count": 42,
   "outputs": [],
   "source": [
    "df=pd.merge(df, df_all, left_on=\"gwb_code_10\",right_on=\"code\", how='inner')"
   ],
   "metadata": {
    "collapsed": false,
    "ExecuteTime": {
     "end_time": "2024-05-08T17:04:12.934933300Z",
     "start_time": "2024-05-08T17:04:12.907556600Z"
    }
   },
   "id": "aa2154366a64bfbf"
  },
  {
   "cell_type": "code",
   "execution_count": 43,
   "outputs": [],
   "source": [
    "df.rename(columns={\"gwb_code_10\":\"postal_code\",\n",
    "                   'DistanceToGPPractice_5': 'Distance GP', \n",
    "                   'Within1Km_6': 'Within 1 km GP', \n",
    "                   'Within3Km_7': 'Within 3 km GP', \n",
    "                   'Within5Km_8': 'Within 5 km GP',\n",
    "                   \"DistanceToHospital_11\": \"Distance Hospital\",\n",
    "                   \"Within5Km_12\": \"Within 5 km Hospital\",\n",
    "                   'Within10Km_13': 'Within 10 km Hospital', \n",
    "                   'Within20Km_14': 'Within 20 km Hospital',\n",
    "                   'DistanceToLargeSupermarket_24': 'Distance Supermarket', \n",
    "                   'Within1Km_25': 'Within 1 km Supermarket', \n",
    "                   'Within3Km_26': 'Within 3 km Supermarket', \n",
    "                   'Within5Km_27': 'Within 5 km Supermarket',\n",
    "                   \"DistanceToDepartmentStore_32\": \"Distance Department Store\",\n",
    "                   \"Within5Km_33\": \"Within 5 km Department Store\",\n",
    "                   'Within10Km_34': 'Within 10 km Department Store',\n",
    "                   'Within20Km_35': 'Within 20 km Department Store',\n",
    "                   'DistanceToRestaurant_44': 'Distance Restaurant', \n",
    "                   'Within1Km_45': 'Within 1 km Restaurant', \n",
    "                   'Within3Km_46': 'Within 3 km Restaurant', \n",
    "                   'Within5Km_47': 'Within 5 km Restaurant',\n",
    "                   'DistanceToDaycareCentres_52': 'Distance Day Care', \n",
    "                   'Within1Km_53': 'Within 1 km Day Care', \n",
    "                   'Within3Km_54': 'Within 3 km Day Care', \n",
    "                   'Within5Km_55': 'Within 5 km Day Care',\n",
    "                   'DistanceToSchool_60': 'Distance School', \n",
    "                   'Within1Km_61': 'Within 1 km School', \n",
    "                   'Within3Km_62': 'Within 3 km School', \n",
    "                   'Within5Km_63': 'Within 5 km School'}, inplace=True)"
   ],
   "metadata": {
    "collapsed": false,
    "ExecuteTime": {
     "end_time": "2024-05-08T17:04:12.953854100Z",
     "start_time": "2024-05-08T17:04:12.931939200Z"
    }
   },
   "id": "50a66a6cf14854cd"
  },
  {
   "cell_type": "code",
   "execution_count": 44,
   "outputs": [],
   "source": [
    "new_column_names = [\"postal_code\",\n",
    "    'Distance GP', 'Within 1 km GP', 'Within 3 km GP', 'Within 5 km GP',\n",
    "    'Distance Hospital', 'Within 5 km Hospital', 'Within 10 km Hospital', 'Within 20 km Hospital',\n",
    "    'Distance Supermarket', 'Within 1 km Supermarket', 'Within 3 km Supermarket', 'Within 5 km Supermarket',\n",
    "    'Distance Department Store', 'Within 5 km Department Store', 'Within 10 km Department Store', 'Within 20 km Department Store',\n",
    "    'Distance Restaurant', 'Within 1 km Restaurant', 'Within 3 km Restaurant', 'Within 5 km Restaurant',\n",
    "    'Distance Day Care', 'Within 1 km Day Care', 'Within 3 km Day Care', 'Within 5 km Day Care',\n",
    "    'Distance School', 'Within 1 km School', 'Within 3 km School', 'Within 5 km School'\n",
    "]\n",
    "dist_df=df[new_column_names]\n",
    "dist_df.to_csv(\"distances.csv\")"
   ],
   "metadata": {
    "collapsed": false,
    "ExecuteTime": {
     "end_time": "2024-05-08T17:04:13.008845800Z",
     "start_time": "2024-05-08T17:04:12.948867600Z"
    }
   },
   "id": "79efd4f27f66c687"
  },
  {
   "cell_type": "code",
   "execution_count": 18,
   "outputs": [],
   "source": [
    "df_new=pd.DataFrame()\n",
    "def calculate_proportions(df1, col1, col2, col3):\n",
    "    df_new[col1] = df1[col2] / df1[col3]\n",
    "    return df_new\n",
    "\n",
    "def normalize(df, col1, col2):\n",
    "    min_density = df[col1].min()\n",
    "    max_density = df[col1].max()\n",
    "    df_new[col2] =(df[col1] - min_density) / (max_density - min_density)\n",
    "    return df_new"
   ],
   "metadata": {
    "collapsed": false,
    "ExecuteTime": {
     "end_time": "2024-05-08T15:31:20.710939Z",
     "start_time": "2024-05-08T15:31:20.630157200Z"
    }
   },
   "id": "a6b7b28711653dd2"
  },
  {
   "cell_type": "code",
   "execution_count": 19,
   "outputs": [],
   "source": [
    "df_new[\"postal_code\"]=df[\"postal_code\"]"
   ],
   "metadata": {
    "collapsed": false,
    "ExecuteTime": {
     "end_time": "2024-05-08T15:31:20.841590500Z",
     "start_time": "2024-05-08T15:31:20.661072900Z"
    }
   },
   "id": "4ca49286b79bf082"
  },
  {
   "cell_type": "code",
   "execution_count": 20,
   "outputs": [],
   "source": [
    "calculate_proportions(df, 'prop_0-14', 'Numbers.of.people.from.0.14.years.old', 'Number.of.inhabitants')\n",
    "df=df.drop(columns=['Numbers.of.people.from.0.14.years.old'])\n",
    "calculate_proportions(df, 'prop_15-24', 'Number.of.people.from.15.24.years.old', 'Number.of.inhabitants')\n",
    "df=df.drop(columns=['Number.of.people.from.15.24.years.old'])\n",
    "calculate_proportions(df, 'prop_25-44', 'Number.of.people.from.25.44.years.old', 'Number.of.inhabitants')\n",
    "df=df.drop(columns=['Number.of.people.from.25.44.years.old'])\n",
    "calculate_proportions(df, 'prop_45-64', 'Number.of.people.from.45.64.years.old', 'Number.of.inhabitants')\n",
    "df=df.drop(columns=['Number.of.people.from.45.64.years.old'])\n",
    "calculate_proportions(df, 'prop_65+', 'Number.of.people....65.years.old', 'Number.of.inhabitants')\n",
    "df=df.drop(columns=['Number.of.people....65.years.old'])\n",
    "df=df.drop(columns=['n_highschool_educated'])\n",
    "calculate_proportions(df, 'prop_university', 'n_highly_educated', 'Number.of.inhabitants')\n",
    "df=df.drop(columns=['n_highly_educated'])\n",
    "calculate_proportions(df, 'prop_recipients', 'n_income_recipients', 'Number.of.inhabitants')\n",
    "df_new[\"worker\"]=1-df_new['prop_recipients']\n",
    "df_new=df_new.drop(columns=['prop_recipients'])\n",
    "df=df.drop(columns=['n_income_recipients'])\n",
    "calculate_proportions(df, 'prop_women', 'Number.of.women', 'Number.of.inhabitants')\n",
    "df=df.drop(columns=['Number.of.women'])\n"
   ],
   "metadata": {
    "collapsed": false,
    "ExecuteTime": {
     "end_time": "2024-05-08T15:31:20.858545100Z",
     "start_time": "2024-05-08T15:31:20.686007200Z"
    }
   },
   "id": "8f22a8a719213df4"
  },
  {
   "cell_type": "code",
   "execution_count": 21,
   "outputs": [],
   "source": [
    "normalize(df, 'Population.density', 'pop_density')\n",
    "df=df.drop(columns=['Population.density'])\n",
    "normalize(df, 'liveability_score', 'liveability_score')\n",
    "df=df.drop(columns=['liveability_score'])\n",
    "df[\"Aid\"]=df[\"n_pp_w_AO\"]+df[\"n_pp_w_WW\"]\n",
    "normalize(df,\"Aid\",\"Aid\")\n",
    "df=df.drop(columns=['Aid'])\n",
    "\n",
    "normalize(df, \"avg_income_per_recipient\", \"Income\")\n",
    "\n",
    "df_new[\"single_family_housing\"]=df[\"percent.of.single.family.housing\"]/100\n",
    "df=df.drop(columns=['percent.of.single.family.housing'])\n",
    "df_new.dropna(inplace=True)"
   ],
   "metadata": {
    "collapsed": false,
    "ExecuteTime": {
     "end_time": "2024-05-08T15:31:20.860063Z",
     "start_time": "2024-05-08T15:31:20.746844Z"
    }
   },
   "id": "d45f2eef93d83d57"
  },
  {
   "cell_type": "code",
   "execution_count": 22,
   "outputs": [
    {
     "data": {
      "text/plain": "     postal_code  prop_0-14  prop_15-24  prop_25-44  prop_45-64  prop_65+  \\\n0         340101   0.098101    0.094937    0.253165    0.199367  0.357595   \n1         340102   0.180070    0.101399    0.283217    0.239510  0.197552   \n2         340201   0.116719    0.096740    0.401682    0.223975  0.159832   \n3         340202   0.150527    0.157718    0.244487    0.316874  0.130393   \n4         340203   0.181261    0.155867    0.268827    0.316112  0.078809   \n..           ...        ...         ...         ...         ...       ...   \n957      3639700   0.160473    0.136824    0.295608    0.265203  0.143581   \n958      3639701   0.182635    0.140719    0.314371    0.284431  0.074850   \n959      3639702   0.138462    0.115385    0.220000    0.324615  0.203077   \n960      3639703   0.150522    0.095380    0.271237    0.293592  0.187779   \n961      3639800   0.175084    0.114478    0.225589    0.303030  0.185185   \n\n     prop_university    worker  prop_women  pop_density  liveability_score  \\\n0           0.170886  0.177215    0.534810     0.085318           0.441714   \n1           0.171329  0.195804    0.517483     0.158171           0.304973   \n2           0.319664  0.263933    0.481598     0.157137           0.369138   \n3           0.246405  0.194631    0.512464     0.137107           0.365422   \n4           0.182137  0.229422    0.496497     0.245857           0.305013   \n..               ...       ...         ...          ...                ...   \n957         0.165541  0.222973    0.498311     0.259273           0.212271   \n958         0.227545  0.221557    0.517964     0.266512           0.104720   \n959         0.295385  0.169231    0.492308     0.137488           0.204621   \n960         0.211624  0.195231    0.511177     0.126140           0.272844   \n961         0.228956  0.191919    0.528620     0.138577           0.305429   \n\n          Aid    Income  single_family_housing  \n0    0.058480  0.119906                   0.03  \n1    0.140351  0.103448                   0.65  \n2    0.198830  0.170063                   0.01  \n3    0.345029  0.163009                   0.68  \n4    0.187135  0.137931                   0.83  \n..        ...       ...                    ...  \n957  0.122807  0.090909                   0.00  \n958  0.081871  0.087774                   0.00  \n959  0.093567  0.174765                   1.00  \n960  0.128655  0.123041                   0.56  \n961  0.040936  0.170063                   0.81  \n\n[962 rows x 14 columns]",
      "text/html": "<div>\n<style scoped>\n    .dataframe tbody tr th:only-of-type {\n        vertical-align: middle;\n    }\n\n    .dataframe tbody tr th {\n        vertical-align: top;\n    }\n\n    .dataframe thead th {\n        text-align: right;\n    }\n</style>\n<table border=\"1\" class=\"dataframe\">\n  <thead>\n    <tr style=\"text-align: right;\">\n      <th></th>\n      <th>postal_code</th>\n      <th>prop_0-14</th>\n      <th>prop_15-24</th>\n      <th>prop_25-44</th>\n      <th>prop_45-64</th>\n      <th>prop_65+</th>\n      <th>prop_university</th>\n      <th>worker</th>\n      <th>prop_women</th>\n      <th>pop_density</th>\n      <th>liveability_score</th>\n      <th>Aid</th>\n      <th>Income</th>\n      <th>single_family_housing</th>\n    </tr>\n  </thead>\n  <tbody>\n    <tr>\n      <th>0</th>\n      <td>340101</td>\n      <td>0.098101</td>\n      <td>0.094937</td>\n      <td>0.253165</td>\n      <td>0.199367</td>\n      <td>0.357595</td>\n      <td>0.170886</td>\n      <td>0.177215</td>\n      <td>0.534810</td>\n      <td>0.085318</td>\n      <td>0.441714</td>\n      <td>0.058480</td>\n      <td>0.119906</td>\n      <td>0.03</td>\n    </tr>\n    <tr>\n      <th>1</th>\n      <td>340102</td>\n      <td>0.180070</td>\n      <td>0.101399</td>\n      <td>0.283217</td>\n      <td>0.239510</td>\n      <td>0.197552</td>\n      <td>0.171329</td>\n      <td>0.195804</td>\n      <td>0.517483</td>\n      <td>0.158171</td>\n      <td>0.304973</td>\n      <td>0.140351</td>\n      <td>0.103448</td>\n      <td>0.65</td>\n    </tr>\n    <tr>\n      <th>2</th>\n      <td>340201</td>\n      <td>0.116719</td>\n      <td>0.096740</td>\n      <td>0.401682</td>\n      <td>0.223975</td>\n      <td>0.159832</td>\n      <td>0.319664</td>\n      <td>0.263933</td>\n      <td>0.481598</td>\n      <td>0.157137</td>\n      <td>0.369138</td>\n      <td>0.198830</td>\n      <td>0.170063</td>\n      <td>0.01</td>\n    </tr>\n    <tr>\n      <th>3</th>\n      <td>340202</td>\n      <td>0.150527</td>\n      <td>0.157718</td>\n      <td>0.244487</td>\n      <td>0.316874</td>\n      <td>0.130393</td>\n      <td>0.246405</td>\n      <td>0.194631</td>\n      <td>0.512464</td>\n      <td>0.137107</td>\n      <td>0.365422</td>\n      <td>0.345029</td>\n      <td>0.163009</td>\n      <td>0.68</td>\n    </tr>\n    <tr>\n      <th>4</th>\n      <td>340203</td>\n      <td>0.181261</td>\n      <td>0.155867</td>\n      <td>0.268827</td>\n      <td>0.316112</td>\n      <td>0.078809</td>\n      <td>0.182137</td>\n      <td>0.229422</td>\n      <td>0.496497</td>\n      <td>0.245857</td>\n      <td>0.305013</td>\n      <td>0.187135</td>\n      <td>0.137931</td>\n      <td>0.83</td>\n    </tr>\n    <tr>\n      <th>...</th>\n      <td>...</td>\n      <td>...</td>\n      <td>...</td>\n      <td>...</td>\n      <td>...</td>\n      <td>...</td>\n      <td>...</td>\n      <td>...</td>\n      <td>...</td>\n      <td>...</td>\n      <td>...</td>\n      <td>...</td>\n      <td>...</td>\n      <td>...</td>\n    </tr>\n    <tr>\n      <th>957</th>\n      <td>3639700</td>\n      <td>0.160473</td>\n      <td>0.136824</td>\n      <td>0.295608</td>\n      <td>0.265203</td>\n      <td>0.143581</td>\n      <td>0.165541</td>\n      <td>0.222973</td>\n      <td>0.498311</td>\n      <td>0.259273</td>\n      <td>0.212271</td>\n      <td>0.122807</td>\n      <td>0.090909</td>\n      <td>0.00</td>\n    </tr>\n    <tr>\n      <th>958</th>\n      <td>3639701</td>\n      <td>0.182635</td>\n      <td>0.140719</td>\n      <td>0.314371</td>\n      <td>0.284431</td>\n      <td>0.074850</td>\n      <td>0.227545</td>\n      <td>0.221557</td>\n      <td>0.517964</td>\n      <td>0.266512</td>\n      <td>0.104720</td>\n      <td>0.081871</td>\n      <td>0.087774</td>\n      <td>0.00</td>\n    </tr>\n    <tr>\n      <th>959</th>\n      <td>3639702</td>\n      <td>0.138462</td>\n      <td>0.115385</td>\n      <td>0.220000</td>\n      <td>0.324615</td>\n      <td>0.203077</td>\n      <td>0.295385</td>\n      <td>0.169231</td>\n      <td>0.492308</td>\n      <td>0.137488</td>\n      <td>0.204621</td>\n      <td>0.093567</td>\n      <td>0.174765</td>\n      <td>1.00</td>\n    </tr>\n    <tr>\n      <th>960</th>\n      <td>3639703</td>\n      <td>0.150522</td>\n      <td>0.095380</td>\n      <td>0.271237</td>\n      <td>0.293592</td>\n      <td>0.187779</td>\n      <td>0.211624</td>\n      <td>0.195231</td>\n      <td>0.511177</td>\n      <td>0.126140</td>\n      <td>0.272844</td>\n      <td>0.128655</td>\n      <td>0.123041</td>\n      <td>0.56</td>\n    </tr>\n    <tr>\n      <th>961</th>\n      <td>3639800</td>\n      <td>0.175084</td>\n      <td>0.114478</td>\n      <td>0.225589</td>\n      <td>0.303030</td>\n      <td>0.185185</td>\n      <td>0.228956</td>\n      <td>0.191919</td>\n      <td>0.528620</td>\n      <td>0.138577</td>\n      <td>0.305429</td>\n      <td>0.040936</td>\n      <td>0.170063</td>\n      <td>0.81</td>\n    </tr>\n  </tbody>\n</table>\n<p>962 rows × 14 columns</p>\n</div>"
     },
     "execution_count": 22,
     "metadata": {},
     "output_type": "execute_result"
    }
   ],
   "source": [
    "df_new"
   ],
   "metadata": {
    "collapsed": false,
    "ExecuteTime": {
     "end_time": "2024-05-08T15:31:20.861050400Z",
     "start_time": "2024-05-08T15:31:20.784742800Z"
    }
   },
   "id": "d58355605f86c536"
  },
  {
   "cell_type": "code",
   "execution_count": 24,
   "outputs": [],
   "source": [
    "df_new.to_csv(\"normalized_variables.csv\")\n",
    "df.to_csv(\"test_distance.csv\")"
   ],
   "metadata": {
    "collapsed": false,
    "ExecuteTime": {
     "end_time": "2024-05-08T15:42:59.858267200Z",
     "start_time": "2024-05-08T15:42:59.620393400Z"
    }
   },
   "id": "2ab49643e8c15e4"
  }
 ],
 "metadata": {
  "kernelspec": {
   "display_name": "Python 3",
   "language": "python",
   "name": "python3"
  },
  "language_info": {
   "codemirror_mode": {
    "name": "ipython",
    "version": 2
   },
   "file_extension": ".py",
   "mimetype": "text/x-python",
   "name": "python",
   "nbconvert_exporter": "python",
   "pygments_lexer": "ipython2",
   "version": "2.7.6"
  }
 },
 "nbformat": 4,
 "nbformat_minor": 5
}

{
 "cells": [
  {
   "cell_type": "markdown",
   "source": [
    "# Load necessary library"
   ],
   "metadata": {
    "collapsed": false
   },
   "id": "c020787418ed5487"
  },
  {
   "cell_type": "code",
   "source": [
    "import pandas as pd\n",
    "import numpy as np\n",
    "from sklearn.cluster import KMeans, DBSCAN\n",
    "import matplotlib.pyplot as plt\n",
    "from sklearn.metrics import silhouette_score, davies_bouldin_score, calinski_harabasz_score\n",
    "from sklearn.neighbors import NearestNeighbors"
   ],
   "metadata": {
    "collapsed": false,
    "ExecuteTime": {
     "end_time": "2024-05-21T10:59:42.324779Z",
     "start_time": "2024-05-21T10:59:33.046627Z"
    }
   },
   "id": "fc0531575ded3b55",
   "outputs": [],
   "execution_count": 1
  },
  {
   "metadata": {},
   "cell_type": "markdown",
   "source": "# Clustering",
   "id": "3aa0bbd7d66991fc"
  },
  {
   "metadata": {},
   "cell_type": "markdown",
   "source": "## Create a function for the elbow method",
   "id": "db15856b23194bf2"
  },
  {
   "metadata": {
    "ExecuteTime": {
     "end_time": "2024-05-21T11:06:15.149966Z",
     "start_time": "2024-05-21T11:06:15.140043Z"
    }
   },
   "cell_type": "code",
   "source": [
    "# ELBOW METHOD\n",
    "def elbowmethod(data):\n",
    "    x = data  # <your_data>\n",
    "    distorsions = []\n",
    "    for k in range(1, 10):\n",
    "        kmeans = KMeans(n_clusters=k)\n",
    "        kmeans.fit(x)\n",
    "        distorsions.append(kmeans.inertia_)\n",
    "\n",
    "    plt.plot(range(1, 10), distorsions, 'bo-')\n",
    "    plt.grid(True)\n",
    "    plt.ylabel(\"Square Root Error\")\n",
    "    plt.xlabel(\"Number of Clusters\")\n",
    "    plt.title(f\"Elbow Method\" + \" - \" + str(data.columns))\n",
    "    plt.show()"
   ],
   "id": "eecf1317e48abaf5",
   "outputs": [],
   "execution_count": 15
  },
  {
   "metadata": {
    "ExecuteTime": {
     "end_time": "2024-05-21T11:22:37.437103Z",
     "start_time": "2024-05-21T11:22:37.432017Z"
    }
   },
   "cell_type": "code",
   "source": [
    "# EVALUATE CLUSTERING\n",
    "def evaluate_clustering(labels_pred, data):\n",
    "    silhouette = silhouette_score(data, labels_pred) if len(np.unique(labels_pred)) > 1 else 0\n",
    "    davies_bouldin = davies_bouldin_score(data, labels_pred)\n",
    "    calinski_harabasz = calinski_harabasz_score(data, labels_pred)\n",
    "\n",
    "    return {\n",
    "        \"Silhouette Score\": silhouette,\n",
    "        \"Davies-Bouldin Index\": davies_bouldin,\n",
    "        \"Calinski-Harabasz Index\": calinski_harabasz\n",
    "    }"
   ],
   "id": "cd85b82598227347",
   "outputs": [],
   "execution_count": 72
  },
  {
   "metadata": {
    "ExecuteTime": {
     "end_time": "2024-05-21T11:22:38.685382Z",
     "start_time": "2024-05-21T11:22:38.680271Z"
    }
   },
   "cell_type": "code",
   "source": [
    "# CLUSTERING KMEANS\n",
    "def kmeans_clustering(data, n_clusters):\n",
    "    kmeans = KMeans(n_clusters=n_clusters)\n",
    "    kmeans.fit_transform(data)\n",
    "    labels = kmeans.labels_\n",
    "    return labels, evaluate_clustering(labels, data)"
   ],
   "id": "2e1976f36aa69760",
   "outputs": [],
   "execution_count": 73
  },
  {
   "metadata": {
    "ExecuteTime": {
     "end_time": "2024-05-21T11:22:40.072380Z",
     "start_time": "2024-05-21T11:22:40.065898Z"
    }
   },
   "cell_type": "code",
   "source": [
    "# CLUSTERING DBSCAN\n",
    "def dbscan_clustering(data, eps, min_samples):\n",
    "    dbscan = DBSCAN(eps=eps, min_samples=min_samples)\n",
    "    labels = dbscan.fit_predict(data)\n",
    "    return labels, evaluate_clustering(labels, data)"
   ],
   "id": "ef4392fd3fa7d811",
   "outputs": [],
   "execution_count": 74
  },
  {
   "metadata": {},
   "cell_type": "markdown",
   "source": "## Load the data",
   "id": "c9371f8916a6fbee"
  },
  {
   "cell_type": "code",
   "source": [
    "with open(r\"C:\\Users\\VY\\Downloads\\normalized_variables.csv\") as f:\n",
    "    df_normalized = pd.read_csv(f)"
   ],
   "metadata": {
    "collapsed": false,
    "ExecuteTime": {
     "end_time": "2024-05-21T11:06:17.669408Z",
     "start_time": "2024-05-21T11:06:17.649913Z"
    }
   },
   "id": "644fd6ab4b2ed6b3",
   "outputs": [],
   "execution_count": 16
  },
  {
   "cell_type": "code",
   "source": [
    "df_normalized.head()"
   ],
   "metadata": {
    "collapsed": false,
    "ExecuteTime": {
     "end_time": "2024-05-21T11:06:19.069934Z",
     "start_time": "2024-05-21T11:06:19.053004Z"
    }
   },
   "id": "263acf6cfd1692d5",
   "outputs": [
    {
     "data": {
      "text/plain": [
       "   Unnamed: 0  postal_code  Weighted_Average_Age  Standard_Deviation_Age  \\\n",
       "0           0       340101             47.443038               21.552028   \n",
       "1           1       340102             40.202797               21.803908   \n",
       "2           2       340201             40.317560               19.234362   \n",
       "3           3       340202             39.320709               20.525905   \n",
       "4           4       340203             36.697898               19.934602   \n",
       "\n",
       "   prop_0-14  prop_15-24  prop_25-44  prop_45-64  prop_65+  prop_university  \\\n",
       "0   0.098101    0.094937    0.253165    0.199367  0.357595         0.170886   \n",
       "1   0.180070    0.101399    0.283217    0.239510  0.197552         0.171329   \n",
       "2   0.116719    0.096740    0.401682    0.223975  0.159832         0.319664   \n",
       "3   0.150527    0.157718    0.244487    0.316874  0.130393         0.246405   \n",
       "4   0.181261    0.155867    0.268827    0.316112  0.078809         0.182137   \n",
       "\n",
       "     worker  prop_women  pop_density  livability_score       Aid    Income  \\\n",
       "0  0.177215    0.534810     0.085318          8.226781  0.058480  0.119906   \n",
       "1  0.195804    0.517483     0.158171          7.931987  0.140351  0.103448   \n",
       "2  0.263933    0.481598     0.157137          8.070317  0.198830  0.170063   \n",
       "3  0.194631    0.512464     0.137107          8.062306  0.345029  0.163009   \n",
       "4  0.229422    0.496497     0.245857          7.932075  0.187135  0.137931   \n",
       "\n",
       "   single_family_housing  \n",
       "0                   0.03  \n",
       "1                   0.65  \n",
       "2                   0.01  \n",
       "3                   0.68  \n",
       "4                   0.83  "
      ],
      "text/html": [
       "<div>\n",
       "<style scoped>\n",
       "    .dataframe tbody tr th:only-of-type {\n",
       "        vertical-align: middle;\n",
       "    }\n",
       "\n",
       "    .dataframe tbody tr th {\n",
       "        vertical-align: top;\n",
       "    }\n",
       "\n",
       "    .dataframe thead th {\n",
       "        text-align: right;\n",
       "    }\n",
       "</style>\n",
       "<table border=\"1\" class=\"dataframe\">\n",
       "  <thead>\n",
       "    <tr style=\"text-align: right;\">\n",
       "      <th></th>\n",
       "      <th>Unnamed: 0</th>\n",
       "      <th>postal_code</th>\n",
       "      <th>Weighted_Average_Age</th>\n",
       "      <th>Standard_Deviation_Age</th>\n",
       "      <th>prop_0-14</th>\n",
       "      <th>prop_15-24</th>\n",
       "      <th>prop_25-44</th>\n",
       "      <th>prop_45-64</th>\n",
       "      <th>prop_65+</th>\n",
       "      <th>prop_university</th>\n",
       "      <th>worker</th>\n",
       "      <th>prop_women</th>\n",
       "      <th>pop_density</th>\n",
       "      <th>livability_score</th>\n",
       "      <th>Aid</th>\n",
       "      <th>Income</th>\n",
       "      <th>single_family_housing</th>\n",
       "    </tr>\n",
       "  </thead>\n",
       "  <tbody>\n",
       "    <tr>\n",
       "      <th>0</th>\n",
       "      <td>0</td>\n",
       "      <td>340101</td>\n",
       "      <td>47.443038</td>\n",
       "      <td>21.552028</td>\n",
       "      <td>0.098101</td>\n",
       "      <td>0.094937</td>\n",
       "      <td>0.253165</td>\n",
       "      <td>0.199367</td>\n",
       "      <td>0.357595</td>\n",
       "      <td>0.170886</td>\n",
       "      <td>0.177215</td>\n",
       "      <td>0.534810</td>\n",
       "      <td>0.085318</td>\n",
       "      <td>8.226781</td>\n",
       "      <td>0.058480</td>\n",
       "      <td>0.119906</td>\n",
       "      <td>0.03</td>\n",
       "    </tr>\n",
       "    <tr>\n",
       "      <th>1</th>\n",
       "      <td>1</td>\n",
       "      <td>340102</td>\n",
       "      <td>40.202797</td>\n",
       "      <td>21.803908</td>\n",
       "      <td>0.180070</td>\n",
       "      <td>0.101399</td>\n",
       "      <td>0.283217</td>\n",
       "      <td>0.239510</td>\n",
       "      <td>0.197552</td>\n",
       "      <td>0.171329</td>\n",
       "      <td>0.195804</td>\n",
       "      <td>0.517483</td>\n",
       "      <td>0.158171</td>\n",
       "      <td>7.931987</td>\n",
       "      <td>0.140351</td>\n",
       "      <td>0.103448</td>\n",
       "      <td>0.65</td>\n",
       "    </tr>\n",
       "    <tr>\n",
       "      <th>2</th>\n",
       "      <td>2</td>\n",
       "      <td>340201</td>\n",
       "      <td>40.317560</td>\n",
       "      <td>19.234362</td>\n",
       "      <td>0.116719</td>\n",
       "      <td>0.096740</td>\n",
       "      <td>0.401682</td>\n",
       "      <td>0.223975</td>\n",
       "      <td>0.159832</td>\n",
       "      <td>0.319664</td>\n",
       "      <td>0.263933</td>\n",
       "      <td>0.481598</td>\n",
       "      <td>0.157137</td>\n",
       "      <td>8.070317</td>\n",
       "      <td>0.198830</td>\n",
       "      <td>0.170063</td>\n",
       "      <td>0.01</td>\n",
       "    </tr>\n",
       "    <tr>\n",
       "      <th>3</th>\n",
       "      <td>3</td>\n",
       "      <td>340202</td>\n",
       "      <td>39.320709</td>\n",
       "      <td>20.525905</td>\n",
       "      <td>0.150527</td>\n",
       "      <td>0.157718</td>\n",
       "      <td>0.244487</td>\n",
       "      <td>0.316874</td>\n",
       "      <td>0.130393</td>\n",
       "      <td>0.246405</td>\n",
       "      <td>0.194631</td>\n",
       "      <td>0.512464</td>\n",
       "      <td>0.137107</td>\n",
       "      <td>8.062306</td>\n",
       "      <td>0.345029</td>\n",
       "      <td>0.163009</td>\n",
       "      <td>0.68</td>\n",
       "    </tr>\n",
       "    <tr>\n",
       "      <th>4</th>\n",
       "      <td>4</td>\n",
       "      <td>340203</td>\n",
       "      <td>36.697898</td>\n",
       "      <td>19.934602</td>\n",
       "      <td>0.181261</td>\n",
       "      <td>0.155867</td>\n",
       "      <td>0.268827</td>\n",
       "      <td>0.316112</td>\n",
       "      <td>0.078809</td>\n",
       "      <td>0.182137</td>\n",
       "      <td>0.229422</td>\n",
       "      <td>0.496497</td>\n",
       "      <td>0.245857</td>\n",
       "      <td>7.932075</td>\n",
       "      <td>0.187135</td>\n",
       "      <td>0.137931</td>\n",
       "      <td>0.83</td>\n",
       "    </tr>\n",
       "  </tbody>\n",
       "</table>\n",
       "</div>"
      ]
     },
     "execution_count": 17,
     "metadata": {},
     "output_type": "execute_result"
    }
   ],
   "execution_count": 17
  },
  {
   "metadata": {},
   "cell_type": "markdown",
   "source": "## KMeans Clustering",
   "id": "51611a82d4857662"
  },
  {
   "metadata": {},
   "cell_type": "markdown",
   "source": "### Age Clustering",
   "id": "eeb982e8ac08c6ad"
  },
  {
   "cell_type": "code",
   "source": [
    "#Extract the age columns\n",
    "age_df_cluster_distribution = df_normalized.loc[:, 'Weighted_Average_Age':'Standard_Deviation_Age']\n",
    "age_df_cluster_distribution"
   ],
   "metadata": {
    "collapsed": false,
    "ExecuteTime": {
     "end_time": "2024-05-21T11:06:21.198462Z",
     "start_time": "2024-05-21T11:06:21.187099Z"
    }
   },
   "id": "b0c8c9987cc7919c",
   "outputs": [
    {
     "data": {
      "text/plain": [
       "     Weighted_Average_Age  Standard_Deviation_Age\n",
       "0               47.443038               21.552028\n",
       "1               40.202797               21.803908\n",
       "2               40.317560               19.234362\n",
       "3               39.320709               20.525905\n",
       "4               36.697898               19.934602\n",
       "..                    ...                     ...\n",
       "957             38.842905               20.597952\n",
       "958             35.979042               19.471641\n",
       "959             43.046154               21.198026\n",
       "960             41.746647               20.991594\n",
       "961             41.040404               21.820806\n",
       "\n",
       "[962 rows x 2 columns]"
      ],
      "text/html": [
       "<div>\n",
       "<style scoped>\n",
       "    .dataframe tbody tr th:only-of-type {\n",
       "        vertical-align: middle;\n",
       "    }\n",
       "\n",
       "    .dataframe tbody tr th {\n",
       "        vertical-align: top;\n",
       "    }\n",
       "\n",
       "    .dataframe thead th {\n",
       "        text-align: right;\n",
       "    }\n",
       "</style>\n",
       "<table border=\"1\" class=\"dataframe\">\n",
       "  <thead>\n",
       "    <tr style=\"text-align: right;\">\n",
       "      <th></th>\n",
       "      <th>Weighted_Average_Age</th>\n",
       "      <th>Standard_Deviation_Age</th>\n",
       "    </tr>\n",
       "  </thead>\n",
       "  <tbody>\n",
       "    <tr>\n",
       "      <th>0</th>\n",
       "      <td>47.443038</td>\n",
       "      <td>21.552028</td>\n",
       "    </tr>\n",
       "    <tr>\n",
       "      <th>1</th>\n",
       "      <td>40.202797</td>\n",
       "      <td>21.803908</td>\n",
       "    </tr>\n",
       "    <tr>\n",
       "      <th>2</th>\n",
       "      <td>40.317560</td>\n",
       "      <td>19.234362</td>\n",
       "    </tr>\n",
       "    <tr>\n",
       "      <th>3</th>\n",
       "      <td>39.320709</td>\n",
       "      <td>20.525905</td>\n",
       "    </tr>\n",
       "    <tr>\n",
       "      <th>4</th>\n",
       "      <td>36.697898</td>\n",
       "      <td>19.934602</td>\n",
       "    </tr>\n",
       "    <tr>\n",
       "      <th>...</th>\n",
       "      <td>...</td>\n",
       "      <td>...</td>\n",
       "    </tr>\n",
       "    <tr>\n",
       "      <th>957</th>\n",
       "      <td>38.842905</td>\n",
       "      <td>20.597952</td>\n",
       "    </tr>\n",
       "    <tr>\n",
       "      <th>958</th>\n",
       "      <td>35.979042</td>\n",
       "      <td>19.471641</td>\n",
       "    </tr>\n",
       "    <tr>\n",
       "      <th>959</th>\n",
       "      <td>43.046154</td>\n",
       "      <td>21.198026</td>\n",
       "    </tr>\n",
       "    <tr>\n",
       "      <th>960</th>\n",
       "      <td>41.746647</td>\n",
       "      <td>20.991594</td>\n",
       "    </tr>\n",
       "    <tr>\n",
       "      <th>961</th>\n",
       "      <td>41.040404</td>\n",
       "      <td>21.820806</td>\n",
       "    </tr>\n",
       "  </tbody>\n",
       "</table>\n",
       "<p>962 rows × 2 columns</p>\n",
       "</div>"
      ]
     },
     "execution_count": 18,
     "metadata": {},
     "output_type": "execute_result"
    }
   ],
   "execution_count": 18
  },
  {
   "metadata": {
    "ExecuteTime": {
     "end_time": "2024-05-21T11:06:28.266914Z",
     "start_time": "2024-05-21T11:06:28.042601Z"
    }
   },
   "cell_type": "code",
   "source": [
    "# Elbow method\n",
    "elbowmethod(age_df_cluster_distribution)"
   ],
   "id": "755b1f11c0e909fd",
   "outputs": [
    {
     "data": {
      "text/plain": [
       "<Figure size 1500x500 with 1 Axes>"
      ],
      "image/png": "[encoded data removed]"
     },
     "metadata": {},
     "output_type": "display_data"
    }
   ],
   "execution_count": 20
  },
  {
   "cell_type": "code",
   "source": "kmeans_clustering(age_df_cluster_distribution, 4)",
   "metadata": {
    "collapsed": false,
    "ExecuteTime": {
     "end_time": "2024-05-21T11:19:10.385632Z",
     "start_time": "2024-05-21T11:19:10.301045Z"
    }
   },
   "id": "9fc008975804a276",
   "outputs": [
    {
     "data": {
      "text/plain": [
       "(array([1, 2, 2, 2, 0, 2, 2, 2, 0, 0, 0, 0, 3, 1, 3, 0, 1, 0, 0, 0, 0, 2,\n",
       "        0, 0, 0, 0, 2, 1, 1, 0, 0, 2, 3, 0, 0, 1, 2, 2, 2, 2, 0, 2, 1, 1,\n",
       "        1, 1, 2, 1, 1, 2, 1, 2, 2, 2, 1, 2, 1, 2, 2, 1, 0, 0, 0, 2, 1, 0,\n",
       "        1, 0, 2, 0, 1, 1, 1, 1, 1, 1, 1, 2, 2, 0, 2, 2, 1, 0, 0, 0, 2, 0,\n",
       "        0, 0, 0, 0, 0, 0, 0, 0, 0, 0, 0, 0, 0, 0, 0, 0, 2, 0, 0, 0, 2, 0,\n",
       "        0, 2, 2, 2, 2, 0, 0, 0, 0, 0, 0, 0, 0, 2, 2, 1, 2, 0, 0, 2, 2, 2,\n",
       "        3, 0, 0, 2, 2, 3, 0, 3, 0, 0, 0, 2, 0, 0, 1, 2, 1, 0, 2, 2, 2, 0,\n",
       "        0, 0, 2, 2, 0, 0, 2, 3, 2, 2, 0, 0, 0, 0, 0, 0, 0, 3, 3, 3, 0, 0,\n",
       "        2, 1, 2, 0, 0, 0, 0, 2, 2, 2, 2, 1, 2, 2, 2, 1, 2, 2, 2, 2, 2, 3,\n",
       "        2, 1, 1, 2, 1, 1, 2, 1, 2, 1, 2, 1, 1, 2, 1, 1, 1, 1, 1, 1, 1, 1,\n",
       "        2, 1, 2, 1, 1, 0, 2, 0, 1, 0, 1, 0, 0, 2, 2, 1, 1, 2, 0, 2, 2, 2,\n",
       "        2, 2, 1, 0, 2, 2, 0, 0, 0, 2, 1, 2, 1, 2, 3, 2, 1, 2, 2, 1, 1, 1,\n",
       "        2, 1, 1, 2, 0, 2, 1, 0, 0, 2, 1, 0, 0, 1, 2, 1, 2, 1, 2, 1, 2, 3,\n",
       "        2, 2, 2, 3, 1, 0, 0, 0, 0, 0, 0, 0, 0, 0, 0, 0, 2, 0, 0, 0, 0, 2,\n",
       "        2, 2, 2, 1, 2, 2, 2, 0, 2, 2, 0, 2, 1, 2, 2, 2, 1, 0, 2, 2, 3, 2,\n",
       "        1, 2, 0, 1, 1, 1, 2, 2, 1, 1, 1, 1, 0, 2, 0, 2, 2, 3, 0, 0, 0, 0,\n",
       "        0, 0, 0, 2, 2, 2, 1, 0, 2, 1, 0, 0, 0, 2, 2, 0, 2, 2, 1, 2, 2, 2,\n",
       "        0, 2, 0, 0, 2, 0, 0, 2, 2, 0, 0, 2, 2, 0, 2, 2, 2, 2, 0, 1, 2, 2,\n",
       "        1, 1, 1, 2, 1, 0, 1, 0, 0, 2, 0, 1, 1, 0, 1, 2, 2, 1, 2, 1, 3, 1,\n",
       "        2, 1, 0, 2, 0, 0, 0, 2, 2, 2, 2, 2, 0, 2, 2, 2, 1, 2, 1, 1, 2, 2,\n",
       "        1, 1, 2, 2, 0, 2, 2, 1, 0, 1, 1, 2, 2, 2, 2, 1, 2, 0, 1, 2, 2, 1,\n",
       "        1, 2, 1, 0, 0, 0, 3, 0, 0, 2, 2, 2, 0, 2, 1, 0, 2, 1, 1, 2, 2, 2,\n",
       "        2, 1, 2, 0, 1, 2, 0, 2, 2, 0, 2, 2, 1, 1, 2, 0, 0, 2, 0, 0, 1, 2,\n",
       "        2, 0, 2, 1, 2, 1, 1, 1, 2, 2, 1, 2, 1, 1, 2, 2, 2, 1, 1, 2, 1, 1,\n",
       "        2, 1, 2, 0, 1, 2, 0, 3, 2, 2, 2, 0, 0, 2, 0, 0, 1, 2, 0, 1, 2, 2,\n",
       "        2, 1, 2, 1, 1, 0, 2, 2, 0, 2, 0, 1, 1, 1, 2, 1, 1, 2, 2, 1, 2, 2,\n",
       "        2, 1, 1, 2, 1, 1, 2, 2, 2, 2, 2, 2, 2, 1, 1, 1, 1, 1, 1, 2, 1, 2,\n",
       "        0, 0, 0, 2, 0, 0, 0, 0, 0, 1, 0, 1, 2, 1, 1, 2, 1, 0, 1, 2, 2, 0,\n",
       "        2, 1, 1, 1, 1, 1, 1, 1, 1, 1, 2, 1, 2, 1, 0, 0, 1, 1, 3, 1, 1, 1,\n",
       "        0, 0, 2, 2, 2, 1, 1, 1, 2, 2, 0, 2, 1, 2, 2, 2, 1, 1, 3, 0, 1, 2,\n",
       "        2, 1, 2, 2, 2, 1, 1, 0, 0, 2, 2, 2, 2, 2, 1, 2, 2, 0, 0, 1, 2, 0,\n",
       "        1, 0, 0, 2, 1, 1, 3, 0, 3, 0, 2, 0, 0, 0, 2, 0, 2, 2, 2, 2, 1, 0,\n",
       "        2, 3, 2, 2, 2, 2, 2, 2, 2, 0, 0, 0, 2, 2, 2, 0, 2, 1, 1, 2, 0, 2,\n",
       "        1, 3, 0, 0, 0, 0, 0, 0, 0, 0, 0, 0, 0, 0, 0, 0, 0, 0, 0, 0, 0, 0,\n",
       "        0, 0, 0, 0, 2, 0, 0, 0, 2, 0, 0, 2, 0, 0, 2, 2, 0, 2, 2, 2, 2, 2,\n",
       "        1, 2, 2, 2, 1, 0, 1, 1, 1, 2, 2, 2, 2, 2, 2, 2, 0, 0, 2, 2, 2, 0,\n",
       "        1, 0, 2, 2, 2, 2, 2, 1, 3, 2, 2, 1, 1, 1, 2, 0, 1, 3, 3, 3, 1, 3,\n",
       "        2, 0, 2, 2, 2, 2, 2, 1, 1, 2, 2, 2, 1, 2, 2, 0, 1, 2, 2, 2, 2, 2,\n",
       "        1, 1, 1, 2, 0, 0, 0, 1, 1, 2, 2, 1, 2, 2, 2, 2, 2, 0, 0, 3, 0, 2,\n",
       "        2, 2, 1, 1, 3, 0, 0, 0, 0, 2, 0, 0, 2, 0, 2, 0, 0, 0, 0, 0, 0, 0,\n",
       "        1, 2, 2, 0, 1, 2, 2, 0, 0, 0, 0, 2, 2, 2, 1, 2, 0, 0, 0, 3, 0, 0,\n",
       "        0, 0, 0, 0, 3, 3, 1, 2, 1, 1, 2, 2, 1, 2, 0, 0, 3, 1, 2, 1, 1, 1,\n",
       "        1, 3, 2, 0, 3, 0, 2, 3, 0, 0, 2, 3, 2, 2, 2, 2, 0, 0, 0, 0, 1, 1,\n",
       "        3, 2, 0, 1, 2, 2, 1, 2, 2, 2, 2, 2, 0, 1, 2, 2]),\n",
       " {'Silhouette Score': 0.34670912923552283,\n",
       "  'Davies-Bouldin Index': 0.8967056702996291,\n",
       "  'Calinski-Harabasz Index': 870.8409692455747})"
      ]
     },
     "execution_count": 62,
     "metadata": {},
     "output_type": "execute_result"
    }
   ],
   "execution_count": 62
  },
  {
   "metadata": {
    "ExecuteTime": {
     "end_time": "2024-05-21T11:19:47.226269Z",
     "start_time": "2024-05-21T11:19:47.178106Z"
    }
   },
   "cell_type": "code",
   "source": [
    "# Save the label output \n",
    "df_normalized['age_labels']= kmeans_clustering(age_df_cluster_distribution, 4)[0]"
   ],
   "id": "b8cd7e9020cfe9de",
   "outputs": [],
   "execution_count": 63
  },
  {
   "metadata": {},
   "cell_type": "markdown",
   "source": "### Social Clustering",
   "id": "e1e1fb59e4cd0064"
  },
  {
   "cell_type": "code",
   "source": [
    "# Extract the social columns\n",
    "social_df = df_normalized.loc[:,['prop_university', 'worker', 'Income']]\n",
    "social_df"
   ],
   "metadata": {
    "collapsed": false,
    "ExecuteTime": {
     "end_time": "2024-05-21T11:20:43.218186Z",
     "start_time": "2024-05-21T11:20:43.205890Z"
    }
   },
   "id": "6628fd8dc3b6fc3b",
   "outputs": [
    {
     "data": {
      "text/plain": [
       "     prop_university    worker    Income\n",
       "0           0.170886  0.177215  0.119906\n",
       "1           0.171329  0.195804  0.103448\n",
       "2           0.319664  0.263933  0.170063\n",
       "3           0.246405  0.194631  0.163009\n",
       "4           0.182137  0.229422  0.137931\n",
       "..               ...       ...       ...\n",
       "957         0.165541  0.222973  0.090909\n",
       "958         0.227545  0.221557  0.087774\n",
       "959         0.295385  0.169231  0.174765\n",
       "960         0.211624  0.195231  0.123041\n",
       "961         0.228956  0.191919  0.170063\n",
       "\n",
       "[962 rows x 3 columns]"
      ],
      "text/html": [
       "<div>\n",
       "<style scoped>\n",
       "    .dataframe tbody tr th:only-of-type {\n",
       "        vertical-align: middle;\n",
       "    }\n",
       "\n",
       "    .dataframe tbody tr th {\n",
       "        vertical-align: top;\n",
       "    }\n",
       "\n",
       "    .dataframe thead th {\n",
       "        text-align: right;\n",
       "    }\n",
       "</style>\n",
       "<table border=\"1\" class=\"dataframe\">\n",
       "  <thead>\n",
       "    <tr style=\"text-align: right;\">\n",
       "      <th></th>\n",
       "      <th>prop_university</th>\n",
       "      <th>worker</th>\n",
       "      <th>Income</th>\n",
       "    </tr>\n",
       "  </thead>\n",
       "  <tbody>\n",
       "    <tr>\n",
       "      <th>0</th>\n",
       "      <td>0.170886</td>\n",
       "      <td>0.177215</td>\n",
       "      <td>0.119906</td>\n",
       "    </tr>\n",
       "    <tr>\n",
       "      <th>1</th>\n",
       "      <td>0.171329</td>\n",
       "      <td>0.195804</td>\n",
       "      <td>0.103448</td>\n",
       "    </tr>\n",
       "    <tr>\n",
       "      <th>2</th>\n",
       "      <td>0.319664</td>\n",
       "      <td>0.263933</td>\n",
       "      <td>0.170063</td>\n",
       "    </tr>\n",
       "    <tr>\n",
       "      <th>3</th>\n",
       "      <td>0.246405</td>\n",
       "      <td>0.194631</td>\n",
       "      <td>0.163009</td>\n",
       "    </tr>\n",
       "    <tr>\n",
       "      <th>4</th>\n",
       "      <td>0.182137</td>\n",
       "      <td>0.229422</td>\n",
       "      <td>0.137931</td>\n",
       "    </tr>\n",
       "    <tr>\n",
       "      <th>...</th>\n",
       "      <td>...</td>\n",
       "      <td>...</td>\n",
       "      <td>...</td>\n",
       "    </tr>\n",
       "    <tr>\n",
       "      <th>957</th>\n",
       "      <td>0.165541</td>\n",
       "      <td>0.222973</td>\n",
       "      <td>0.090909</td>\n",
       "    </tr>\n",
       "    <tr>\n",
       "      <th>958</th>\n",
       "      <td>0.227545</td>\n",
       "      <td>0.221557</td>\n",
       "      <td>0.087774</td>\n",
       "    </tr>\n",
       "    <tr>\n",
       "      <th>959</th>\n",
       "      <td>0.295385</td>\n",
       "      <td>0.169231</td>\n",
       "      <td>0.174765</td>\n",
       "    </tr>\n",
       "    <tr>\n",
       "      <th>960</th>\n",
       "      <td>0.211624</td>\n",
       "      <td>0.195231</td>\n",
       "      <td>0.123041</td>\n",
       "    </tr>\n",
       "    <tr>\n",
       "      <th>961</th>\n",
       "      <td>0.228956</td>\n",
       "      <td>0.191919</td>\n",
       "      <td>0.170063</td>\n",
       "    </tr>\n",
       "  </tbody>\n",
       "</table>\n",
       "<p>962 rows × 3 columns</p>\n",
       "</div>"
      ]
     },
     "execution_count": 65,
     "metadata": {},
     "output_type": "execute_result"
    }
   ],
   "execution_count": 65
  },
  {
   "cell_type": "code",
   "source": [
    "# Elbow method\n",
    "elbowmethod(social_df)"
   ],
   "metadata": {
    "collapsed": false,
    "ExecuteTime": {
     "end_time": "2024-05-21T11:08:04.319925Z",
     "start_time": "2024-05-21T11:08:04.119309Z"
    }
   },
   "id": "a2bbad8f01eeaf71",
   "outputs": [
    {
     "data": {
      "text/plain": [
       "<Figure size 1500x500 with 1 Axes>"
      ],
      "image/png": "[encoded data removed]"
     },
     "metadata": {},
     "output_type": "display_data"
    }
   ],
   "execution_count": 27
  },
  {
   "cell_type": "code",
   "source": [
    "# KMeans Clustering\n",
    "kmeans_clustering(social_df, 4)"
   ],
   "metadata": {
    "collapsed": false,
    "ExecuteTime": {
     "end_time": "2024-05-21T11:21:20.114475Z",
     "start_time": "2024-05-21T11:21:20.058868Z"
    }
   },
   "id": "461935239d04d467",
   "outputs": [
    {
     "data": {
      "text/plain": [
       "(array([3, 3, 0, 3, 3, 3, 3, 3, 3, 3, 3, 3, 0, 0, 0, 2, 0, 0, 2, 2, 0, 3,\n",
       "        0, 0, 3, 3, 0, 3, 3, 3, 3, 3, 3, 0, 2, 0, 3, 3, 0, 0, 2, 0, 0, 0,\n",
       "        0, 0, 3, 0, 3, 0, 0, 2, 2, 2, 0, 3, 0, 0, 0, 0, 3, 3, 3, 0, 3, 3,\n",
       "        3, 3, 3, 3, 0, 3, 3, 3, 3, 3, 3, 3, 3, 3, 3, 3, 3, 0, 3, 0, 2, 2,\n",
       "        0, 0, 2, 0, 2, 2, 2, 0, 2, 0, 0, 0, 2, 0, 0, 2, 0, 3, 0, 3, 0, 3,\n",
       "        3, 0, 3, 3, 3, 3, 3, 2, 2, 0, 2, 2, 2, 0, 2, 2, 2, 2, 2, 2, 2, 3,\n",
       "        0, 2, 2, 2, 1, 0, 2, 3, 2, 2, 0, 2, 2, 2, 2, 2, 2, 0, 2, 0, 0, 2,\n",
       "        0, 0, 2, 0, 3, 2, 0, 2, 2, 0, 3, 0, 0, 0, 0, 0, 2, 0, 0, 0, 0, 0,\n",
       "        0, 0, 0, 0, 0, 0, 0, 3, 0, 3, 0, 3, 1, 0, 1, 0, 1, 1, 0, 0, 0, 0,\n",
       "        0, 0, 0, 3, 1, 0, 0, 0, 0, 3, 3, 3, 0, 3, 0, 3, 0, 0, 3, 3, 0, 0,\n",
       "        0, 3, 3, 0, 0, 0, 0, 0, 0, 2, 2, 2, 2, 2, 2, 2, 3, 0, 0, 0, 3, 3,\n",
       "        3, 0, 0, 2, 0, 0, 3, 0, 3, 3, 0, 0, 0, 0, 0, 0, 3, 3, 3, 3, 3, 3,\n",
       "        3, 3, 3, 3, 0, 0, 3, 0, 0, 3, 3, 3, 3, 3, 3, 3, 0, 0, 0, 0, 0, 2,\n",
       "        0, 3, 3, 2, 0, 2, 0, 2, 2, 2, 0, 2, 0, 0, 2, 2, 0, 0, 0, 2, 2, 0,\n",
       "        3, 0, 0, 2, 0, 0, 0, 2, 0, 2, 0, 3, 3, 3, 0, 0, 3, 0, 0, 3, 2, 0,\n",
       "        2, 2, 3, 0, 0, 0, 0, 0, 3, 3, 3, 3, 0, 3, 2, 2, 2, 2, 0, 3, 3, 3,\n",
       "        3, 0, 3, 3, 0, 3, 3, 0, 3, 3, 3, 0, 0, 2, 0, 3, 3, 0, 0, 0, 0, 3,\n",
       "        0, 3, 0, 0, 3, 0, 2, 3, 3, 3, 3, 0, 3, 3, 0, 0, 3, 3, 3, 3, 0, 3,\n",
       "        3, 3, 3, 3, 3, 0, 3, 3, 3, 3, 3, 3, 3, 3, 3, 3, 3, 3, 3, 3, 2, 3,\n",
       "        0, 0, 3, 0, 0, 0, 0, 3, 3, 3, 3, 3, 0, 3, 0, 0, 3, 0, 3, 0, 0, 0,\n",
       "        0, 0, 3, 3, 3, 3, 0, 0, 3, 0, 0, 3, 3, 3, 3, 3, 3, 0, 0, 0, 0, 0,\n",
       "        3, 3, 0, 2, 2, 2, 2, 2, 2, 0, 0, 0, 3, 2, 1, 3, 0, 0, 0, 2, 3, 0,\n",
       "        3, 0, 3, 0, 0, 2, 3, 3, 3, 0, 3, 3, 1, 2, 3, 0, 3, 3, 2, 0, 3, 3,\n",
       "        3, 3, 3, 3, 3, 0, 0, 3, 3, 3, 0, 3, 0, 0, 3, 3, 3, 3, 0, 0, 3, 0,\n",
       "        3, 0, 0, 2, 0, 0, 2, 2, 3, 3, 3, 2, 0, 0, 0, 0, 2, 0, 2, 3, 3, 3,\n",
       "        0, 3, 0, 3, 0, 0, 0, 0, 0, 0, 0, 0, 0, 0, 0, 0, 0, 3, 3, 3, 3, 3,\n",
       "        3, 3, 3, 3, 3, 3, 0, 0, 3, 3, 3, 3, 0, 3, 3, 3, 2, 3, 3, 3, 0, 2,\n",
       "        2, 0, 2, 2, 2, 2, 2, 2, 2, 2, 0, 1, 1, 1, 0, 1, 1, 2, 1, 2, 2, 2,\n",
       "        2, 0, 2, 2, 2, 2, 2, 2, 0, 2, 2, 2, 2, 0, 2, 2, 2, 2, 2, 0, 2, 2,\n",
       "        2, 2, 2, 2, 2, 2, 1, 2, 0, 2, 2, 0, 0, 0, 2, 2, 2, 2, 3, 1, 2, 0,\n",
       "        0, 0, 0, 0, 0, 0, 0, 2, 2, 2, 0, 2, 2, 2, 2, 2, 0, 2, 2, 0, 2, 2,\n",
       "        2, 2, 2, 2, 1, 2, 1, 1, 0, 2, 2, 2, 2, 2, 0, 2, 2, 2, 3, 0, 0, 2,\n",
       "        2, 3, 2, 2, 0, 0, 0, 0, 0, 0, 0, 0, 3, 3, 0, 2, 2, 2, 2, 2, 2, 0,\n",
       "        2, 2, 0, 0, 0, 0, 0, 0, 2, 2, 0, 0, 0, 0, 0, 2, 2, 0, 2, 0, 0, 2,\n",
       "        2, 0, 0, 0, 0, 0, 0, 0, 0, 2, 2, 2, 2, 2, 2, 2, 2, 0, 1, 1, 1, 1,\n",
       "        1, 1, 1, 1, 0, 2, 0, 0, 3, 1, 2, 1, 1, 1, 1, 1, 0, 3, 2, 2, 2, 2,\n",
       "        0, 1, 2, 0, 2, 2, 2, 3, 0, 2, 2, 3, 0, 0, 2, 0, 0, 2, 2, 2, 1, 2,\n",
       "        1, 3, 3, 3, 3, 3, 0, 3, 0, 3, 2, 2, 3, 3, 3, 0, 0, 3, 3, 3, 3, 0,\n",
       "        3, 0, 0, 3, 3, 3, 3, 3, 3, 3, 3, 3, 3, 3, 3, 3, 2, 0, 2, 2, 2, 2,\n",
       "        0, 0, 0, 0, 3, 0, 0, 2, 0, 0, 3, 3, 3, 0, 3, 3, 3, 3, 3, 3, 3, 3,\n",
       "        3, 3, 0, 3, 3, 3, 3, 3, 3, 3, 3, 3, 0, 3, 0, 0, 3, 3, 0, 0, 2, 3,\n",
       "        2, 0, 0, 0, 2, 2, 0, 3, 0, 0, 0, 0, 0, 3, 3, 3, 3, 0, 0, 0, 1, 0,\n",
       "        0, 2, 3, 3, 3, 3, 3, 3, 3, 3, 3, 3, 3, 3, 3, 3, 3, 3, 3, 3, 0, 3,\n",
       "        0, 3, 3, 0, 3, 3, 3, 3, 3, 3, 3, 3, 3, 3, 3, 3]),\n",
       " {'Silhouette Score': 0.35776906830109717,\n",
       "  'Davies-Bouldin Index': 0.9363643893605348,\n",
       "  'Calinski-Harabasz Index': 723.2620432968293})"
      ]
     },
     "execution_count": 66,
     "metadata": {},
     "output_type": "execute_result"
    }
   ],
   "execution_count": 66
  },
  {
   "metadata": {
    "ExecuteTime": {
     "end_time": "2024-05-21T11:21:31.645727Z",
     "start_time": "2024-05-21T11:21:31.605564Z"
    }
   },
   "cell_type": "code",
   "source": [
    "# Save the label output\n",
    "df_normalized['social_labels'] = kmeans_clustering(social_df, 4)[0]"
   ],
   "id": "7c1cc5dd6ff17c54",
   "outputs": [],
   "execution_count": 67
  },
  {
   "metadata": {},
   "cell_type": "markdown",
   "source": "### Demographic Clustering",
   "id": "1bf551a94719a8d0"
  },
  {
   "cell_type": "code",
   "source": [
    "# Extract the demographic columns\n",
    "demographic_df = df_normalized.loc[:, ['pop_density','Aid','prop_women']]\n",
    "demographic_df"
   ],
   "metadata": {
    "collapsed": false,
    "ExecuteTime": {
     "end_time": "2024-05-21T11:21:40.818653Z",
     "start_time": "2024-05-21T11:21:40.805062Z"
    }
   },
   "id": "f0d2a79216c5dc67",
   "outputs": [
    {
     "data": {
      "text/plain": [
       "     pop_density       Aid  prop_women\n",
       "0       0.085318  0.058480    0.534810\n",
       "1       0.158171  0.140351    0.517483\n",
       "2       0.157137  0.198830    0.481598\n",
       "3       0.137107  0.345029    0.512464\n",
       "4       0.245857  0.187135    0.496497\n",
       "..           ...       ...         ...\n",
       "957     0.259273  0.122807    0.498311\n",
       "958     0.266512  0.081871    0.517964\n",
       "959     0.137488  0.093567    0.492308\n",
       "960     0.126140  0.128655    0.511177\n",
       "961     0.138577  0.040936    0.528620\n",
       "\n",
       "[962 rows x 3 columns]"
      ],
      "text/html": [
       "<div>\n",
       "<style scoped>\n",
       "    .dataframe tbody tr th:only-of-type {\n",
       "        vertical-align: middle;\n",
       "    }\n",
       "\n",
       "    .dataframe tbody tr th {\n",
       "        vertical-align: top;\n",
       "    }\n",
       "\n",
       "    .dataframe thead th {\n",
       "        text-align: right;\n",
       "    }\n",
       "</style>\n",
       "<table border=\"1\" class=\"dataframe\">\n",
       "  <thead>\n",
       "    <tr style=\"text-align: right;\">\n",
       "      <th></th>\n",
       "      <th>pop_density</th>\n",
       "      <th>Aid</th>\n",
       "      <th>prop_women</th>\n",
       "    </tr>\n",
       "  </thead>\n",
       "  <tbody>\n",
       "    <tr>\n",
       "      <th>0</th>\n",
       "      <td>0.085318</td>\n",
       "      <td>0.058480</td>\n",
       "      <td>0.534810</td>\n",
       "    </tr>\n",
       "    <tr>\n",
       "      <th>1</th>\n",
       "      <td>0.158171</td>\n",
       "      <td>0.140351</td>\n",
       "      <td>0.517483</td>\n",
       "    </tr>\n",
       "    <tr>\n",
       "      <th>2</th>\n",
       "      <td>0.157137</td>\n",
       "      <td>0.198830</td>\n",
       "      <td>0.481598</td>\n",
       "    </tr>\n",
       "    <tr>\n",
       "      <th>3</th>\n",
       "      <td>0.137107</td>\n",
       "      <td>0.345029</td>\n",
       "      <td>0.512464</td>\n",
       "    </tr>\n",
       "    <tr>\n",
       "      <th>4</th>\n",
       "      <td>0.245857</td>\n",
       "      <td>0.187135</td>\n",
       "      <td>0.496497</td>\n",
       "    </tr>\n",
       "    <tr>\n",
       "      <th>...</th>\n",
       "      <td>...</td>\n",
       "      <td>...</td>\n",
       "      <td>...</td>\n",
       "    </tr>\n",
       "    <tr>\n",
       "      <th>957</th>\n",
       "      <td>0.259273</td>\n",
       "      <td>0.122807</td>\n",
       "      <td>0.498311</td>\n",
       "    </tr>\n",
       "    <tr>\n",
       "      <th>958</th>\n",
       "      <td>0.266512</td>\n",
       "      <td>0.081871</td>\n",
       "      <td>0.517964</td>\n",
       "    </tr>\n",
       "    <tr>\n",
       "      <th>959</th>\n",
       "      <td>0.137488</td>\n",
       "      <td>0.093567</td>\n",
       "      <td>0.492308</td>\n",
       "    </tr>\n",
       "    <tr>\n",
       "      <th>960</th>\n",
       "      <td>0.126140</td>\n",
       "      <td>0.128655</td>\n",
       "      <td>0.511177</td>\n",
       "    </tr>\n",
       "    <tr>\n",
       "      <th>961</th>\n",
       "      <td>0.138577</td>\n",
       "      <td>0.040936</td>\n",
       "      <td>0.528620</td>\n",
       "    </tr>\n",
       "  </tbody>\n",
       "</table>\n",
       "<p>962 rows × 3 columns</p>\n",
       "</div>"
      ]
     },
     "execution_count": 68,
     "metadata": {},
     "output_type": "execute_result"
    }
   ],
   "execution_count": 68
  },
  {
   "cell_type": "code",
   "source": [
    "# Elbow method\n",
    "elbowmethod(demographic_df)"
   ],
   "metadata": {
    "collapsed": false,
    "ExecuteTime": {
     "end_time": "2024-05-21T11:08:26.947183Z",
     "start_time": "2024-05-21T11:08:26.749417Z"
    }
   },
   "id": "eb9df76b461caa08",
   "outputs": [
    {
     "data": {
      "text/plain": [
       "<Figure size 1500x500 with 1 Axes>"
      ],
      "image/png": "[encoded data removed]"
     },
     "metadata": {},
     "output_type": "display_data"
    }
   ],
   "execution_count": 31
  },
  {
   "metadata": {
    "ExecuteTime": {
     "end_time": "2024-05-21T11:22:01.063975Z",
     "start_time": "2024-05-21T11:22:01.017680Z"
    }
   },
   "cell_type": "code",
   "source": [
    "# KMeans Clustering\n",
    "kmeans_clustering(demographic_df, 2)"
   ],
   "id": "5dff778b4770622c",
   "outputs": [
    {
     "data": {
      "text/plain": [
       "(array([0, 0, 0, 0, 0, 0, 0, 0, 0, 0, 0, 0, 0, 0, 0, 0, 0, 0, 0, 0, 0, 0,\n",
       "        1, 0, 0, 0, 0, 0, 0, 0, 0, 0, 0, 1, 1, 0, 1, 0, 0, 0, 0, 0, 0, 0,\n",
       "        0, 0, 0, 0, 0, 0, 0, 0, 0, 0, 0, 0, 0, 0, 0, 0, 0, 0, 0, 0, 0, 0,\n",
       "        0, 0, 0, 0, 0, 0, 0, 0, 0, 0, 0, 0, 0, 0, 0, 0, 0, 0, 0, 0, 0, 0,\n",
       "        0, 0, 1, 0, 1, 1, 0, 0, 1, 0, 0, 0, 0, 0, 0, 0, 0, 1, 0, 0, 0, 0,\n",
       "        0, 0, 0, 0, 0, 0, 0, 1, 0, 1, 1, 0, 0, 0, 0, 0, 0, 1, 0, 0, 0, 0,\n",
       "        0, 0, 0, 0, 0, 0, 0, 0, 0, 0, 0, 0, 1, 0, 0, 0, 0, 0, 0, 0, 0, 0,\n",
       "        0, 0, 0, 0, 0, 0, 0, 0, 0, 0, 0, 1, 0, 0, 0, 0, 0, 0, 0, 0, 0, 0,\n",
       "        0, 0, 0, 0, 0, 0, 0, 0, 0, 0, 0, 0, 0, 0, 0, 0, 0, 0, 0, 0, 0, 1,\n",
       "        0, 0, 0, 0, 0, 0, 0, 0, 0, 0, 0, 0, 0, 0, 0, 0, 0, 0, 0, 0, 0, 0,\n",
       "        0, 0, 0, 0, 0, 0, 0, 0, 0, 0, 0, 1, 0, 0, 0, 0, 0, 0, 0, 0, 0, 0,\n",
       "        0, 0, 0, 0, 0, 1, 1, 0, 0, 0, 0, 0, 0, 0, 0, 0, 0, 0, 0, 0, 0, 0,\n",
       "        0, 0, 0, 0, 1, 1, 0, 0, 1, 0, 0, 0, 1, 0, 0, 0, 0, 0, 0, 0, 0, 0,\n",
       "        0, 0, 0, 0, 0, 0, 0, 0, 1, 1, 1, 0, 1, 0, 0, 0, 0, 0, 0, 0, 0, 0,\n",
       "        0, 0, 0, 0, 0, 0, 0, 0, 0, 0, 0, 0, 0, 0, 0, 0, 0, 0, 0, 0, 0, 0,\n",
       "        0, 0, 0, 0, 0, 0, 0, 0, 0, 0, 0, 0, 0, 1, 0, 0, 0, 0, 1, 1, 1, 1,\n",
       "        1, 1, 0, 1, 0, 0, 0, 0, 0, 0, 0, 1, 1, 0, 1, 1, 0, 0, 0, 0, 0, 1,\n",
       "        0, 1, 1, 0, 0, 1, 0, 1, 0, 1, 1, 0, 1, 0, 1, 0, 0, 0, 0, 0, 0, 0,\n",
       "        0, 0, 0, 0, 0, 0, 0, 1, 1, 0, 0, 0, 0, 0, 0, 0, 0, 0, 0, 0, 0, 0,\n",
       "        0, 0, 0, 0, 0, 0, 0, 0, 0, 0, 0, 0, 0, 0, 0, 0, 0, 0, 0, 0, 0, 0,\n",
       "        0, 0, 0, 0, 0, 0, 0, 0, 0, 0, 0, 0, 0, 0, 0, 0, 0, 0, 0, 0, 0, 0,\n",
       "        0, 0, 0, 0, 0, 0, 0, 0, 0, 0, 0, 0, 0, 0, 0, 0, 0, 0, 0, 0, 0, 0,\n",
       "        0, 0, 0, 0, 0, 0, 0, 0, 0, 0, 0, 0, 0, 0, 0, 0, 0, 0, 0, 0, 0, 0,\n",
       "        0, 0, 0, 0, 0, 0, 0, 0, 0, 0, 0, 0, 0, 0, 0, 0, 0, 0, 0, 0, 0, 0,\n",
       "        0, 0, 0, 0, 0, 0, 0, 0, 0, 0, 0, 0, 0, 0, 0, 0, 0, 0, 0, 0, 0, 0,\n",
       "        0, 0, 0, 0, 0, 0, 0, 0, 0, 0, 0, 0, 0, 0, 0, 0, 0, 0, 0, 0, 0, 0,\n",
       "        0, 0, 0, 0, 0, 0, 0, 0, 0, 0, 0, 0, 0, 0, 0, 0, 0, 0, 0, 0, 0, 1,\n",
       "        0, 1, 0, 0, 0, 0, 1, 0, 0, 0, 0, 1, 0, 0, 1, 0, 0, 0, 0, 0, 1, 0,\n",
       "        1, 1, 1, 1, 1, 0, 0, 1, 1, 1, 1, 1, 1, 1, 1, 0, 1, 1, 0, 1, 1, 1,\n",
       "        0, 1, 0, 1, 0, 1, 0, 1, 0, 0, 0, 1, 1, 0, 1, 1, 1, 1, 0, 0, 1, 1,\n",
       "        1, 1, 1, 1, 1, 1, 1, 1, 1, 1, 1, 1, 1, 1, 1, 1, 1, 1, 1, 1, 1, 1,\n",
       "        1, 1, 1, 1, 0, 0, 0, 0, 0, 1, 1, 1, 1, 1, 1, 1, 1, 1, 1, 1, 1, 1,\n",
       "        1, 0, 1, 1, 1, 1, 1, 0, 1, 1, 1, 1, 1, 1, 1, 0, 0, 1, 1, 1, 1, 0,\n",
       "        1, 0, 1, 0, 0, 0, 1, 1, 0, 0, 1, 1, 1, 1, 1, 1, 1, 1, 1, 1, 1, 1,\n",
       "        1, 1, 1, 1, 1, 1, 1, 1, 1, 1, 1, 1, 1, 1, 1, 1, 1, 0, 0, 1, 0, 0,\n",
       "        0, 1, 1, 1, 1, 1, 1, 0, 1, 0, 1, 0, 0, 0, 1, 1, 1, 1, 1, 1, 1, 1,\n",
       "        0, 0, 1, 1, 1, 1, 0, 1, 1, 0, 0, 0, 0, 0, 1, 0, 0, 0, 0, 0, 0, 0,\n",
       "        0, 0, 0, 0, 0, 1, 0, 0, 0, 0, 0, 0, 0, 0, 0, 0, 0, 0, 0, 0, 0, 0,\n",
       "        0, 0, 0, 1, 0, 0, 0, 0, 0, 0, 0, 0, 0, 0, 0, 0, 0, 0, 0, 0, 0, 0,\n",
       "        0, 0, 0, 0, 0, 0, 1, 1, 1, 1, 0, 0, 0, 0, 0, 1, 0, 0, 0, 1, 1, 0,\n",
       "        0, 1, 1, 0, 0, 0, 0, 1, 1, 1, 0, 0, 0, 0, 0, 0, 0, 1, 1, 0, 0, 0,\n",
       "        0, 0, 0, 0, 0, 0, 0, 0, 0, 1, 0, 0, 0, 0, 0, 0, 0, 0, 0, 0, 0, 0,\n",
       "        0, 0, 0, 0, 0, 1, 0, 0, 1, 0, 0, 0, 0, 1, 1, 0, 1, 0, 0, 1, 0, 0,\n",
       "        0, 1, 0, 0, 0, 0, 0, 0, 0, 0, 0, 0, 0, 0, 0, 0]),\n",
       " {'Silhouette Score': 0.5431516201635206,\n",
       "  'Davies-Bouldin Index': 0.704558772933317,\n",
       "  'Calinski-Harabasz Index': 1109.8168696956805})"
      ]
     },
     "execution_count": 69,
     "metadata": {},
     "output_type": "execute_result"
    }
   ],
   "execution_count": 69
  },
  {
   "metadata": {
    "ExecuteTime": {
     "end_time": "2024-05-21T11:22:07.433159Z",
     "start_time": "2024-05-21T11:22:07.389771Z"
    }
   },
   "cell_type": "code",
   "source": [
    "# Save the label output\n",
    "df_normalized['demographic_labels'] = kmeans_clustering(demographic_df, 2)[0]"
   ],
   "id": "bf34475f502eda0c",
   "outputs": [],
   "execution_count": 70
  },
  {
   "metadata": {},
   "cell_type": "markdown",
   "source": "# DBSCAN Clustering",
   "id": "e050689e7300c6fd"
  },
  {
   "metadata": {},
   "cell_type": "markdown",
   "source": "### Age Clustering",
   "id": "b74172f3593a8e6f"
  },
  {
   "metadata": {
    "ExecuteTime": {
     "end_time": "2024-05-21T11:11:18.454137Z",
     "start_time": "2024-05-21T11:11:18.444752Z"
    }
   },
   "cell_type": "code",
   "source": [
    "# The min_samples is 2 * dim the number of features, for age data, it is 2 * 2 = 4\n",
    "# We continue to find the epsilon\n",
    "neighbors = NearestNeighbors(n_neighbors=4)\n",
    "neighbors_fit_age = neighbors.fit(age_df_cluster_distribution)\n",
    "distances_age, indices_age = neighbors_fit_age.kneighbors(age_df_cluster_distribution)"
   ],
   "id": "68f0234595d16869",
   "outputs": [],
   "execution_count": 49
  },
  {
   "metadata": {
    "ExecuteTime": {
     "end_time": "2024-05-21T11:11:20.168660Z",
     "start_time": "2024-05-21T11:11:20.037747Z"
    }
   },
   "cell_type": "code",
   "source": [
    "distances_age = np.sort(distances_age, axis=0)\n",
    "distances_age = distances_age[:,1]\n",
    "plt.plot(distances_age)"
   ],
   "id": "918a083cd66e8c99",
   "outputs": [
    {
     "data": {
      "text/plain": [
       "[<matplotlib.lines.Line2D at 0x245725f66f0>]"
      ]
     },
     "execution_count": 50,
     "metadata": {},
     "output_type": "execute_result"
    },
    {
     "data": {
      "text/plain": [
       "<Figure size 640x480 with 1 Axes>"
      ],
      "image/png": "[encoded data removed]"
     },
     "metadata": {},
     "output_type": "display_data"
    }
   ],
   "execution_count": 50
  },
  {
   "metadata": {
    "ExecuteTime": {
     "end_time": "2024-05-21T11:11:22.618470Z",
     "start_time": "2024-05-21T11:11:22.571495Z"
    }
   },
   "cell_type": "code",
   "source": "dbscan_clustering(age_df_cluster_distribution, 0.6, 4)",
   "id": "1dc13c41a25203b6",
   "outputs": [
    {
     "data": {
      "text/plain": [
       "(array([ 0,  0,  0,  0,  0,  0,  0,  0,  0,  0,  0,  0, -1,  0, -1,  0,  0,\n",
       "         1,  0,  0,  0,  0,  0,  0,  0,  0,  0,  0,  0,  0,  0,  0, -1,  0,\n",
       "         0,  0,  0,  0,  0,  0,  0,  0,  0,  0,  0,  0,  0,  0,  0, -1,  0,\n",
       "         0,  0,  0,  0,  0,  0,  0,  0, -1,  0,  0,  0,  0,  0,  0, -1,  0,\n",
       "         0,  0, -1,  0,  0,  0,  0,  0,  0,  0,  0,  0,  0,  0,  0,  0, -1,\n",
       "         0,  0,  0,  0,  0,  0,  0,  0,  0,  0,  0,  0,  0,  0,  0,  0,  0,\n",
       "         0,  0,  0,  0,  0, -1,  0,  0,  0,  0,  0,  0,  0,  0,  0,  0,  0,\n",
       "         0,  0,  0,  0,  0,  0,  0,  0,  0,  0,  0,  0,  0, -1,  0,  0,  0,\n",
       "         0, -1,  0, -1,  0,  0, -1, -1,  0,  1,  0,  0,  0,  0, -1,  0,  0,\n",
       "         0,  0,  0,  0,  0,  0,  0,  0, -1,  0,  0,  0,  0,  0,  0,  0, -1,\n",
       "        -1, -1, -1, -1,  0,  0,  0,  0,  0, -1,  0,  0, -1,  0,  0,  0,  0,\n",
       "         0,  0,  0,  0,  0,  0, -1,  0,  0,  0, -1,  0,  0,  0,  0,  0,  0,\n",
       "         0, -1,  0,  0,  0, -1,  0,  0,  0,  0,  0,  0,  0,  0,  0,  0,  0,\n",
       "         0,  0,  0,  0, -1,  0,  0,  0,  0,  0,  0,  0,  0,  0,  0, -1,  0,\n",
       "         0,  0,  0,  0,  0,  0,  0,  0,  0,  0,  0,  0,  0,  0,  0,  0,  0,\n",
       "         0, -1,  0,  0,  0,  0,  0,  0,  0,  0,  0,  0,  0,  0,  0, -1,  0,\n",
       "         0,  0,  0,  0,  0,  0,  0,  0,  0,  0,  0,  0,  0, -1,  0,  0,  0,\n",
       "        -1, -1, -1,  0,  0,  0,  0, -1,  0,  0,  0,  0,  0,  0,  0,  0,  0,\n",
       "         0,  0,  0,  0,  0,  0,  0,  0,  0,  0,  0,  0,  0,  0,  0,  0,  0,\n",
       "         0,  0,  0,  0,  0, -1,  0,  0,  0,  0,  0,  0, -1,  0,  0,  0,  0,\n",
       "         0,  0,  0,  0,  0,  0,  0, -1,  0,  0,  0,  0,  0,  0,  0,  0,  0,\n",
       "         0,  0, -1,  0,  0,  0,  0,  0,  0,  0,  0,  0,  0,  0,  0,  0,  0,\n",
       "         0,  0,  0,  0,  0,  0,  0,  0,  0,  0,  0,  0,  0,  0,  0,  0,  0,\n",
       "         0,  0,  0,  0,  0,  0,  0,  0,  0,  0,  0,  0,  0,  0,  0,  0, -1,\n",
       "         0,  0, -1,  0,  0,  0,  0,  0, -1,  0,  0,  0,  0,  0,  0,  0,  0,\n",
       "         0,  0,  0,  0,  0,  0,  0,  0,  0,  0,  0,  0,  0,  0,  0,  0,  0,\n",
       "         0,  0,  0,  0,  0,  0,  0,  0,  0,  0,  0,  0,  0,  0,  0,  0,  0,\n",
       "         0,  0,  0,  0,  0,  0,  0,  0,  0, -1,  0,  0,  0,  0,  0,  0,  0,\n",
       "         0,  0,  0, -1,  0,  0,  0,  0,  0,  0,  0,  0,  0,  0,  0,  0,  0,\n",
       "         0,  0,  0,  0,  0,  0,  0,  0,  0,  0,  0,  0,  0,  0,  0,  0,  0,\n",
       "         0,  0,  0,  0,  0,  0,  0,  0,  0,  0,  0,  0,  0,  0,  0,  0,  0,\n",
       "        -1,  0,  0,  0,  0,  0,  0,  0, -1,  0,  0,  0, -1,  0,  0, -1,  0,\n",
       "         0,  0,  0,  0,  0,  0,  0,  0,  0,  0,  0,  0,  0,  0,  0,  0,  0,\n",
       "         0,  0,  0,  0, -1,  0,  0,  0,  0,  0,  0,  0, -1,  0,  0,  0, -1,\n",
       "         0,  0,  0,  0,  0,  0,  0,  0,  0,  0,  0,  0,  0,  0,  0, -1,  0,\n",
       "         0,  0,  0,  2, -1,  2,  0,  0, -1,  1,  0,  0,  0,  0,  0,  0,  2,\n",
       "         0,  0,  0,  0,  0, -1,  0,  0, -1,  0,  0,  0,  0,  0,  0,  0,  0,\n",
       "         0,  0,  2,  0,  0, -1, -1,  0,  0, -1,  0,  0,  0,  0,  0,  0,  0,\n",
       "         0,  0,  0,  0,  0,  0,  0,  0,  0,  0, -1,  0, -1,  0,  0,  0,  0,\n",
       "         0,  0,  0, -1,  0,  0,  0,  0,  0,  0,  0,  0,  0,  0,  0,  0,  0,\n",
       "         0,  0,  0,  0,  0,  0,  0,  0, -1,  0, -1,  0,  0,  0,  0,  0,  0,\n",
       "         0,  0,  0,  0,  0,  0,  0,  0, -1,  0,  0,  0,  0,  0,  0,  0,  0,\n",
       "         0,  0,  0,  0,  0,  0,  0,  0,  0,  0,  0,  0,  0, -1, -1,  0,  0,\n",
       "         0,  0,  0,  1, -1,  0,  0,  0,  0,  0,  0,  0,  0, -1,  0,  0,  0,\n",
       "         0,  0,  0,  0,  0,  0,  0,  0,  0,  0,  0,  0,  0,  0,  0,  0,  0,\n",
       "         0,  0,  0,  0,  0,  0,  0,  0,  0, -1,  0,  0,  0,  0,  0,  0,  0,\n",
       "         0,  0,  0,  0, -1,  0,  0,  0,  0,  0,  0,  0,  0,  0,  0,  0,  0,\n",
       "         0, -1,  0,  0,  0,  0,  0,  0,  0,  0, -1, -1, -1,  0, -1,  0,  0,\n",
       "         0,  0,  0,  0,  0,  0,  0,  0,  0, -1,  0,  0,  0, -1,  0,  0,  0,\n",
       "         0,  0,  0,  0,  0, -1,  0,  0,  0, -1,  0, -1,  0,  0,  0,  0,  0,\n",
       "         0,  0,  0,  0,  0, -1,  0,  0,  0,  0,  0,  0, -1,  0,  0,  0,  0,\n",
       "         0,  0,  0,  0,  0,  0,  0,  0,  0,  0,  0,  0,  0,  0,  0,  0,  0,\n",
       "         0,  0,  0,  0,  0,  0,  0,  0,  0,  0,  0,  0,  0,  0,  0, -1,  0,\n",
       "         0,  0,  0,  0,  0, -1, -1,  0,  0,  0,  0,  0,  0,  0,  0,  0,  0,\n",
       "        -1,  0,  0,  0,  0,  0,  0, -1,  0,  0, -1,  0,  0, -1,  0,  0,  0,\n",
       "        -1,  0,  0,  0,  0,  0, -1,  0,  0,  0,  0, -1,  0,  0,  0,  0,  0,\n",
       "         0,  0,  0,  0,  0,  0,  0,  0,  0,  0], dtype=int64),\n",
       " {'Silhouette Score': 0.10905903800976988,\n",
       "  'Davies-Bouldin Index': 3.1030322814328968,\n",
       "  'Calinski-Harabasz Index': 36.32797925043744})"
      ]
     },
     "execution_count": 51,
     "metadata": {},
     "output_type": "execute_result"
    }
   ],
   "execution_count": 51
  },
  {
   "metadata": {
    "ExecuteTime": {
     "end_time": "2024-05-21T11:23:17.313001Z",
     "start_time": "2024-05-21T11:23:17.259167Z"
    }
   },
   "cell_type": "code",
   "source": [
    "# Save the label output\n",
    "df_normalized['age_labels_dbscan'] = dbscan_clustering(age_df_cluster_distribution, 0.6, 4)[0]"
   ],
   "id": "cec1cffc4def6ec0",
   "outputs": [],
   "execution_count": 75
  },
  {
   "metadata": {},
   "cell_type": "markdown",
   "source": "### Social Clustering",
   "id": "bb1f8e3ed71cac84"
  },
  {
   "metadata": {
    "ExecuteTime": {
     "end_time": "2024-05-21T11:23:20.033544Z",
     "start_time": "2024-05-21T11:23:20.020442Z"
    }
   },
   "cell_type": "code",
   "source": [
    "neighbors_fit_social = neighbors.fit(social_df)\n",
    "distances_social, indices_social = neighbors_fit_social.kneighbors(social_df)"
   ],
   "id": "6b11f30356ed05",
   "outputs": [],
   "execution_count": 76
  },
  {
   "metadata": {
    "ExecuteTime": {
     "end_time": "2024-05-21T11:23:22.032242Z",
     "start_time": "2024-05-21T11:23:21.856068Z"
    }
   },
   "cell_type": "code",
   "source": [
    "distances_social = np.sort(distances_social, axis=0)\n",
    "distances_social = distances_social[:,1]\n",
    "plt.plot(distances_social)"
   ],
   "id": "de35c4d9ff2833e6",
   "outputs": [
    {
     "data": {
      "text/plain": [
       "[<matplotlib.lines.Line2D at 0x2457205d0d0>]"
      ]
     },
     "execution_count": 77,
     "metadata": {},
     "output_type": "execute_result"
    },
    {
     "data": {
      "text/plain": [
       "<Figure size 640x480 with 1 Axes>"
      ],
      "image/png": "[encoded data removed]"
     },
     "metadata": {},
     "output_type": "display_data"
    }
   ],
   "execution_count": 77
  },
  {
   "metadata": {
    "ExecuteTime": {
     "end_time": "2024-05-21T11:23:26.460052Z",
     "start_time": "2024-05-21T11:23:26.389175Z"
    }
   },
   "cell_type": "code",
   "source": "dbscan_clustering(social_df, 0.1, 4)",
   "id": "d4c49853ad8b1367",
   "outputs": [
    {
     "data": {
      "text/plain": [
       "(array([ 0,  0,  0,  0,  0,  0,  0,  0,  0,  0,  0,  0,  0,  0,  0,  0,  0,\n",
       "         0,  0,  0,  0,  0,  0,  0,  0,  0,  0,  0,  0,  0,  0,  0,  0,  0,\n",
       "         0,  0,  0,  0,  0,  0,  0,  0,  0,  0,  0,  0,  0,  0,  0,  0,  0,\n",
       "         0,  0,  0,  0, -1,  0,  0,  0,  0,  0,  0,  0,  0,  0,  0,  0,  0,\n",
       "         0,  0,  0,  0,  0,  0,  0,  0,  0,  0,  0,  0,  0,  0,  0,  0,  0,\n",
       "         0,  0,  0,  0,  0,  0,  0,  0,  0,  0,  0,  0,  0,  0,  0,  0,  0,\n",
       "         0,  0,  0,  0,  0,  0,  0,  0,  0,  0,  0,  0,  0,  0,  0,  0,  0,\n",
       "         0,  0,  0,  0,  0,  0,  0,  0,  0,  0,  0,  0,  0,  0,  0,  0,  0,\n",
       "         0, -1,  0, -1,  0,  0,  0,  0,  0,  0,  0,  0,  0,  0,  0,  0,  0,\n",
       "         0,  0,  0,  0,  0,  0,  0,  0,  0,  0,  0,  0,  0,  0,  0,  0,  0,\n",
       "         0,  0,  0,  0,  0,  0,  0,  0,  0,  0,  0,  0,  0,  0,  0,  0,  0,\n",
       "         0,  0,  0,  0,  0,  0,  0,  0,  0,  0,  0,  0,  0,  0,  0, -1,  0,\n",
       "         0,  0,  0,  0,  0,  0,  0,  0,  0,  0,  0,  0,  0,  0,  0,  0,  0,\n",
       "         0,  0,  0,  0,  0,  0,  0,  0,  0,  0,  0,  0,  0,  0,  0,  0,  0,\n",
       "         0,  0,  0,  0,  0,  0,  0,  0,  0,  0,  0,  0,  0,  0,  0,  0,  0,\n",
       "         0,  0,  0,  0,  0,  0,  0,  0,  0,  0,  0,  0,  0,  0,  0,  0,  0,\n",
       "         0,  0,  0,  0,  0,  0,  0,  0,  0,  0,  0,  0,  0, -1,  0,  0,  0,\n",
       "         0,  0,  0,  0,  0,  0,  0,  0,  0,  0,  0,  0,  0,  0,  0,  0,  0,\n",
       "         0,  0,  0,  0,  0,  0,  0,  0,  0,  0,  0,  0,  0,  0,  0,  0,  0,\n",
       "         0,  0,  0,  0,  0,  0,  0,  0,  0,  0,  0,  0,  0,  0,  0,  0,  0,\n",
       "         0,  0,  0,  0,  0,  0,  0, -1,  0,  0,  0,  0,  0,  0,  0,  0,  0,\n",
       "         0,  0,  0,  0,  0,  0,  0,  0,  0,  0,  0,  0,  0,  0,  0,  0,  0,\n",
       "         0,  0,  0,  0,  0,  0,  0,  0,  0,  0,  0,  0,  0,  0,  0,  0,  0,\n",
       "         0,  0,  0,  0,  0,  0,  0,  0,  0,  0,  0, -1,  0,  0,  0,  0,  0,\n",
       "         0,  0, -1,  0,  0,  0,  0,  0,  0,  0,  0,  0,  0,  0,  0,  0,  0,\n",
       "         0,  0,  0,  0,  0,  0,  0,  0,  0,  0,  0,  0,  0,  0,  0,  0,  0,\n",
       "         0,  0,  0,  0,  0,  0,  0,  0,  0,  0,  0,  0,  0,  0,  0,  0,  0,\n",
       "         0,  0,  0,  0,  0,  0,  0,  0,  0, -1,  0,  0,  0,  0,  0,  0,  0,\n",
       "         0,  0,  0,  0,  0,  0,  0,  0,  0,  0,  0,  0,  0,  0,  0,  0,  0,\n",
       "         0,  0,  0, -1,  0,  0,  0,  0,  0,  0,  0,  0,  0,  0,  0,  0,  0,\n",
       "         0,  0,  0,  0,  0,  0,  0,  0,  0,  0,  0,  0,  0,  0,  0,  0,  0,\n",
       "         0,  0,  0,  0,  0,  0,  0,  0,  0,  0,  0,  0,  0,  0,  0,  0,  0,\n",
       "         0,  0,  0,  0,  0,  0,  0,  0,  0,  0,  0,  0,  0,  0,  0,  0,  0,\n",
       "         0,  0,  0,  0,  0,  0,  0,  0,  0,  0,  0,  0,  0,  0,  0,  0,  0,\n",
       "         0,  0,  0,  0,  0,  0,  0,  0,  0,  0,  0,  0,  0,  0,  0,  0,  0,\n",
       "         0,  0,  0,  0,  0,  0,  0,  0,  0,  0,  0,  0,  0, -1,  0,  0,  0,\n",
       "         0,  0,  0,  0,  0,  0,  0,  0,  0,  0,  0,  0,  0,  0,  0,  0,  0,\n",
       "         0,  0,  0,  0,  0,  0,  0,  0,  0, -1,  0,  0,  0,  0,  0,  0,  0,\n",
       "         0,  0,  0,  0,  0,  0,  0,  0,  0,  0,  0, -1,  0,  0,  0,  0,  0,\n",
       "         0,  0,  0,  0,  0,  0,  0,  0,  0,  0,  0,  0,  0,  0,  0,  0,  0,\n",
       "         0,  0,  0,  0,  0,  0,  0,  0, -1,  0,  0,  0,  0,  0,  0,  0,  0,\n",
       "         0,  0,  0,  0,  0,  0,  0,  0, -1,  0,  0,  0,  0,  0,  0,  0,  0,\n",
       "         0,  0,  0,  0,  0,  0,  0,  0,  0,  0,  0,  0,  0, -1,  0,  0,  0,\n",
       "         0,  0,  0,  0,  0,  0,  0,  0,  0,  0,  0,  0,  0,  0,  0,  0,  0,\n",
       "         0,  0,  0,  0,  0,  0,  0,  0,  0,  0,  0,  0,  0,  0,  0,  0,  0,\n",
       "         0, -1,  0,  0,  0,  0,  0,  0,  0,  0,  0,  0,  0,  0,  0,  0, -1,\n",
       "         0,  0,  0,  0,  0,  0,  0,  0,  0,  0,  0, -1,  0,  0,  0,  0,  0,\n",
       "         0,  0,  0,  0,  0,  0,  0,  0,  0,  0,  0,  0,  0,  0,  0,  0,  0,\n",
       "         0,  0,  0,  0,  0,  0,  0,  0,  0,  0,  0,  0,  0,  0,  0,  0,  0,\n",
       "         0,  0,  0,  0,  0,  0,  0,  0,  0,  0,  0,  0,  0,  0,  0,  0,  0,\n",
       "         0,  0,  0,  0,  0,  0,  0,  0,  0,  0,  0,  0,  0,  0,  0,  0,  0,\n",
       "         0,  0,  0,  0,  0,  0,  0,  0,  0,  0,  0,  0,  0,  0,  0,  0,  0,\n",
       "         0,  0,  0,  0,  0,  0,  0,  0,  0,  0,  0,  0,  0,  0,  0,  0,  0,\n",
       "         0,  0,  0,  0,  0,  0,  0,  0,  0,  0,  0,  0,  0,  0,  0,  0,  0,\n",
       "         0,  0,  0,  0,  0,  0,  0, -1,  0,  0,  0,  0,  0,  0,  0,  0,  0,\n",
       "         0,  0,  0,  0,  0,  0,  0,  0,  0,  0,  0,  0,  0,  0,  0,  0,  0,\n",
       "         0,  0,  0,  0,  0,  0,  0,  0,  0,  0], dtype=int64),\n",
       " {'Silhouette Score': 0.5394165216672815,\n",
       "  'Davies-Bouldin Index': 2.2325935412145226,\n",
       "  'Calinski-Harabasz Index': 36.247545578577})"
      ]
     },
     "execution_count": 78,
     "metadata": {},
     "output_type": "execute_result"
    }
   ],
   "execution_count": 78
  },
  {
   "metadata": {
    "ExecuteTime": {
     "end_time": "2024-05-21T11:23:32.150671Z",
     "start_time": "2024-05-21T11:23:32.092074Z"
    }
   },
   "cell_type": "code",
   "source": [
    "# Save the label output\n",
    "df_normalized['social_labels_dbscan'] = dbscan_clustering(social_df, 0.1, 4)[0]"
   ],
   "id": "69d04da43d1d6d17",
   "outputs": [],
   "execution_count": 79
  },
  {
   "metadata": {},
   "cell_type": "markdown",
   "source": "### Demographic Clustering",
   "id": "5e4ce9db703ce4d0"
  },
  {
   "metadata": {
    "ExecuteTime": {
     "end_time": "2024-05-21T11:23:36.854318Z",
     "start_time": "2024-05-21T11:23:36.843227Z"
    }
   },
   "cell_type": "code",
   "source": [
    "neighbors_fit_demographic = neighbors.fit(demographic_df)\n",
    "distances_demographic, indices_demographic = neighbors_fit_demographic.kneighbors(demographic_df)"
   ],
   "id": "ef57b10ae737b371",
   "outputs": [],
   "execution_count": 80
  },
  {
   "metadata": {
    "ExecuteTime": {
     "end_time": "2024-05-21T11:23:39.072222Z",
     "start_time": "2024-05-21T11:23:38.917702Z"
    }
   },
   "cell_type": "code",
   "source": [
    "distances_demographic = np.sort(distances_demographic, axis=0)\n",
    "distances_demographic = distances_demographic[:,1]\n",
    "plt.plot(distances_demographic)"
   ],
   "id": "8b6830fd06c3fd7f",
   "outputs": [
    {
     "data": {
      "text/plain": [
       "[<matplotlib.lines.Line2D at 0x24571f8ac90>]"
      ]
     },
     "execution_count": 81,
     "metadata": {},
     "output_type": "execute_result"
    },
    {
     "data": {
      "text/plain": [
       "<Figure size 640x480 with 1 Axes>"
      ],
      "image/png": "[encoded data removed]"
     },
     "metadata": {},
     "output_type": "display_data"
    }
   ],
   "execution_count": 81
  },
  {
   "metadata": {
    "ExecuteTime": {
     "end_time": "2024-05-21T11:23:41.879650Z",
     "start_time": "2024-05-21T11:23:41.825917Z"
    }
   },
   "cell_type": "code",
   "source": "dbscan_clustering(demographic_df, 0.06, 4)",
   "id": "18a5186eb4197493",
   "outputs": [
    {
     "data": {
      "text/plain": [
       "(array([ 0,  0,  0,  0,  0,  0,  0,  0,  0,  0,  0,  0,  0,  0,  0,  0,  0,\n",
       "         0,  0,  0,  0,  0,  0,  0,  0,  0,  0,  0,  0,  0,  0,  0,  0,  0,\n",
       "         0,  0,  0,  0,  0,  0,  0,  0,  0,  0,  0,  0,  0,  0,  0,  0,  0,\n",
       "         0,  0,  0,  0, -1,  0,  0,  0,  0,  0,  0,  0,  0,  0,  0,  0,  0,\n",
       "         0,  0,  0,  0,  0,  0,  0,  0,  0,  0,  0,  0,  0,  0,  0,  0,  0,\n",
       "         0,  0,  0,  0,  0,  0,  0,  0,  0,  0,  0,  0,  0,  0,  0,  0,  0,\n",
       "         0,  0,  0,  0,  0,  0,  0,  0,  0,  0,  0,  0,  0,  0,  0,  0,  0,\n",
       "         0,  0,  0,  0,  0,  0,  0,  0,  0,  0,  0,  0,  0,  0,  0,  0,  0,\n",
       "         0,  0,  0, -1,  0,  0,  0,  0,  0,  0,  0,  0,  0,  0,  0,  0,  0,\n",
       "         0,  0,  0,  0,  0,  0,  0,  0,  0,  0,  0,  0,  0,  0,  0,  0,  0,\n",
       "         0,  0,  0,  0,  0,  0,  0,  0,  0,  0,  0,  0,  0,  0,  0,  0,  0,\n",
       "         0,  0,  0,  0,  0,  0,  0,  0,  0,  0,  0,  0,  0,  0,  0,  0,  0,\n",
       "         0,  0,  0,  0,  0,  0,  0,  0,  0,  0,  0,  0,  0,  0,  0,  0,  0,\n",
       "         0,  0,  0,  0,  0,  0,  0,  0,  0,  0,  0,  0,  0,  0,  0,  0,  0,\n",
       "         0,  0,  0,  0,  0,  0,  0,  0,  0,  0,  0,  0,  0,  0,  0,  0,  0,\n",
       "         0,  0,  0,  0,  0,  0,  0,  0,  0,  0,  0,  0,  0,  0,  0,  0,  0,\n",
       "         0,  0,  0,  0,  0,  0,  0,  0,  0,  0,  0,  0,  0,  0,  0,  0,  0,\n",
       "         0,  0,  0,  0,  0,  0,  0,  0,  0,  0,  0,  0,  0,  0,  0,  0,  0,\n",
       "         0,  0,  0,  0,  0,  0,  0,  0,  0,  0,  0,  0,  0,  0,  0,  0,  0,\n",
       "         0,  0,  0,  0,  0,  0,  0,  0,  0,  0,  0,  0,  0,  0,  0,  0,  0,\n",
       "         0,  0,  0,  0,  0,  0,  0,  0,  0, -1,  0,  0, -1,  0,  0,  0,  0,\n",
       "         0,  0,  0,  0,  0,  0,  0,  0,  0,  0, -1, -1,  0,  0,  0,  0,  0,\n",
       "         0,  0, -1,  0,  0,  0,  0,  0, -1, -1, -1,  0,  0,  0,  0,  0, -1,\n",
       "        -1, -1,  0,  0,  0,  0,  0, -1, -1, -1,  0,  0, -1, -1, -1, -1,  0,\n",
       "         0, -1,  0,  0, -1, -1,  0,  0,  0,  0,  0,  0,  0,  0,  0,  0,  0,\n",
       "         0,  0,  0,  0,  0,  0,  0,  0,  0,  0,  0,  0,  0,  0,  0,  0,  0,\n",
       "         0,  0,  0,  0,  0,  0,  0,  0,  0,  0,  0,  0,  0,  0,  0,  0,  0,\n",
       "         0,  0,  0,  0,  0,  0,  0,  0,  0, -1,  0,  0,  0,  0,  0,  0,  0,\n",
       "         0,  0,  0,  0,  0,  0,  0,  0,  0,  0,  0,  0,  0,  0,  0,  0,  0,\n",
       "         0,  0,  0,  0,  0,  0,  0,  0,  0,  0,  0,  0,  0,  0,  0,  0,  0,\n",
       "         0,  0,  0,  0,  0,  0,  0,  0,  0,  0,  0,  0,  0,  0,  0,  0,  0,\n",
       "         0,  0,  0,  0,  0,  0,  0,  0,  0,  0,  0,  0,  0,  0,  0,  0,  0,\n",
       "         0,  0,  0,  0,  0,  0,  0,  0,  0,  0,  0,  0,  0,  0,  0,  0,  0,\n",
       "         0,  0,  0,  0,  0,  0,  0,  0,  0,  0,  0,  0,  0,  0,  0,  0,  0,\n",
       "         0,  0,  0,  0,  0,  0,  0,  0,  0,  0,  0,  0,  0,  0,  0,  0,  0,\n",
       "         0,  0,  0,  0,  0,  0,  0,  0,  0,  0,  0,  0,  0,  0,  0,  0,  0,\n",
       "         0,  0,  0,  0,  0,  0,  0,  0,  0,  0,  0,  0,  0,  0,  0,  0,  0,\n",
       "         0,  0,  0,  0,  0,  0,  0,  0,  0,  0,  0,  0,  0,  0,  0,  0,  0,\n",
       "         0,  0,  0,  0,  0,  0,  0,  0,  0,  0,  0,  0,  0,  0,  0,  0,  0,\n",
       "         0,  0,  0,  0, -1,  0,  0,  0,  0,  0,  0,  0,  0,  0,  0,  0,  0,\n",
       "         0,  0,  0,  0,  0,  0,  0,  0,  0,  0,  0,  0,  0,  0,  0,  0,  0,\n",
       "         0,  0,  0,  0,  0,  0,  0,  0,  0,  0,  0,  0,  0,  0,  0,  0,  0,\n",
       "         0,  0,  0,  0,  0,  0,  0,  0,  0,  0,  0,  0,  0,  0,  0,  0,  0,\n",
       "         0,  0,  0,  0,  0,  0,  0,  0,  0,  0,  0,  0,  0,  0,  0,  0,  0,\n",
       "         0,  0,  0,  0,  0,  0,  0,  0,  0,  0,  0,  0,  0,  0,  0,  0,  0,\n",
       "         0,  0,  0,  0,  0,  0,  0,  0,  0,  0,  0,  0,  0,  0,  0,  0,  0,\n",
       "         0,  0,  0,  0,  0,  0,  0,  0,  0,  0,  0,  0,  0,  0,  0,  0,  0,\n",
       "         0,  0,  0,  0,  0,  0,  0,  0,  0,  0,  0,  0,  0,  0,  0,  0,  0,\n",
       "         0,  0,  0,  0,  0,  0,  0,  0,  0,  0,  0,  0,  0,  0,  0,  0,  0,\n",
       "         0,  0,  0,  0,  0,  0,  0,  0,  0,  0,  0,  0,  0,  0,  0,  0,  0,\n",
       "         0,  0,  0,  0,  0,  0,  0,  0,  0,  0,  0,  0,  0,  0,  0,  0,  0,\n",
       "         0,  0,  0,  0,  0,  0,  0,  0,  0,  0,  0,  0,  0,  0,  0,  0,  0,\n",
       "         0,  0,  0,  0,  0,  0,  0,  0,  0,  0,  0,  0,  0,  0,  0,  0,  0,\n",
       "         0,  0,  0,  0,  0, -1,  0,  0,  0,  0,  0,  0,  0,  0,  0,  0,  0,\n",
       "         0,  0,  0,  0,  0,  0,  0,  0,  0,  0,  0,  0,  0,  0,  0,  0,  0,\n",
       "         0,  0,  0,  0,  0,  0,  0,  0,  0,  0,  0,  0,  0,  0,  0,  0,  0,\n",
       "         0,  0,  0,  0,  0,  0,  0,  0,  0,  0], dtype=int64),\n",
       " {'Silhouette Score': 0.5125078223003526,\n",
       "  'Davies-Bouldin Index': 1.2146959623375966,\n",
       "  'Calinski-Harabasz Index': 76.59937735480838})"
      ]
     },
     "execution_count": 82,
     "metadata": {},
     "output_type": "execute_result"
    }
   ],
   "execution_count": 82
  },
  {
   "metadata": {
    "ExecuteTime": {
     "end_time": "2024-05-21T11:23:51.984744Z",
     "start_time": "2024-05-21T11:23:51.935695Z"
    }
   },
   "cell_type": "code",
   "source": [
    "# Save the label output\n",
    "df_normalized['demographic_labels_dbscan'] = dbscan_clustering(demographic_df, 0.06, 4)[0]"
   ],
   "id": "3972b1203d8fccea",
   "outputs": [],
   "execution_count": 83
  },
  {
   "metadata": {},
   "cell_type": "markdown",
   "source": "# Save the output",
   "id": "da70cc321f6412ac"
  },
  {
   "metadata": {
    "ExecuteTime": {
     "end_time": "2024-05-21T11:24:24.074459Z",
     "start_time": "2024-05-21T11:24:24.030141Z"
    }
   },
   "cell_type": "code",
   "source": "df_normalized.to_csv(r\"C:\\Users\\VY\\Downloads\\df_normalized_clustering_output.csv\", index=False)",
   "id": "577a8b08bee04cfa",
   "outputs": [],
   "execution_count": 84
  }
 ],
 "metadata": {
  "kernelspec": {
   "display_name": "Python 3",
   "language": "python",
   "name": "python3"
  },
  "language_info": {
   "codemirror_mode": {
    "name": "ipython",
    "version": 2
   },
   "file_extension": ".py",
   "mimetype": "text/x-python",
   "name": "python",
   "nbconvert_exporter": "python",
   "pygments_lexer": "ipython2",
   "version": "2.7.6"
  }
 },
 "nbformat": 4,
 "nbformat_minor": 5
}

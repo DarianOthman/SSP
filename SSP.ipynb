{
 "cells": [
  {
   "cell_type": "code",
   "execution_count": 2,
   "id": "initial_id",
   "metadata": {
    "collapsed": true,
    "ExecuteTime": {
     "end_time": "2024-05-01T13:54:13.150530600Z",
     "start_time": "2024-05-01T13:54:12.901528Z"
    }
   },
   "outputs": [],
   "source": [
    "import pandas as pd\n",
    "df = pd.read_csv(\"data_preprocessed.csv\", index_col=0)  "
   ]
  },
  {
   "cell_type": "code",
   "execution_count": 3,
   "outputs": [
    {
     "name": "stderr",
     "output_type": "stream",
     "text": [
      "C:\\Users\\I6240624\\AppData\\Local\\Temp\\ipykernel_14924\\444341776.py:12: FutureWarning: Series.__getitem__ treating keys as positions is deprecated. In a future version, integer keys will always be treated as labels (consistent with DataFrame behavior). To access a value by position, use `ser.iloc[pos]`\n",
      "  average_value = (row1[-1] + row2[-1]) / 2\n",
      "C:\\Users\\I6240624\\AppData\\Local\\Temp\\ipykernel_14924\\444341776.py:15: FutureWarning: Series.__getitem__ treating keys as positions is deprecated. In a future version, integer keys will always be treated as labels (consistent with DataFrame behavior). To access a value by position, use `ser.iloc[pos]`\n",
      "  new_row = [max(row1[0], row2[0]), 2021, average_value]\n"
     ]
    }
   ],
   "source": [
    "df_wijk = pd.read_csv(\"Leefbaarometer-scores wijken 2002-2022.csv\")\n",
    "df_wijk=df_wijk.iloc[:,:4]\n",
    "df_wijk=df_wijk[(df_wijk['jaar']==2020) | (df_wijk['jaar']==2022)]\n",
    "df_wijk[\"wk_code\"]=df_wijk[\"wk_code\"].apply(lambda x: x[2:])\n",
    "df_wijk.rename(columns={'wk_naam': 'name'}, inplace=True)\n",
    "df_all = []\n",
    "for i in range(0, len(df_wijk)-1, 2):\n",
    "    row1 = df_wijk.iloc[i]\n",
    "    row2 = df_wijk.iloc[i+1]\n",
    "    \n",
    "    # Calculate the average of the last column values\n",
    "    average_value = (row1[-1] + row2[-1]) / 2\n",
    "    \n",
    "    # Create a new row with the average value\n",
    "    new_row = [max(row1[0], row2[0]), 2021, average_value]\n",
    "    \n",
    "    # Append the new row to the averaged df_wijk\n",
    "    df_all.append(new_row)\n"
   ],
   "metadata": {
    "collapsed": false,
    "ExecuteTime": {
     "end_time": "2024-05-01T13:54:15.337798100Z",
     "start_time": "2024-05-01T13:54:12.958335300Z"
    }
   },
   "id": "c428aefe1805477d"
  },
  {
   "cell_type": "code",
   "execution_count": 4,
   "outputs": [
    {
     "name": "stderr",
     "output_type": "stream",
     "text": [
      "C:\\Users\\I6240624\\AppData\\Local\\Temp\\ipykernel_14924\\3285892393.py:11: FutureWarning: Series.__getitem__ treating keys as positions is deprecated. In a future version, integer keys will always be treated as labels (consistent with DataFrame behavior). To access a value by position, use `ser.iloc[pos]`\n",
      "  average_value = (row1[-1] + row2[-1]) / 2\n",
      "C:\\Users\\I6240624\\AppData\\Local\\Temp\\ipykernel_14924\\3285892393.py:14: FutureWarning: Series.__getitem__ treating keys as positions is deprecated. In a future version, integer keys will always be treated as labels (consistent with DataFrame behavior). To access a value by position, use `ser.iloc[pos]`\n",
      "  new_row = [max(row1[0], row2[0]), 2021, average_value]\n"
     ]
    }
   ],
   "source": [
    "df_buurt = pd.read_csv(\"Leefbaarometer-scores buurten 2002-2022.csv\")\n",
    "df_buurt=df_buurt.iloc[:,:4]\n",
    "df_buurt=df_buurt[(df_buurt['jaar']==2020) | (df_buurt['jaar']==2022)]\n",
    "df_buurt[\"bu_code\"]=df_buurt[\"bu_code\"].apply(lambda x: x[2:])\n",
    "df_buurt.rename(columns={'bu_naam': 'name'}, inplace=True)\n",
    "for i in range(0, len(df_buurt)-1, 2):\n",
    "    row1 = df_buurt.iloc[i]\n",
    "    row2 = df_buurt.iloc[i+1]\n",
    "    \n",
    "    # Calculate the average of the last column values\n",
    "    average_value = (row1[-1] + row2[-1]) / 2\n",
    "    \n",
    "    # Create a new row with the average value\n",
    "    new_row = [max(row1[0], row2[0]), 2021, average_value]\n",
    "    \n",
    "    # Append the new row to the averaged df_wijk\n",
    "    df_all.append(new_row)\n",
    "df_all = pd.DataFrame(df_all, columns=[\"code\", \"year\", \"liveability_score\"])\n",
    "df_all[\"code\"] = df_all[\"code\"].astype(int)"
   ],
   "metadata": {
    "collapsed": false,
    "ExecuteTime": {
     "end_time": "2024-05-01T13:54:18.913179900Z",
     "start_time": "2024-05-01T13:54:15.332036800Z"
    }
   },
   "id": "c6e7a97d18137f64"
  },
  {
   "cell_type": "code",
   "execution_count": 5,
   "outputs": [],
   "source": [
    "df=pd.merge(df, df_all, left_on=\"gwb_code_10\",right_on=\"code\", how='inner')"
   ],
   "metadata": {
    "collapsed": false,
    "ExecuteTime": {
     "end_time": "2024-05-01T13:54:18.966809400Z",
     "start_time": "2024-05-01T13:54:18.925147Z"
    }
   },
   "id": "7d001a6e1350c495"
  },
  {
   "cell_type": "code",
   "execution_count": 6,
   "outputs": [],
   "source": [
    "# Define proportion function\n",
    "def calculate_proportions(df, col1, col2, col3):\n",
    "    df[col1] = df[col2] / df[col3]\n",
    "    return df\n",
    "\n",
    "# Define scoring function\n",
    "def scoring(row, column):\n",
    "    if row[column] > df[column].mean():\n",
    "        return df[column].mean() / row[column]\n",
    "    else:\n",
    "        return row[column] / df[column].mean()"
   ],
   "metadata": {
    "collapsed": false,
    "ExecuteTime": {
     "end_time": "2024-05-01T13:54:18.966809400Z",
     "start_time": "2024-05-01T13:54:18.947442200Z"
    }
   },
   "id": "bd77b96b66226923"
  },
  {
   "cell_type": "code",
   "execution_count": 7,
   "outputs": [],
   "source": [
    "calculate_proportions(df, 'prop_0-14', 'Numbers.of.people.from.0.14.years.old', 'Number.of.inhabitants')\n",
    "calculate_proportions(df, 'prop_15-24', 'Number.of.people.from.15.24.years.old', 'Number.of.inhabitants')\n",
    "calculate_proportions(df, 'prop_25-44', 'Number.of.people.from.25.44.years.old', 'Number.of.inhabitants')\n",
    "calculate_proportions(df, 'prop_45-64', 'Number.of.people.from.45.64.years.old', 'Number.of.inhabitants')\n",
    "calculate_proportions(df, 'prop_65+', 'Number.of.people....65.years.old', 'Number.of.inhabitants')\n",
    "calculate_proportions(df, 'prop_low_ed', 'n_low_educated', 'Number.of.inhabitants')\n",
    "calculate_proportions(df, 'prop_med_ed', 'n_highschool_educated', 'Number.of.inhabitants')\n",
    "calculate_proportions(df, 'prop_high_ed', 'n_highly_educated', 'Number.of.inhabitants')\n",
    "calculate_proportions(df, 'prop_recipients', 'n_income_recipients', 'Number.of.inhabitants')\n",
    "df['prop_employee']=((df[\"Number.of.inhabitants\"]-df['n_income_recipients'])*(df['p_employees']/100))/df[\"Number.of.inhabitants\"]\n",
    "df[\"prop_self_employed\"]=1-df['prop_employee']-df['prop_recipients']\n",
    "df.dropna(inplace=True)"
   ],
   "metadata": {
    "collapsed": false,
    "ExecuteTime": {
     "end_time": "2024-05-01T13:54:19.036134Z",
     "start_time": "2024-05-01T13:54:18.958804500Z"
    }
   },
   "id": "52c6d8d7d4734fc0"
  },
  {
   "cell_type": "code",
   "execution_count": 8,
   "outputs": [],
   "source": [
    "# Define df_score DataFrame\n",
    "df_score = pd.DataFrame()\n",
    "\n",
    "# Apply the function to each row in the 'prop_0-14' column\n",
    "df_score['score_0-14'] = df.apply(scoring, column=\"prop_0-14\", axis=1)\n",
    "df_score['score_15-24'] = df.apply(scoring, column=\"prop_15-24\", axis=1)\n",
    "df_score['score_25-44'] = df.apply(scoring, column=\"prop_25-44\", axis=1)\n",
    "df_score['score_45-64'] = df.apply(scoring, column=\"prop_45-64\", axis=1)\n",
    "df_score['score_65+'] = df.apply(scoring, column=\"prop_65+\", axis=1)\n",
    "df_score['score_age']=(df_score['score_0-14']+df_score['score_15-24']+df_score['score_25-44']+df_score['score_45-64']+df_score['score_65+'])/5"
   ],
   "metadata": {
    "collapsed": false,
    "ExecuteTime": {
     "end_time": "2024-05-01T13:54:19.924231900Z",
     "start_time": "2024-05-01T13:54:19.024093900Z"
    }
   },
   "id": "31519f1833c4b3f6"
  },
  {
   "cell_type": "code",
   "execution_count": 9,
   "outputs": [
    {
     "data": {
      "text/plain": "     score_0-14  score_15-24  score_25-44  score_45-64  score_65+  score_age  \\\n0      0.717708     0.674003     0.764889     0.827972   0.421505   0.681215   \n1      0.759077     0.719879     0.855686     0.994688   0.762978   0.818462   \n2      0.853917     0.686808     0.823990     0.930168   0.943042   0.847585   \n3      0.908054     0.893081     0.738671     0.759890   0.865088   0.832957   \n4      0.754089     0.903688     0.812209     0.761722   0.522856   0.750913   \n..          ...          ...          ...          ...        ...        ...   \n957    0.851775     0.971384     0.893124     0.907946   0.952583   0.915363   \n958    0.748417     0.999031     0.949813     0.846566   0.496591   0.808084   \n959    0.987183     0.819173     0.664688     0.741769   0.742222   0.791007   \n960    0.908088     0.677151     0.819491     0.820152   0.802687   0.805514   \n961    0.780693     0.812737     0.681575     0.794606   0.813932   0.776709   \n\n     score_men  score_women  score_gender  score_household_size  ...  \\\n0     0.937644     0.935850      0.936747              0.838573  ...   \n1     0.962498     0.967187      0.964842              0.908573  ...   \n2     0.961591     0.962230      0.961911              0.890983  ...   \n3     0.975085     0.976658      0.975872              0.867275  ...   \n4     0.992053     0.991998      0.992026              0.763202  ...   \n..         ...          ...           ...                   ...  ...   \n957   0.992298     0.995622      0.993960              0.890983  ...   \n958   0.959040     0.966287      0.962664              0.995805  ...   \n959   0.983866     0.983628      0.983747              0.829567  ...   \n960   0.975638     0.979116      0.977377              0.954002  ...   \n961   0.950443     0.946810      0.948626              0.829567  ...   \n\n     score_low_ed  score_med_ed  score_high_ed  score_education  \\\n0        0.639238      0.952491       0.451299         0.681009   \n1        0.607478      0.842472       0.452468         0.634139   \n2        0.897765      0.832839       0.844211         0.858272   \n3        0.860343      0.719066       0.650739         0.743383   \n4        0.688132      0.711615       0.481011         0.626919   \n..            ...           ...            ...              ...   \n957      0.578132      0.799268       0.437182         0.604861   \n958      0.603772      0.883472       0.600932         0.696059   \n959      0.941598      0.713959       0.780092         0.811883   \n960      0.606484      0.836241       0.558887         0.667204   \n961      0.990738      0.726311       0.604659         0.773903   \n\n     score_recipients  score_employee  score_self_employed  score_employment  \\\n0            0.969363        0.896079             0.781143          0.882195   \n1            0.991769        0.986537             0.755196          0.911167   \n2            0.922879        0.715250             0.872537          0.836889   \n3            0.990325        0.981076             0.697051          0.889484   \n4            0.966149        0.813595             0.695244          0.824996   \n..                ...             ...                  ...               ...   \n957          0.974235        0.846640             0.737128          0.852668   \n958          0.976010        0.842478             0.671409          0.829966   \n959          0.960046        0.865894             0.699327          0.841755   \n960          0.991063        0.989433             0.752985          0.911160   \n961          0.987001        0.958877             0.898828          0.948236   \n\n     score_density  score_liveability  \n0         0.329175           4.113391  \n1         0.608036           3.965993  \n2         0.604077           4.035158  \n3         0.527409           4.031153  \n4         0.943669           3.966037  \n..             ...                ...  \n957       0.995024           3.866068  \n958       0.977772           3.750136  \n959       0.528867           3.857822  \n960       0.485428           3.931361  \n961       0.533034           3.966485  \n\n[962 rows x 23 columns]",
      "text/html": "<div>\n<style scoped>\n    .dataframe tbody tr th:only-of-type {\n        vertical-align: middle;\n    }\n\n    .dataframe tbody tr th {\n        vertical-align: top;\n    }\n\n    .dataframe thead th {\n        text-align: right;\n    }\n</style>\n<table border=\"1\" class=\"dataframe\">\n  <thead>\n    <tr style=\"text-align: right;\">\n      <th></th>\n      <th>score_0-14</th>\n      <th>score_15-24</th>\n      <th>score_25-44</th>\n      <th>score_45-64</th>\n      <th>score_65+</th>\n      <th>score_age</th>\n      <th>score_men</th>\n      <th>score_women</th>\n      <th>score_gender</th>\n      <th>score_household_size</th>\n      <th>...</th>\n      <th>score_low_ed</th>\n      <th>score_med_ed</th>\n      <th>score_high_ed</th>\n      <th>score_education</th>\n      <th>score_recipients</th>\n      <th>score_employee</th>\n      <th>score_self_employed</th>\n      <th>score_employment</th>\n      <th>score_density</th>\n      <th>score_liveability</th>\n    </tr>\n  </thead>\n  <tbody>\n    <tr>\n      <th>0</th>\n      <td>0.717708</td>\n      <td>0.674003</td>\n      <td>0.764889</td>\n      <td>0.827972</td>\n      <td>0.421505</td>\n      <td>0.681215</td>\n      <td>0.937644</td>\n      <td>0.935850</td>\n      <td>0.936747</td>\n      <td>0.838573</td>\n      <td>...</td>\n      <td>0.639238</td>\n      <td>0.952491</td>\n      <td>0.451299</td>\n      <td>0.681009</td>\n      <td>0.969363</td>\n      <td>0.896079</td>\n      <td>0.781143</td>\n      <td>0.882195</td>\n      <td>0.329175</td>\n      <td>4.113391</td>\n    </tr>\n    <tr>\n      <th>1</th>\n      <td>0.759077</td>\n      <td>0.719879</td>\n      <td>0.855686</td>\n      <td>0.994688</td>\n      <td>0.762978</td>\n      <td>0.818462</td>\n      <td>0.962498</td>\n      <td>0.967187</td>\n      <td>0.964842</td>\n      <td>0.908573</td>\n      <td>...</td>\n      <td>0.607478</td>\n      <td>0.842472</td>\n      <td>0.452468</td>\n      <td>0.634139</td>\n      <td>0.991769</td>\n      <td>0.986537</td>\n      <td>0.755196</td>\n      <td>0.911167</td>\n      <td>0.608036</td>\n      <td>3.965993</td>\n    </tr>\n    <tr>\n      <th>2</th>\n      <td>0.853917</td>\n      <td>0.686808</td>\n      <td>0.823990</td>\n      <td>0.930168</td>\n      <td>0.943042</td>\n      <td>0.847585</td>\n      <td>0.961591</td>\n      <td>0.962230</td>\n      <td>0.961911</td>\n      <td>0.890983</td>\n      <td>...</td>\n      <td>0.897765</td>\n      <td>0.832839</td>\n      <td>0.844211</td>\n      <td>0.858272</td>\n      <td>0.922879</td>\n      <td>0.715250</td>\n      <td>0.872537</td>\n      <td>0.836889</td>\n      <td>0.604077</td>\n      <td>4.035158</td>\n    </tr>\n    <tr>\n      <th>3</th>\n      <td>0.908054</td>\n      <td>0.893081</td>\n      <td>0.738671</td>\n      <td>0.759890</td>\n      <td>0.865088</td>\n      <td>0.832957</td>\n      <td>0.975085</td>\n      <td>0.976658</td>\n      <td>0.975872</td>\n      <td>0.867275</td>\n      <td>...</td>\n      <td>0.860343</td>\n      <td>0.719066</td>\n      <td>0.650739</td>\n      <td>0.743383</td>\n      <td>0.990325</td>\n      <td>0.981076</td>\n      <td>0.697051</td>\n      <td>0.889484</td>\n      <td>0.527409</td>\n      <td>4.031153</td>\n    </tr>\n    <tr>\n      <th>4</th>\n      <td>0.754089</td>\n      <td>0.903688</td>\n      <td>0.812209</td>\n      <td>0.761722</td>\n      <td>0.522856</td>\n      <td>0.750913</td>\n      <td>0.992053</td>\n      <td>0.991998</td>\n      <td>0.992026</td>\n      <td>0.763202</td>\n      <td>...</td>\n      <td>0.688132</td>\n      <td>0.711615</td>\n      <td>0.481011</td>\n      <td>0.626919</td>\n      <td>0.966149</td>\n      <td>0.813595</td>\n      <td>0.695244</td>\n      <td>0.824996</td>\n      <td>0.943669</td>\n      <td>3.966037</td>\n    </tr>\n    <tr>\n      <th>...</th>\n      <td>...</td>\n      <td>...</td>\n      <td>...</td>\n      <td>...</td>\n      <td>...</td>\n      <td>...</td>\n      <td>...</td>\n      <td>...</td>\n      <td>...</td>\n      <td>...</td>\n      <td>...</td>\n      <td>...</td>\n      <td>...</td>\n      <td>...</td>\n      <td>...</td>\n      <td>...</td>\n      <td>...</td>\n      <td>...</td>\n      <td>...</td>\n      <td>...</td>\n      <td>...</td>\n    </tr>\n    <tr>\n      <th>957</th>\n      <td>0.851775</td>\n      <td>0.971384</td>\n      <td>0.893124</td>\n      <td>0.907946</td>\n      <td>0.952583</td>\n      <td>0.915363</td>\n      <td>0.992298</td>\n      <td>0.995622</td>\n      <td>0.993960</td>\n      <td>0.890983</td>\n      <td>...</td>\n      <td>0.578132</td>\n      <td>0.799268</td>\n      <td>0.437182</td>\n      <td>0.604861</td>\n      <td>0.974235</td>\n      <td>0.846640</td>\n      <td>0.737128</td>\n      <td>0.852668</td>\n      <td>0.995024</td>\n      <td>3.866068</td>\n    </tr>\n    <tr>\n      <th>958</th>\n      <td>0.748417</td>\n      <td>0.999031</td>\n      <td>0.949813</td>\n      <td>0.846566</td>\n      <td>0.496591</td>\n      <td>0.808084</td>\n      <td>0.959040</td>\n      <td>0.966287</td>\n      <td>0.962664</td>\n      <td>0.995805</td>\n      <td>...</td>\n      <td>0.603772</td>\n      <td>0.883472</td>\n      <td>0.600932</td>\n      <td>0.696059</td>\n      <td>0.976010</td>\n      <td>0.842478</td>\n      <td>0.671409</td>\n      <td>0.829966</td>\n      <td>0.977772</td>\n      <td>3.750136</td>\n    </tr>\n    <tr>\n      <th>959</th>\n      <td>0.987183</td>\n      <td>0.819173</td>\n      <td>0.664688</td>\n      <td>0.741769</td>\n      <td>0.742222</td>\n      <td>0.791007</td>\n      <td>0.983866</td>\n      <td>0.983628</td>\n      <td>0.983747</td>\n      <td>0.829567</td>\n      <td>...</td>\n      <td>0.941598</td>\n      <td>0.713959</td>\n      <td>0.780092</td>\n      <td>0.811883</td>\n      <td>0.960046</td>\n      <td>0.865894</td>\n      <td>0.699327</td>\n      <td>0.841755</td>\n      <td>0.528867</td>\n      <td>3.857822</td>\n    </tr>\n    <tr>\n      <th>960</th>\n      <td>0.908088</td>\n      <td>0.677151</td>\n      <td>0.819491</td>\n      <td>0.820152</td>\n      <td>0.802687</td>\n      <td>0.805514</td>\n      <td>0.975638</td>\n      <td>0.979116</td>\n      <td>0.977377</td>\n      <td>0.954002</td>\n      <td>...</td>\n      <td>0.606484</td>\n      <td>0.836241</td>\n      <td>0.558887</td>\n      <td>0.667204</td>\n      <td>0.991063</td>\n      <td>0.989433</td>\n      <td>0.752985</td>\n      <td>0.911160</td>\n      <td>0.485428</td>\n      <td>3.931361</td>\n    </tr>\n    <tr>\n      <th>961</th>\n      <td>0.780693</td>\n      <td>0.812737</td>\n      <td>0.681575</td>\n      <td>0.794606</td>\n      <td>0.813932</td>\n      <td>0.776709</td>\n      <td>0.950443</td>\n      <td>0.946810</td>\n      <td>0.948626</td>\n      <td>0.829567</td>\n      <td>...</td>\n      <td>0.990738</td>\n      <td>0.726311</td>\n      <td>0.604659</td>\n      <td>0.773903</td>\n      <td>0.987001</td>\n      <td>0.958877</td>\n      <td>0.898828</td>\n      <td>0.948236</td>\n      <td>0.533034</td>\n      <td>3.966485</td>\n    </tr>\n  </tbody>\n</table>\n<p>962 rows × 23 columns</p>\n</div>"
     },
     "execution_count": 9,
     "metadata": {},
     "output_type": "execute_result"
    }
   ],
   "source": [
    "calculate_proportions(df, 'prop_men', 'Number.of.man', 'Number.of.inhabitants')\n",
    "calculate_proportions(df, 'prop_women', 'Number.of.women', 'Number.of.inhabitants')\n",
    "df_score['score_men'] = df.apply(scoring, column=\"prop_men\", axis=1)\n",
    "df_score['score_women'] = df.apply(scoring, column=\"prop_women\", axis=1)\n",
    "df_score[\"score_gender\"]= (df_score[\"score_men\"]+df_score[\"score_women\"])/2\n",
    "\n",
    "df_score['score_household_size']=df.apply(scoring, column=\"Average.household.size\", axis=1)\n",
    "df_score['score_single_family']=df.apply(scoring, column='percent.of.single.family.housing', axis=1)\n",
    "df_score['score_multi_family']=df.apply(scoring, column='percent.of.multifamily.housing', axis=1)\n",
    "df_score[\"score_family\"]= (df_score[\"score_single_family\"]+df_score[\"score_multi_family\"])/2\n",
    "\n",
    "\n",
    "df_score['score_low_ed'] = df.apply(scoring, column=\"prop_low_ed\", axis=1)\n",
    "df_score['score_med_ed'] = df.apply(scoring, column=\"prop_med_ed\", axis=1)\n",
    "df_score['score_high_ed'] = df.apply(scoring, column=\"prop_high_ed\", axis=1)\n",
    "df_score[\"score_education\"]= (df_score[\"score_low_ed\"]+df_score[\"score_med_ed\"]+df_score[\"score_high_ed\"])/3\n",
    "\n",
    "\n",
    "df_score['score_recipients'] = df.apply(scoring, column=\"prop_recipients\", axis=1)\n",
    "df_score['score_employee'] = df.apply(scoring, column=\"prop_employee\", axis=1)\n",
    "df_score['score_self_employed'] = df.apply(scoring, column=\"prop_self_employed\", axis=1)\n",
    "df_score['score_employment'] = (df_score['score_recipients']+df_score['score_employee']+df_score['score_self_employed'])/3\n",
    "\n",
    "df_score['score_density'] = df.apply(scoring, column=\"Population.density\", axis=1)\n",
    "df_score['score_liveability'] = df['liveability_score']\n",
    "df_score"
   ],
   "metadata": {
    "collapsed": false,
    "ExecuteTime": {
     "end_time": "2024-05-01T13:54:21.509057900Z",
     "start_time": "2024-05-01T13:54:19.924231900Z"
    }
   },
   "id": "db46d8ae62500524"
  },
  {
   "cell_type": "code",
   "execution_count": 10,
   "outputs": [],
   "source": [
    "df_score.to_csv(\"scores.csv\")"
   ],
   "metadata": {
    "collapsed": false,
    "ExecuteTime": {
     "end_time": "2024-05-01T13:54:21.745902Z",
     "start_time": "2024-05-01T13:54:21.509057900Z"
    }
   },
   "id": "8d27282e11f53b68"
  }
 ],
 "metadata": {
  "kernelspec": {
   "display_name": "Python 3",
   "language": "python",
   "name": "python3"
  },
  "language_info": {
   "codemirror_mode": {
    "name": "ipython",
    "version": 2
   },
   "file_extension": ".py",
   "mimetype": "text/x-python",
   "name": "python",
   "nbconvert_exporter": "python",
   "pygments_lexer": "ipython2",
   "version": "2.7.6"
  }
 },
 "nbformat": 4,
 "nbformat_minor": 5
}

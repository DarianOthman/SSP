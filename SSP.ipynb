{
 "cells": [
  {
   "cell_type": "code",
   "execution_count": 237,
   "id": "initial_id",
   "metadata": {
    "collapsed": true,
    "ExecuteTime": {
     "end_time": "2024-05-01T13:19:17.680898400Z",
     "start_time": "2024-05-01T13:19:17.593007700Z"
    }
   },
   "outputs": [],
   "source": [
    "import pandas as pd\n",
    "df = pd.read_csv(\"data_full.csv\", index_col=0)"
   ]
  },
  {
   "cell_type": "code",
   "execution_count": 238,
   "outputs": [
    {
     "name": "stderr",
     "output_type": "stream",
     "text": [
      "C:\\Users\\I6240624\\AppData\\Local\\Temp\\ipykernel_11004\\444341776.py:12: FutureWarning: Series.__getitem__ treating keys as positions is deprecated. In a future version, integer keys will always be treated as labels (consistent with DataFrame behavior). To access a value by position, use `ser.iloc[pos]`\n",
      "  average_value = (row1[-1] + row2[-1]) / 2\n",
      "C:\\Users\\I6240624\\AppData\\Local\\Temp\\ipykernel_11004\\444341776.py:15: FutureWarning: Series.__getitem__ treating keys as positions is deprecated. In a future version, integer keys will always be treated as labels (consistent with DataFrame behavior). To access a value by position, use `ser.iloc[pos]`\n",
      "  new_row = [max(row1[0], row2[0]), 2021, average_value]\n"
     ]
    }
   ],
   "source": [
    "df_wijk = pd.read_csv(\"Leefbaarometer-scores wijken 2002-2022.csv\")\n",
    "df_wijk=df_wijk.iloc[:,:4]\n",
    "df_wijk=df_wijk[(df_wijk['jaar']==2020) | (df_wijk['jaar']==2022)]\n",
    "df_wijk[\"wk_code\"]=df_wijk[\"wk_code\"].apply(lambda x: x[2:])\n",
    "df_wijk.rename(columns={'wk_naam': 'name'}, inplace=True)\n",
    "df_all = []\n",
    "for i in range(0, len(df_wijk)-1, 2):\n",
    "    row1 = df_wijk.iloc[i]\n",
    "    row2 = df_wijk.iloc[i+1]\n",
    "    \n",
    "    # Calculate the average of the last column values\n",
    "    average_value = (row1[-1] + row2[-1]) / 2\n",
    "    \n",
    "    # Create a new row with the average value\n",
    "    new_row = [max(row1[0], row2[0]), 2021, average_value]\n",
    "    \n",
    "    # Append the new row to the averaged df_wijk\n",
    "    df_all.append(new_row)\n"
   ],
   "metadata": {
    "collapsed": false,
    "ExecuteTime": {
     "end_time": "2024-05-01T13:19:19.420084800Z",
     "start_time": "2024-05-01T13:19:17.640006700Z"
    }
   },
   "id": "c428aefe1805477d"
  },
  {
   "cell_type": "code",
   "execution_count": 239,
   "outputs": [
    {
     "name": "stderr",
     "output_type": "stream",
     "text": [
      "C:\\Users\\I6240624\\AppData\\Local\\Temp\\ipykernel_11004\\3285892393.py:11: FutureWarning: Series.__getitem__ treating keys as positions is deprecated. In a future version, integer keys will always be treated as labels (consistent with DataFrame behavior). To access a value by position, use `ser.iloc[pos]`\n",
      "  average_value = (row1[-1] + row2[-1]) / 2\n",
      "C:\\Users\\I6240624\\AppData\\Local\\Temp\\ipykernel_11004\\3285892393.py:14: FutureWarning: Series.__getitem__ treating keys as positions is deprecated. In a future version, integer keys will always be treated as labels (consistent with DataFrame behavior). To access a value by position, use `ser.iloc[pos]`\n",
      "  new_row = [max(row1[0], row2[0]), 2021, average_value]\n"
     ]
    }
   ],
   "source": [
    "df_buurt = pd.read_csv(\"Leefbaarometer-scores buurten 2002-2022.csv\")\n",
    "df_buurt=df_buurt.iloc[:,:4]\n",
    "df_buurt=df_buurt[(df_buurt['jaar']==2020) | (df_buurt['jaar']==2022)]\n",
    "df_buurt[\"bu_code\"]=df_buurt[\"bu_code\"].apply(lambda x: x[2:])\n",
    "df_buurt.rename(columns={'bu_naam': 'name'}, inplace=True)\n",
    "for i in range(0, len(df_buurt)-1, 2):\n",
    "    row1 = df_buurt.iloc[i]\n",
    "    row2 = df_buurt.iloc[i+1]\n",
    "    \n",
    "    # Calculate the average of the last column values\n",
    "    average_value = (row1[-1] + row2[-1]) / 2\n",
    "    \n",
    "    # Create a new row with the average value\n",
    "    new_row = [max(row1[0], row2[0]), 2021, average_value]\n",
    "    \n",
    "    # Append the new row to the averaged df_wijk\n",
    "    df_all.append(new_row)\n",
    "df_all = pd.DataFrame(df_all, columns=[\"code\", \"year\", \"liveability_score\"])\n",
    "df_all[\"code\"] = df_all[\"code\"].astype(int)"
   ],
   "metadata": {
    "collapsed": false,
    "ExecuteTime": {
     "end_time": "2024-05-01T13:19:22.842377800Z",
     "start_time": "2024-05-01T13:19:19.420084800Z"
    }
   },
   "id": "c6e7a97d18137f64"
  },
  {
   "cell_type": "code",
   "execution_count": 240,
   "outputs": [],
   "source": [
    "df=pd.merge(df, df_all, left_on=\"gwb_code_10\",right_on=\"code\", how='inner')"
   ],
   "metadata": {
    "collapsed": false,
    "ExecuteTime": {
     "end_time": "2024-05-01T13:19:22.858891700Z",
     "start_time": "2024-05-01T13:19:22.847365Z"
    }
   },
   "id": "7d001a6e1350c495"
  },
  {
   "cell_type": "code",
   "execution_count": 241,
   "outputs": [],
   "source": [
    "# Define proportion function\n",
    "def calculate_proportions(df, col1, col2, col3):\n",
    "    df[col1] = df[col2] / df[col3]\n",
    "    return df\n",
    "\n",
    "# Define scoring function\n",
    "def scoring(row, column):\n",
    "    if row[column] > df[column].mean():\n",
    "        return df[column].mean() / row[column]\n",
    "    else:\n",
    "        return row[column] / df[column].mean()"
   ],
   "metadata": {
    "collapsed": false,
    "ExecuteTime": {
     "end_time": "2024-05-01T13:19:22.881833300Z",
     "start_time": "2024-05-01T13:19:22.859890500Z"
    }
   },
   "id": "bd77b96b66226923"
  },
  {
   "cell_type": "code",
   "execution_count": 243,
   "outputs": [],
   "source": [
    "calculate_proportions(df, 'prop_0-14', 'Numbers.of.people.from.0.14.years.old', 'Number.of.inhabitants')\n",
    "calculate_proportions(df, 'prop_15-24', 'Number.of.people.from.15.24.years.old', 'Number.of.inhabitants')\n",
    "calculate_proportions(df, 'prop_25-44', 'Number.of.people.from.25.44.years.old', 'Number.of.inhabitants')\n",
    "calculate_proportions(df, 'prop_45-64', 'Number.of.people.from.45.64.years.old', 'Number.of.inhabitants')\n",
    "calculate_proportions(df, 'prop_65+', 'Number.of.people....65.years.old', 'Number.of.inhabitants')\n",
    "calculate_proportions(df, 'prop_low_ed', 'n_low_educated', 'Number.of.inhabitants')\n",
    "calculate_proportions(df, 'prop_med_ed', 'n_highschool_educated', 'Number.of.inhabitants')\n",
    "calculate_proportions(df, 'prop_high_ed', 'n_highly_educated', 'Number.of.inhabitants')\n",
    "calculate_proportions(df, 'prop_recipients', 'n_income_recipients', 'Number.of.inhabitants')\n",
    "df['prop_employee']=((df[\"Number.of.inhabitants\"]-df['n_income_recipients'])*(df['p_employees']/100))/df[\"Number.of.inhabitants\"]\n",
    "df[\"prop_self_employed\"]=1-df['prop_employee']-df['prop_recipients']\n",
    "df.dropna(inplace=True)"
   ],
   "metadata": {
    "collapsed": false,
    "ExecuteTime": {
     "end_time": "2024-05-01T13:19:23.078753500Z",
     "start_time": "2024-05-01T13:19:22.942117300Z"
    }
   },
   "id": "52c6d8d7d4734fc0"
  },
  {
   "cell_type": "code",
   "execution_count": 246,
   "outputs": [],
   "source": [
    "# Define df_score DataFrame\n",
    "df_score = pd.DataFrame()\n",
    "\n",
    "# Apply the function to each row in the 'prop_0-14' column\n",
    "df_score['score_0-14'] = df.apply(scoring, column=\"prop_0-14\", axis=1)\n",
    "df_score['score_15-24'] = df.apply(scoring, column=\"prop_15-24\", axis=1)\n",
    "df_score['score_25-44'] = df.apply(scoring, column=\"prop_25-44\", axis=1)\n",
    "df_score['score_45-64'] = df.apply(scoring, column=\"prop_45-64\", axis=1)\n",
    "df_score['score_65+'] = df.apply(scoring, column=\"prop_65+\", axis=1)\n",
    "df_score['score_age']=(df_score['score_0-14']+df_score['score_15-24']+df_score['score_25-44']+df_score['score_45-64']+df_score['score_65+'])/5"
   ],
   "metadata": {
    "collapsed": false,
    "ExecuteTime": {
     "end_time": "2024-05-01T13:19:23.427817700Z",
     "start_time": "2024-05-01T13:19:23.052823Z"
    }
   },
   "id": "31519f1833c4b3f6"
  },
  {
   "cell_type": "code",
   "execution_count": 249,
   "outputs": [
    {
     "data": {
      "text/plain": "     score_0-14  score_15-24  score_25-44  score_45-64  score_65+  score_age  \\\n0      0.699629     0.634651     0.824498     0.826562   0.453134   0.687695   \n1      0.778692     0.677848     0.922371     0.992994   0.820230   0.838427   \n2      0.832406     0.646707     0.764417     0.928584   0.986382   0.831699   \n3      0.931519     0.948458     0.796237     0.761186   0.804705   0.848421   \n4      0.773576     0.959722     0.875506     0.763021   0.486361   0.771637   \n..          ...          ...          ...          ...        ...        ...   \n588    0.641853     0.920547     0.903753     0.869190   0.841758   0.835420   \n589    0.693808     0.983086     0.744193     0.792643   0.727117   0.788169   \n590    0.817990     0.918267     0.805245     0.889083   0.706371   0.827391   \n591    0.906470     0.827183     0.923847     0.842782   0.899540   0.879965   \n592    0.981426     0.766627     0.448179     0.701089   0.598718   0.699208   \n\n     score_men  score_women  score_gender  score_household_size  ...  \\\n0     0.938554     0.936855      0.937704              0.816804  ...   \n1     0.963432     0.968225      0.965828              0.932787  ...   \n2     0.960659     0.961199      0.960929              0.867855  ...   \n3     0.976032     0.977706      0.976869              0.890388  ...   \n4     0.991092     0.990935      0.991013              0.783541  ...   \n..         ...          ...           ...                   ...  ...   \n588   0.966901     0.963537      0.965219              0.867855  ...   \n589   0.949831     0.950469      0.950150              0.969955  ...   \n590   0.968937     0.968809      0.968873              0.969955  ...   \n591   0.991359     0.994566      0.992962              0.969955  ...   \n592   0.965200     0.958128      0.961664              0.816189  ...   \n\n     score_low_ed  score_med_ed  score_high_ed  score_education  \\\n0        0.657047      0.997762       0.488939         0.714583   \n1        0.624403      0.882514       0.490206         0.665708   \n2        0.922777      0.872423       0.914622         0.903274   \n3        0.884313      0.753243       0.705013         0.780856   \n4        0.707304      0.745437       0.521130         0.657957   \n..            ...           ...            ...              ...   \n588      0.543920      0.939078       0.613164         0.698721   \n589      0.695486      0.945055       0.750904         0.797148   \n590      0.842061      0.855772       0.754603         0.817478   \n591      0.705762      0.814629       0.683991         0.734794   \n592      0.630327      0.506788       0.810551         0.649222   \n\n     score_recipients  score_employee  score_self_employed  score_employment  \\\n0            0.964374        0.856637             0.865676          0.895563   \n1            0.986666        0.969030             0.836921          0.930872   \n2            0.927653        0.748182             0.966961          0.880932   \n3            0.985228        0.974423             0.772484          0.910712   \n4            0.971146        0.851056             0.770482          0.864228   \n..                ...             ...                  ...               ...   \n588          0.991841        0.987349             0.732733          0.903974   \n589          0.969449        0.865538             0.915916          0.916968   \n590          0.962747        0.870149             0.751521          0.861472   \n591          0.961883        0.886638             0.641450          0.829990   \n592          0.924978        0.826770             0.586239          0.779329   \n\n     score_density  score_liveability  \n0         0.456962           4.113391  \n1         0.844079           3.965993  \n2         0.838583           4.035158  \n3         0.732152           4.031153  \n4         0.763355           3.966037  \n..             ...                ...  \n588       0.107299           4.193052  \n589       0.412567           4.087528  \n590       0.492102           4.113782  \n591       0.609669           4.007289  \n592       0.083150           4.252168  \n\n[593 rows x 23 columns]",
      "text/html": "<div>\n<style scoped>\n    .dataframe tbody tr th:only-of-type {\n        vertical-align: middle;\n    }\n\n    .dataframe tbody tr th {\n        vertical-align: top;\n    }\n\n    .dataframe thead th {\n        text-align: right;\n    }\n</style>\n<table border=\"1\" class=\"dataframe\">\n  <thead>\n    <tr style=\"text-align: right;\">\n      <th></th>\n      <th>score_0-14</th>\n      <th>score_15-24</th>\n      <th>score_25-44</th>\n      <th>score_45-64</th>\n      <th>score_65+</th>\n      <th>score_age</th>\n      <th>score_men</th>\n      <th>score_women</th>\n      <th>score_gender</th>\n      <th>score_household_size</th>\n      <th>...</th>\n      <th>score_low_ed</th>\n      <th>score_med_ed</th>\n      <th>score_high_ed</th>\n      <th>score_education</th>\n      <th>score_recipients</th>\n      <th>score_employee</th>\n      <th>score_self_employed</th>\n      <th>score_employment</th>\n      <th>score_density</th>\n      <th>score_liveability</th>\n    </tr>\n  </thead>\n  <tbody>\n    <tr>\n      <th>0</th>\n      <td>0.699629</td>\n      <td>0.634651</td>\n      <td>0.824498</td>\n      <td>0.826562</td>\n      <td>0.453134</td>\n      <td>0.687695</td>\n      <td>0.938554</td>\n      <td>0.936855</td>\n      <td>0.937704</td>\n      <td>0.816804</td>\n      <td>...</td>\n      <td>0.657047</td>\n      <td>0.997762</td>\n      <td>0.488939</td>\n      <td>0.714583</td>\n      <td>0.964374</td>\n      <td>0.856637</td>\n      <td>0.865676</td>\n      <td>0.895563</td>\n      <td>0.456962</td>\n      <td>4.113391</td>\n    </tr>\n    <tr>\n      <th>1</th>\n      <td>0.778692</td>\n      <td>0.677848</td>\n      <td>0.922371</td>\n      <td>0.992994</td>\n      <td>0.820230</td>\n      <td>0.838427</td>\n      <td>0.963432</td>\n      <td>0.968225</td>\n      <td>0.965828</td>\n      <td>0.932787</td>\n      <td>...</td>\n      <td>0.624403</td>\n      <td>0.882514</td>\n      <td>0.490206</td>\n      <td>0.665708</td>\n      <td>0.986666</td>\n      <td>0.969030</td>\n      <td>0.836921</td>\n      <td>0.930872</td>\n      <td>0.844079</td>\n      <td>3.965993</td>\n    </tr>\n    <tr>\n      <th>2</th>\n      <td>0.832406</td>\n      <td>0.646707</td>\n      <td>0.764417</td>\n      <td>0.928584</td>\n      <td>0.986382</td>\n      <td>0.831699</td>\n      <td>0.960659</td>\n      <td>0.961199</td>\n      <td>0.960929</td>\n      <td>0.867855</td>\n      <td>...</td>\n      <td>0.922777</td>\n      <td>0.872423</td>\n      <td>0.914622</td>\n      <td>0.903274</td>\n      <td>0.927653</td>\n      <td>0.748182</td>\n      <td>0.966961</td>\n      <td>0.880932</td>\n      <td>0.838583</td>\n      <td>4.035158</td>\n    </tr>\n    <tr>\n      <th>3</th>\n      <td>0.931519</td>\n      <td>0.948458</td>\n      <td>0.796237</td>\n      <td>0.761186</td>\n      <td>0.804705</td>\n      <td>0.848421</td>\n      <td>0.976032</td>\n      <td>0.977706</td>\n      <td>0.976869</td>\n      <td>0.890388</td>\n      <td>...</td>\n      <td>0.884313</td>\n      <td>0.753243</td>\n      <td>0.705013</td>\n      <td>0.780856</td>\n      <td>0.985228</td>\n      <td>0.974423</td>\n      <td>0.772484</td>\n      <td>0.910712</td>\n      <td>0.732152</td>\n      <td>4.031153</td>\n    </tr>\n    <tr>\n      <th>4</th>\n      <td>0.773576</td>\n      <td>0.959722</td>\n      <td>0.875506</td>\n      <td>0.763021</td>\n      <td>0.486361</td>\n      <td>0.771637</td>\n      <td>0.991092</td>\n      <td>0.990935</td>\n      <td>0.991013</td>\n      <td>0.783541</td>\n      <td>...</td>\n      <td>0.707304</td>\n      <td>0.745437</td>\n      <td>0.521130</td>\n      <td>0.657957</td>\n      <td>0.971146</td>\n      <td>0.851056</td>\n      <td>0.770482</td>\n      <td>0.864228</td>\n      <td>0.763355</td>\n      <td>3.966037</td>\n    </tr>\n    <tr>\n      <th>...</th>\n      <td>...</td>\n      <td>...</td>\n      <td>...</td>\n      <td>...</td>\n      <td>...</td>\n      <td>...</td>\n      <td>...</td>\n      <td>...</td>\n      <td>...</td>\n      <td>...</td>\n      <td>...</td>\n      <td>...</td>\n      <td>...</td>\n      <td>...</td>\n      <td>...</td>\n      <td>...</td>\n      <td>...</td>\n      <td>...</td>\n      <td>...</td>\n      <td>...</td>\n      <td>...</td>\n    </tr>\n    <tr>\n      <th>588</th>\n      <td>0.641853</td>\n      <td>0.920547</td>\n      <td>0.903753</td>\n      <td>0.869190</td>\n      <td>0.841758</td>\n      <td>0.835420</td>\n      <td>0.966901</td>\n      <td>0.963537</td>\n      <td>0.965219</td>\n      <td>0.867855</td>\n      <td>...</td>\n      <td>0.543920</td>\n      <td>0.939078</td>\n      <td>0.613164</td>\n      <td>0.698721</td>\n      <td>0.991841</td>\n      <td>0.987349</td>\n      <td>0.732733</td>\n      <td>0.903974</td>\n      <td>0.107299</td>\n      <td>4.193052</td>\n    </tr>\n    <tr>\n      <th>589</th>\n      <td>0.693808</td>\n      <td>0.983086</td>\n      <td>0.744193</td>\n      <td>0.792643</td>\n      <td>0.727117</td>\n      <td>0.788169</td>\n      <td>0.949831</td>\n      <td>0.950469</td>\n      <td>0.950150</td>\n      <td>0.969955</td>\n      <td>...</td>\n      <td>0.695486</td>\n      <td>0.945055</td>\n      <td>0.750904</td>\n      <td>0.797148</td>\n      <td>0.969449</td>\n      <td>0.865538</td>\n      <td>0.915916</td>\n      <td>0.916968</td>\n      <td>0.412567</td>\n      <td>4.087528</td>\n    </tr>\n    <tr>\n      <th>590</th>\n      <td>0.817990</td>\n      <td>0.918267</td>\n      <td>0.805245</td>\n      <td>0.889083</td>\n      <td>0.706371</td>\n      <td>0.827391</td>\n      <td>0.968937</td>\n      <td>0.968809</td>\n      <td>0.968873</td>\n      <td>0.969955</td>\n      <td>...</td>\n      <td>0.842061</td>\n      <td>0.855772</td>\n      <td>0.754603</td>\n      <td>0.817478</td>\n      <td>0.962747</td>\n      <td>0.870149</td>\n      <td>0.751521</td>\n      <td>0.861472</td>\n      <td>0.492102</td>\n      <td>4.113782</td>\n    </tr>\n    <tr>\n      <th>591</th>\n      <td>0.906470</td>\n      <td>0.827183</td>\n      <td>0.923847</td>\n      <td>0.842782</td>\n      <td>0.899540</td>\n      <td>0.879965</td>\n      <td>0.991359</td>\n      <td>0.994566</td>\n      <td>0.992962</td>\n      <td>0.969955</td>\n      <td>...</td>\n      <td>0.705762</td>\n      <td>0.814629</td>\n      <td>0.683991</td>\n      <td>0.734794</td>\n      <td>0.961883</td>\n      <td>0.886638</td>\n      <td>0.641450</td>\n      <td>0.829990</td>\n      <td>0.609669</td>\n      <td>4.007289</td>\n    </tr>\n    <tr>\n      <th>592</th>\n      <td>0.981426</td>\n      <td>0.766627</td>\n      <td>0.448179</td>\n      <td>0.701089</td>\n      <td>0.598718</td>\n      <td>0.699208</td>\n      <td>0.965200</td>\n      <td>0.958128</td>\n      <td>0.961664</td>\n      <td>0.816189</td>\n      <td>...</td>\n      <td>0.630327</td>\n      <td>0.506788</td>\n      <td>0.810551</td>\n      <td>0.649222</td>\n      <td>0.924978</td>\n      <td>0.826770</td>\n      <td>0.586239</td>\n      <td>0.779329</td>\n      <td>0.083150</td>\n      <td>4.252168</td>\n    </tr>\n  </tbody>\n</table>\n<p>593 rows × 23 columns</p>\n</div>"
     },
     "execution_count": 249,
     "metadata": {},
     "output_type": "execute_result"
    }
   ],
   "source": [
    "calculate_proportions(df, 'prop_men', 'Number.of.man', 'Number.of.inhabitants')\n",
    "calculate_proportions(df, 'prop_women', 'Number.of.women', 'Number.of.inhabitants')\n",
    "df_score['score_men'] = df.apply(scoring, column=\"prop_men\", axis=1)\n",
    "df_score['score_women'] = df.apply(scoring, column=\"prop_women\", axis=1)\n",
    "df_score[\"score_gender\"]= (df_score[\"score_men\"]+df_score[\"score_women\"])/2\n",
    "\n",
    "df_score['score_household_size']=df.apply(scoring, column=\"Average.household.size\", axis=1)\n",
    "df_score['score_single_family']=df.apply(scoring, column='percent.of.single.family.housing', axis=1)\n",
    "df_score['score_multi_family']=df.apply(scoring, column='percent.of.multifamily.housing', axis=1)\n",
    "df_score[\"score_family\"]= (df_score[\"score_single_family\"]+df_score[\"score_multi_family\"])/2\n",
    "\n",
    "\n",
    "df_score['score_low_ed'] = df.apply(scoring, column=\"prop_low_ed\", axis=1)\n",
    "df_score['score_med_ed'] = df.apply(scoring, column=\"prop_med_ed\", axis=1)\n",
    "df_score['score_high_ed'] = df.apply(scoring, column=\"prop_high_ed\", axis=1)\n",
    "df_score[\"score_education\"]= (df_score[\"score_low_ed\"]+df_score[\"score_med_ed\"]+df_score[\"score_high_ed\"])/3\n",
    "\n",
    "\n",
    "df_score['score_recipients'] = df.apply(scoring, column=\"prop_recipients\", axis=1)\n",
    "df_score['score_employee'] = df.apply(scoring, column=\"prop_employee\", axis=1)\n",
    "df_score['score_self_employed'] = df.apply(scoring, column=\"prop_self_employed\", axis=1)\n",
    "df_score['score_employment'] = (df_score['score_recipients']+df_score['score_employee']+df_score['score_self_employed'])/3\n",
    "\n",
    "df_score['score_density'] = df.apply(scoring, column=\"Population.density\", axis=1)\n",
    "df_score['score_liveability'] = df['liveability_score']\n",
    "df_score"
   ],
   "metadata": {
    "collapsed": false,
    "ExecuteTime": {
     "end_time": "2024-05-01T13:23:59.435749Z",
     "start_time": "2024-05-01T13:23:58.163157700Z"
    }
   },
   "id": "db46d8ae62500524"
  },
  {
   "cell_type": "code",
   "execution_count": 253,
   "outputs": [],
   "source": [
    "df_score.to_csv(\"scores.csv\")"
   ],
   "metadata": {
    "collapsed": false,
    "ExecuteTime": {
     "end_time": "2024-05-01T13:31:31.815183Z",
     "start_time": "2024-05-01T13:31:31.739286300Z"
    }
   },
   "id": "8d27282e11f53b68"
  }
 ],
 "metadata": {
  "kernelspec": {
   "display_name": "Python 3",
   "language": "python",
   "name": "python3"
  },
  "language_info": {
   "codemirror_mode": {
    "name": "ipython",
    "version": 2
   },
   "file_extension": ".py",
   "mimetype": "text/x-python",
   "name": "python",
   "nbconvert_exporter": "python",
   "pygments_lexer": "ipython2",
   "version": "2.7.6"
  }
 },
 "nbformat": 4,
 "nbformat_minor": 5
}

{
 "cells": [
  {
   "cell_type": "code",
   "execution_count": 2,
   "id": "initial_id",
   "metadata": {
    "collapsed": true,
    "ExecuteTime": {
     "end_time": "2024-04-24T15:29:07.184516900Z",
     "start_time": "2024-04-24T15:29:07.082040700Z"
    }
   },
   "outputs": [],
   "source": [
    "import pandas as pd\n",
    "df = pd.read_csv(\"data_full.csv\", index_col=0)"
   ]
  },
  {
   "cell_type": "code",
   "execution_count": 3,
   "outputs": [],
   "source": [
    "df['prop_0-14']=df['Numbers of people from 0-14 years old']/df['Number of inhabitants']\n",
    "df['prop_15-24']=df['Number of people from 15-24 years old']/df['Number of inhabitants']\n",
    "df['prop_25-44']= df['Number of people from 25-44 years old']/df['Number of inhabitants']\n",
    "df['prop_45-64']=df['Number of people from 45-64 years old']/df['Number of inhabitants']\n",
    "df['prop_65+']=df['Number of people >= 65 years old']/df['Number of inhabitants']\n",
    "df.dropna(inplace=True)"
   ],
   "metadata": {
    "collapsed": false,
    "ExecuteTime": {
     "end_time": "2024-04-24T15:29:07.236544700Z",
     "start_time": "2024-04-24T15:29:07.188510700Z"
    }
   },
   "id": "83b365adce1f42af"
  },
  {
   "cell_type": "code",
   "execution_count": 4,
   "outputs": [
    {
     "data": {
      "text/plain": "<Axes: >"
     },
     "execution_count": 4,
     "metadata": {},
     "output_type": "execute_result"
    },
    {
     "data": {
      "text/plain": "<Figure size 640x480 with 1 Axes>",
      "image/png": "[encoded data removed]"
     },
     "metadata": {},
     "output_type": "display_data"
    }
   ],
   "source": [
    "# Define df_score DataFrame\n",
    "df_score = pd.DataFrame()\n",
    "\n",
    "# Define scoring function\n",
    "def scoring(row, column):\n",
    "    if row[column] > df[column].mean():\n",
    "        return df[column].mean() / row[column]\n",
    "    else:\n",
    "        return row[column] / df[column].mean()\n",
    "\n",
    "# Apply the function to each row in the 'prop_0-14' column\n",
    "df_score['score_0-14'] = df.apply(scoring, column=\"prop_0-14\", axis=1)\n",
    "df_score['score_15-24'] = df.apply(scoring, column=\"prop_15-24\", axis=1)\n",
    "df_score['score_25-44'] = df.apply(scoring, column=\"prop_25-44\", axis=1)\n",
    "df_score['score_45-64'] = df.apply(scoring, column=\"prop_45-64\", axis=1)\n",
    "df_score['score_65+'] = df.apply(scoring, column=\"prop_65+\", axis=1)\n",
    "df_score['score_age']=(df_score['score_0-14']+df_score['score_15-24']+df_score['score_25-44']+df_score['score_45-64']+df_score['score_65+'])/5\n",
    "# Display df_score\n",
    "df_score[\"score_age\"].hist()"
   ],
   "metadata": {
    "collapsed": false,
    "ExecuteTime": {
     "end_time": "2024-04-24T15:29:10.082443500Z",
     "start_time": "2024-04-24T15:29:07.232445200Z"
    }
   },
   "id": "31519f1833c4b3f6"
  }
 ],
 "metadata": {
  "kernelspec": {
   "display_name": "Python 3",
   "language": "python",
   "name": "python3"
  },
  "language_info": {
   "codemirror_mode": {
    "name": "ipython",
    "version": 2
   },
   "file_extension": ".py",
   "mimetype": "text/x-python",
   "name": "python",
   "nbconvert_exporter": "python",
   "pygments_lexer": "ipython2",
   "version": "2.7.6"
  }
 },
 "nbformat": 4,
 "nbformat_minor": 5
}

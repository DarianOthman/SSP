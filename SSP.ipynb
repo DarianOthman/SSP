{
 "cells": [
  {
   "cell_type": "code",
   "execution_count": 11,
   "id": "initial_id",
   "metadata": {
    "collapsed": true,
    "ExecuteTime": {
     "end_time": "2024-05-01T07:59:08.061865400Z",
     "start_time": "2024-05-01T07:59:08.021974Z"
    }
   },
   "outputs": [],
   "source": [
    "import pandas as pd\n",
    "df = pd.read_csv(\"data_full.csv\", index_col=0)"
   ]
  },
  {
   "cell_type": "code",
   "execution_count": 5,
   "outputs": [],
   "source": [
    "# Define proportion function\n",
    "def calculate_proportions(df, col1, col2, col3):\n",
    "    df[col1] = df[col2] / df[col3]\n",
    "    return df\n",
    "\n",
    "# Define scoring function\n",
    "def scoring(row, column):\n",
    "    if row[column] > df[column].mean():\n",
    "        return df[column].mean() / row[column]\n",
    "    else:\n",
    "        return row[column] / df[column].mean()"
   ],
   "metadata": {
    "collapsed": false,
    "ExecuteTime": {
     "end_time": "2024-05-01T07:35:58.666540Z",
     "start_time": "2024-05-01T07:35:58.640606800Z"
    }
   },
   "id": "bd77b96b66226923"
  },
  {
   "cell_type": "code",
   "execution_count": 12,
   "outputs": [
    {
     "data": {
      "text/plain": "       X  gwb_code_10                 regio     gm_naam   recs  ind_wbi  \\\n2      2       340101  Centrum Almere Haven      Almere  Buurt        3   \n3      3       340102             De Werven      Almere  Buurt        3   \n4      4       340103              De Hoven      Almere  Buurt        3   \n5      5       340104            De Meenten      Almere  Buurt        3   \n6      6       340105           De Grienden      Almere  Buurt        3   \n..   ...          ...                   ...         ...    ...      ...   \n768  768      9350600              Randwyck  Maastricht  Buurt        1   \n769  769      9350601                Heugem  Maastricht  Buurt        1   \n770  770      9350602                  Heer  Maastricht  Buurt        1   \n771  771      9350603               De Heeg  Maastricht  Buurt        1   \n772  772      9350604             Vroendaal  Maastricht  Buurt        1   \n\n     Number.of.inhabitants  Number.of.man  Number.of.women  \\\n2                     1580            740              845   \n3                     2860           1375             1480   \n4                     2410           1170             1240   \n5                     2260           1100             1160   \n6                     2255           1060             1195   \n..                     ...            ...              ...   \n768                   2000            965             1040   \n769                   4420           2095             2330   \n770                   7280           3520             3765   \n771                   5940           2990             2960   \n772                   1090            525              570   \n\n     Numbers.of.people.from.0.14.years.old  ...  Within5Km_105  \\\n2                                      155  ...            0.0   \n3                                      515  ...            0.0   \n4                                      450  ...            0.2   \n5                                      380  ...            0.0   \n6                                      370  ...            0.0   \n..                                     ...  ...            ...   \n768                                    180  ...            1.9   \n769                                    430  ...            1.8   \n770                                    835  ...            1.9   \n771                                    755  ...            0.5   \n772                                    150  ...            1.4   \n\n     Within10Km_106  Within20Km_107  DistanceToSauna_108  \\\n2               1.0             3.9                  2.7   \n3               1.0             3.0                  2.6   \n4               1.0             3.2                  2.2   \n5               1.0             3.0                  3.2   \n6               1.0             3.0                  2.9   \n..              ...             ...                  ...   \n768             2.0             2.0                  8.2   \n769             2.0             2.0                  9.1   \n770             2.0             2.0                  6.8   \n771             2.0             2.0                  8.4   \n772             2.0             2.0                  7.5   \n\n     DistanceToTanningSalon_109  DistanceToAttraction_110  Within10Km_111  \\\n2                           0.4                       2.4             4.0   \n3                           1.2                       2.3             4.0   \n4                           0.8                       1.9             4.0   \n5                           1.7                       2.8             4.0   \n6                           2.2                       2.3             4.0   \n..                          ...                       ...             ...   \n768                         2.1                       3.8             2.0   \n769                         2.5                       2.7             2.0   \n770                         2.4                       4.8             3.3   \n771                         2.3                       3.5             2.0   \n772                         2.7                       4.3             2.3   \n\n     Within20Km_112  Within50Km_113  DistanceToFireStation_114  \n2               7.0            50.0                        4.6  \n3               6.6            49.6                        4.4  \n4               7.0            50.0                        4.2  \n5               6.4            49.0                        4.8  \n6               6.0            48.0                        4.3  \n..              ...             ...                        ...  \n768             5.0            18.0                        2.3  \n769             5.0            18.0                        1.6  \n770             5.1            18.5                        3.0  \n771             5.0            18.0                        2.3  \n772             5.0            18.0                        3.1  \n\n[624 rows x 144 columns]",
      "text/html": "<div>\n<style scoped>\n    .dataframe tbody tr th:only-of-type {\n        vertical-align: middle;\n    }\n\n    .dataframe tbody tr th {\n        vertical-align: top;\n    }\n\n    .dataframe thead th {\n        text-align: right;\n    }\n</style>\n<table border=\"1\" class=\"dataframe\">\n  <thead>\n    <tr style=\"text-align: right;\">\n      <th></th>\n      <th>X</th>\n      <th>gwb_code_10</th>\n      <th>regio</th>\n      <th>gm_naam</th>\n      <th>recs</th>\n      <th>ind_wbi</th>\n      <th>Number.of.inhabitants</th>\n      <th>Number.of.man</th>\n      <th>Number.of.women</th>\n      <th>Numbers.of.people.from.0.14.years.old</th>\n      <th>...</th>\n      <th>Within5Km_105</th>\n      <th>Within10Km_106</th>\n      <th>Within20Km_107</th>\n      <th>DistanceToSauna_108</th>\n      <th>DistanceToTanningSalon_109</th>\n      <th>DistanceToAttraction_110</th>\n      <th>Within10Km_111</th>\n      <th>Within20Km_112</th>\n      <th>Within50Km_113</th>\n      <th>DistanceToFireStation_114</th>\n    </tr>\n  </thead>\n  <tbody>\n    <tr>\n      <th>2</th>\n      <td>2</td>\n      <td>340101</td>\n      <td>Centrum Almere Haven</td>\n      <td>Almere</td>\n      <td>Buurt</td>\n      <td>3</td>\n      <td>1580</td>\n      <td>740</td>\n      <td>845</td>\n      <td>155</td>\n      <td>...</td>\n      <td>0.0</td>\n      <td>1.0</td>\n      <td>3.9</td>\n      <td>2.7</td>\n      <td>0.4</td>\n      <td>2.4</td>\n      <td>4.0</td>\n      <td>7.0</td>\n      <td>50.0</td>\n      <td>4.6</td>\n    </tr>\n    <tr>\n      <th>3</th>\n      <td>3</td>\n      <td>340102</td>\n      <td>De Werven</td>\n      <td>Almere</td>\n      <td>Buurt</td>\n      <td>3</td>\n      <td>2860</td>\n      <td>1375</td>\n      <td>1480</td>\n      <td>515</td>\n      <td>...</td>\n      <td>0.0</td>\n      <td>1.0</td>\n      <td>3.0</td>\n      <td>2.6</td>\n      <td>1.2</td>\n      <td>2.3</td>\n      <td>4.0</td>\n      <td>6.6</td>\n      <td>49.6</td>\n      <td>4.4</td>\n    </tr>\n    <tr>\n      <th>4</th>\n      <td>4</td>\n      <td>340103</td>\n      <td>De Hoven</td>\n      <td>Almere</td>\n      <td>Buurt</td>\n      <td>3</td>\n      <td>2410</td>\n      <td>1170</td>\n      <td>1240</td>\n      <td>450</td>\n      <td>...</td>\n      <td>0.2</td>\n      <td>1.0</td>\n      <td>3.2</td>\n      <td>2.2</td>\n      <td>0.8</td>\n      <td>1.9</td>\n      <td>4.0</td>\n      <td>7.0</td>\n      <td>50.0</td>\n      <td>4.2</td>\n    </tr>\n    <tr>\n      <th>5</th>\n      <td>5</td>\n      <td>340104</td>\n      <td>De Meenten</td>\n      <td>Almere</td>\n      <td>Buurt</td>\n      <td>3</td>\n      <td>2260</td>\n      <td>1100</td>\n      <td>1160</td>\n      <td>380</td>\n      <td>...</td>\n      <td>0.0</td>\n      <td>1.0</td>\n      <td>3.0</td>\n      <td>3.2</td>\n      <td>1.7</td>\n      <td>2.8</td>\n      <td>4.0</td>\n      <td>6.4</td>\n      <td>49.0</td>\n      <td>4.8</td>\n    </tr>\n    <tr>\n      <th>6</th>\n      <td>6</td>\n      <td>340105</td>\n      <td>De Grienden</td>\n      <td>Almere</td>\n      <td>Buurt</td>\n      <td>3</td>\n      <td>2255</td>\n      <td>1060</td>\n      <td>1195</td>\n      <td>370</td>\n      <td>...</td>\n      <td>0.0</td>\n      <td>1.0</td>\n      <td>3.0</td>\n      <td>2.9</td>\n      <td>2.2</td>\n      <td>2.3</td>\n      <td>4.0</td>\n      <td>6.0</td>\n      <td>48.0</td>\n      <td>4.3</td>\n    </tr>\n    <tr>\n      <th>...</th>\n      <td>...</td>\n      <td>...</td>\n      <td>...</td>\n      <td>...</td>\n      <td>...</td>\n      <td>...</td>\n      <td>...</td>\n      <td>...</td>\n      <td>...</td>\n      <td>...</td>\n      <td>...</td>\n      <td>...</td>\n      <td>...</td>\n      <td>...</td>\n      <td>...</td>\n      <td>...</td>\n      <td>...</td>\n      <td>...</td>\n      <td>...</td>\n      <td>...</td>\n      <td>...</td>\n    </tr>\n    <tr>\n      <th>768</th>\n      <td>768</td>\n      <td>9350600</td>\n      <td>Randwyck</td>\n      <td>Maastricht</td>\n      <td>Buurt</td>\n      <td>1</td>\n      <td>2000</td>\n      <td>965</td>\n      <td>1040</td>\n      <td>180</td>\n      <td>...</td>\n      <td>1.9</td>\n      <td>2.0</td>\n      <td>2.0</td>\n      <td>8.2</td>\n      <td>2.1</td>\n      <td>3.8</td>\n      <td>2.0</td>\n      <td>5.0</td>\n      <td>18.0</td>\n      <td>2.3</td>\n    </tr>\n    <tr>\n      <th>769</th>\n      <td>769</td>\n      <td>9350601</td>\n      <td>Heugem</td>\n      <td>Maastricht</td>\n      <td>Buurt</td>\n      <td>1</td>\n      <td>4420</td>\n      <td>2095</td>\n      <td>2330</td>\n      <td>430</td>\n      <td>...</td>\n      <td>1.8</td>\n      <td>2.0</td>\n      <td>2.0</td>\n      <td>9.1</td>\n      <td>2.5</td>\n      <td>2.7</td>\n      <td>2.0</td>\n      <td>5.0</td>\n      <td>18.0</td>\n      <td>1.6</td>\n    </tr>\n    <tr>\n      <th>770</th>\n      <td>770</td>\n      <td>9350602</td>\n      <td>Heer</td>\n      <td>Maastricht</td>\n      <td>Buurt</td>\n      <td>1</td>\n      <td>7280</td>\n      <td>3520</td>\n      <td>3765</td>\n      <td>835</td>\n      <td>...</td>\n      <td>1.9</td>\n      <td>2.0</td>\n      <td>2.0</td>\n      <td>6.8</td>\n      <td>2.4</td>\n      <td>4.8</td>\n      <td>3.3</td>\n      <td>5.1</td>\n      <td>18.5</td>\n      <td>3.0</td>\n    </tr>\n    <tr>\n      <th>771</th>\n      <td>771</td>\n      <td>9350603</td>\n      <td>De Heeg</td>\n      <td>Maastricht</td>\n      <td>Buurt</td>\n      <td>1</td>\n      <td>5940</td>\n      <td>2990</td>\n      <td>2960</td>\n      <td>755</td>\n      <td>...</td>\n      <td>0.5</td>\n      <td>2.0</td>\n      <td>2.0</td>\n      <td>8.4</td>\n      <td>2.3</td>\n      <td>3.5</td>\n      <td>2.0</td>\n      <td>5.0</td>\n      <td>18.0</td>\n      <td>2.3</td>\n    </tr>\n    <tr>\n      <th>772</th>\n      <td>772</td>\n      <td>9350604</td>\n      <td>Vroendaal</td>\n      <td>Maastricht</td>\n      <td>Buurt</td>\n      <td>1</td>\n      <td>1090</td>\n      <td>525</td>\n      <td>570</td>\n      <td>150</td>\n      <td>...</td>\n      <td>1.4</td>\n      <td>2.0</td>\n      <td>2.0</td>\n      <td>7.5</td>\n      <td>2.7</td>\n      <td>4.3</td>\n      <td>2.3</td>\n      <td>5.0</td>\n      <td>18.0</td>\n      <td>3.1</td>\n    </tr>\n  </tbody>\n</table>\n<p>624 rows × 144 columns</p>\n</div>"
     },
     "execution_count": 12,
     "metadata": {},
     "output_type": "execute_result"
    }
   ],
   "source": [
    "df"
   ],
   "metadata": {
    "collapsed": false,
    "ExecuteTime": {
     "end_time": "2024-05-01T07:59:09.667234400Z",
     "start_time": "2024-05-01T07:59:09.600412Z"
    }
   },
   "id": "d924c8dce840ecda"
  },
  {
   "cell_type": "code",
   "execution_count": 10,
   "outputs": [
    {
     "ename": "ValueError",
     "evalue": "invalid literal for int() with base 10: '.'",
     "output_type": "error",
     "traceback": [
      "\u001B[1;31m---------------------------------------------------------------------------\u001B[0m",
      "\u001B[1;31mValueError\u001B[0m                                Traceback (most recent call last)",
      "Cell \u001B[1;32mIn[10], line 1\u001B[0m\n\u001B[1;32m----> 1\u001B[0m \u001B[43mdf\u001B[49m\u001B[43m[\u001B[49m\u001B[38;5;124;43m\"\u001B[39;49m\u001B[38;5;124;43mn_low_educated\u001B[39;49m\u001B[38;5;124;43m\"\u001B[39;49m\u001B[43m]\u001B[49m\u001B[38;5;241;43m.\u001B[39;49m\u001B[43mastype\u001B[49m\u001B[43m(\u001B[49m\u001B[38;5;28;43mint\u001B[39;49m\u001B[43m)\u001B[49m\n",
      "File \u001B[1;32m~\\Documents\\BISS\\Master Thesis\\Code\\venv\\lib\\site-packages\\pandas\\core\\generic.py:6637\u001B[0m, in \u001B[0;36mNDFrame.astype\u001B[1;34m(self, dtype, copy, errors)\u001B[0m\n\u001B[0;32m   6631\u001B[0m     results \u001B[38;5;241m=\u001B[39m [\n\u001B[0;32m   6632\u001B[0m         ser\u001B[38;5;241m.\u001B[39mastype(dtype, copy\u001B[38;5;241m=\u001B[39mcopy, errors\u001B[38;5;241m=\u001B[39merrors) \u001B[38;5;28;01mfor\u001B[39;00m _, ser \u001B[38;5;129;01min\u001B[39;00m \u001B[38;5;28mself\u001B[39m\u001B[38;5;241m.\u001B[39mitems()\n\u001B[0;32m   6633\u001B[0m     ]\n\u001B[0;32m   6635\u001B[0m \u001B[38;5;28;01melse\u001B[39;00m:\n\u001B[0;32m   6636\u001B[0m     \u001B[38;5;66;03m# else, only a single dtype is given\u001B[39;00m\n\u001B[1;32m-> 6637\u001B[0m     new_data \u001B[38;5;241m=\u001B[39m \u001B[38;5;28;43mself\u001B[39;49m\u001B[38;5;241;43m.\u001B[39;49m\u001B[43m_mgr\u001B[49m\u001B[38;5;241;43m.\u001B[39;49m\u001B[43mastype\u001B[49m\u001B[43m(\u001B[49m\u001B[43mdtype\u001B[49m\u001B[38;5;241;43m=\u001B[39;49m\u001B[43mdtype\u001B[49m\u001B[43m,\u001B[49m\u001B[43m \u001B[49m\u001B[43mcopy\u001B[49m\u001B[38;5;241;43m=\u001B[39;49m\u001B[43mcopy\u001B[49m\u001B[43m,\u001B[49m\u001B[43m \u001B[49m\u001B[43merrors\u001B[49m\u001B[38;5;241;43m=\u001B[39;49m\u001B[43merrors\u001B[49m\u001B[43m)\u001B[49m\n\u001B[0;32m   6638\u001B[0m     res \u001B[38;5;241m=\u001B[39m \u001B[38;5;28mself\u001B[39m\u001B[38;5;241m.\u001B[39m_constructor_from_mgr(new_data, axes\u001B[38;5;241m=\u001B[39mnew_data\u001B[38;5;241m.\u001B[39maxes)\n\u001B[0;32m   6639\u001B[0m     \u001B[38;5;28;01mreturn\u001B[39;00m res\u001B[38;5;241m.\u001B[39m__finalize__(\u001B[38;5;28mself\u001B[39m, method\u001B[38;5;241m=\u001B[39m\u001B[38;5;124m\"\u001B[39m\u001B[38;5;124mastype\u001B[39m\u001B[38;5;124m\"\u001B[39m)\n",
      "File \u001B[1;32m~\\Documents\\BISS\\Master Thesis\\Code\\venv\\lib\\site-packages\\pandas\\core\\internals\\managers.py:431\u001B[0m, in \u001B[0;36mBaseBlockManager.astype\u001B[1;34m(self, dtype, copy, errors)\u001B[0m\n\u001B[0;32m    428\u001B[0m \u001B[38;5;28;01melif\u001B[39;00m using_copy_on_write():\n\u001B[0;32m    429\u001B[0m     copy \u001B[38;5;241m=\u001B[39m \u001B[38;5;28;01mFalse\u001B[39;00m\n\u001B[1;32m--> 431\u001B[0m \u001B[38;5;28;01mreturn\u001B[39;00m \u001B[38;5;28;43mself\u001B[39;49m\u001B[38;5;241;43m.\u001B[39;49m\u001B[43mapply\u001B[49m\u001B[43m(\u001B[49m\n\u001B[0;32m    432\u001B[0m \u001B[43m    \u001B[49m\u001B[38;5;124;43m\"\u001B[39;49m\u001B[38;5;124;43mastype\u001B[39;49m\u001B[38;5;124;43m\"\u001B[39;49m\u001B[43m,\u001B[49m\n\u001B[0;32m    433\u001B[0m \u001B[43m    \u001B[49m\u001B[43mdtype\u001B[49m\u001B[38;5;241;43m=\u001B[39;49m\u001B[43mdtype\u001B[49m\u001B[43m,\u001B[49m\n\u001B[0;32m    434\u001B[0m \u001B[43m    \u001B[49m\u001B[43mcopy\u001B[49m\u001B[38;5;241;43m=\u001B[39;49m\u001B[43mcopy\u001B[49m\u001B[43m,\u001B[49m\n\u001B[0;32m    435\u001B[0m \u001B[43m    \u001B[49m\u001B[43merrors\u001B[49m\u001B[38;5;241;43m=\u001B[39;49m\u001B[43merrors\u001B[49m\u001B[43m,\u001B[49m\n\u001B[0;32m    436\u001B[0m \u001B[43m    \u001B[49m\u001B[43musing_cow\u001B[49m\u001B[38;5;241;43m=\u001B[39;49m\u001B[43musing_copy_on_write\u001B[49m\u001B[43m(\u001B[49m\u001B[43m)\u001B[49m\u001B[43m,\u001B[49m\n\u001B[0;32m    437\u001B[0m \u001B[43m\u001B[49m\u001B[43m)\u001B[49m\n",
      "File \u001B[1;32m~\\Documents\\BISS\\Master Thesis\\Code\\venv\\lib\\site-packages\\pandas\\core\\internals\\managers.py:364\u001B[0m, in \u001B[0;36mBaseBlockManager.apply\u001B[1;34m(self, f, align_keys, **kwargs)\u001B[0m\n\u001B[0;32m    362\u001B[0m         applied \u001B[38;5;241m=\u001B[39m b\u001B[38;5;241m.\u001B[39mapply(f, \u001B[38;5;241m*\u001B[39m\u001B[38;5;241m*\u001B[39mkwargs)\n\u001B[0;32m    363\u001B[0m     \u001B[38;5;28;01melse\u001B[39;00m:\n\u001B[1;32m--> 364\u001B[0m         applied \u001B[38;5;241m=\u001B[39m \u001B[38;5;28mgetattr\u001B[39m(b, f)(\u001B[38;5;241m*\u001B[39m\u001B[38;5;241m*\u001B[39mkwargs)\n\u001B[0;32m    365\u001B[0m     result_blocks \u001B[38;5;241m=\u001B[39m extend_blocks(applied, result_blocks)\n\u001B[0;32m    367\u001B[0m out \u001B[38;5;241m=\u001B[39m \u001B[38;5;28mtype\u001B[39m(\u001B[38;5;28mself\u001B[39m)\u001B[38;5;241m.\u001B[39mfrom_blocks(result_blocks, \u001B[38;5;28mself\u001B[39m\u001B[38;5;241m.\u001B[39maxes)\n",
      "File \u001B[1;32m~\\Documents\\BISS\\Master Thesis\\Code\\venv\\lib\\site-packages\\pandas\\core\\internals\\blocks.py:758\u001B[0m, in \u001B[0;36mBlock.astype\u001B[1;34m(self, dtype, copy, errors, using_cow, squeeze)\u001B[0m\n\u001B[0;32m    755\u001B[0m         \u001B[38;5;28;01mraise\u001B[39;00m \u001B[38;5;167;01mValueError\u001B[39;00m(\u001B[38;5;124m\"\u001B[39m\u001B[38;5;124mCan not squeeze with more than one column.\u001B[39m\u001B[38;5;124m\"\u001B[39m)\n\u001B[0;32m    756\u001B[0m     values \u001B[38;5;241m=\u001B[39m values[\u001B[38;5;241m0\u001B[39m, :]  \u001B[38;5;66;03m# type: ignore[call-overload]\u001B[39;00m\n\u001B[1;32m--> 758\u001B[0m new_values \u001B[38;5;241m=\u001B[39m \u001B[43mastype_array_safe\u001B[49m\u001B[43m(\u001B[49m\u001B[43mvalues\u001B[49m\u001B[43m,\u001B[49m\u001B[43m \u001B[49m\u001B[43mdtype\u001B[49m\u001B[43m,\u001B[49m\u001B[43m \u001B[49m\u001B[43mcopy\u001B[49m\u001B[38;5;241;43m=\u001B[39;49m\u001B[43mcopy\u001B[49m\u001B[43m,\u001B[49m\u001B[43m \u001B[49m\u001B[43merrors\u001B[49m\u001B[38;5;241;43m=\u001B[39;49m\u001B[43merrors\u001B[49m\u001B[43m)\u001B[49m\n\u001B[0;32m    760\u001B[0m new_values \u001B[38;5;241m=\u001B[39m maybe_coerce_values(new_values)\n\u001B[0;32m    762\u001B[0m refs \u001B[38;5;241m=\u001B[39m \u001B[38;5;28;01mNone\u001B[39;00m\n",
      "File \u001B[1;32m~\\Documents\\BISS\\Master Thesis\\Code\\venv\\lib\\site-packages\\pandas\\core\\dtypes\\astype.py:237\u001B[0m, in \u001B[0;36mastype_array_safe\u001B[1;34m(values, dtype, copy, errors)\u001B[0m\n\u001B[0;32m    234\u001B[0m     dtype \u001B[38;5;241m=\u001B[39m dtype\u001B[38;5;241m.\u001B[39mnumpy_dtype\n\u001B[0;32m    236\u001B[0m \u001B[38;5;28;01mtry\u001B[39;00m:\n\u001B[1;32m--> 237\u001B[0m     new_values \u001B[38;5;241m=\u001B[39m \u001B[43mastype_array\u001B[49m\u001B[43m(\u001B[49m\u001B[43mvalues\u001B[49m\u001B[43m,\u001B[49m\u001B[43m \u001B[49m\u001B[43mdtype\u001B[49m\u001B[43m,\u001B[49m\u001B[43m \u001B[49m\u001B[43mcopy\u001B[49m\u001B[38;5;241;43m=\u001B[39;49m\u001B[43mcopy\u001B[49m\u001B[43m)\u001B[49m\n\u001B[0;32m    238\u001B[0m \u001B[38;5;28;01mexcept\u001B[39;00m (\u001B[38;5;167;01mValueError\u001B[39;00m, \u001B[38;5;167;01mTypeError\u001B[39;00m):\n\u001B[0;32m    239\u001B[0m     \u001B[38;5;66;03m# e.g. _astype_nansafe can fail on object-dtype of strings\u001B[39;00m\n\u001B[0;32m    240\u001B[0m     \u001B[38;5;66;03m#  trying to convert to float\u001B[39;00m\n\u001B[0;32m    241\u001B[0m     \u001B[38;5;28;01mif\u001B[39;00m errors \u001B[38;5;241m==\u001B[39m \u001B[38;5;124m\"\u001B[39m\u001B[38;5;124mignore\u001B[39m\u001B[38;5;124m\"\u001B[39m:\n",
      "File \u001B[1;32m~\\Documents\\BISS\\Master Thesis\\Code\\venv\\lib\\site-packages\\pandas\\core\\dtypes\\astype.py:182\u001B[0m, in \u001B[0;36mastype_array\u001B[1;34m(values, dtype, copy)\u001B[0m\n\u001B[0;32m    179\u001B[0m     values \u001B[38;5;241m=\u001B[39m values\u001B[38;5;241m.\u001B[39mastype(dtype, copy\u001B[38;5;241m=\u001B[39mcopy)\n\u001B[0;32m    181\u001B[0m \u001B[38;5;28;01melse\u001B[39;00m:\n\u001B[1;32m--> 182\u001B[0m     values \u001B[38;5;241m=\u001B[39m \u001B[43m_astype_nansafe\u001B[49m\u001B[43m(\u001B[49m\u001B[43mvalues\u001B[49m\u001B[43m,\u001B[49m\u001B[43m \u001B[49m\u001B[43mdtype\u001B[49m\u001B[43m,\u001B[49m\u001B[43m \u001B[49m\u001B[43mcopy\u001B[49m\u001B[38;5;241;43m=\u001B[39;49m\u001B[43mcopy\u001B[49m\u001B[43m)\u001B[49m\n\u001B[0;32m    184\u001B[0m \u001B[38;5;66;03m# in pandas we don't store numpy str dtypes, so convert to object\u001B[39;00m\n\u001B[0;32m    185\u001B[0m \u001B[38;5;28;01mif\u001B[39;00m \u001B[38;5;28misinstance\u001B[39m(dtype, np\u001B[38;5;241m.\u001B[39mdtype) \u001B[38;5;129;01mand\u001B[39;00m \u001B[38;5;28missubclass\u001B[39m(values\u001B[38;5;241m.\u001B[39mdtype\u001B[38;5;241m.\u001B[39mtype, \u001B[38;5;28mstr\u001B[39m):\n",
      "File \u001B[1;32m~\\Documents\\BISS\\Master Thesis\\Code\\venv\\lib\\site-packages\\pandas\\core\\dtypes\\astype.py:133\u001B[0m, in \u001B[0;36m_astype_nansafe\u001B[1;34m(arr, dtype, copy, skipna)\u001B[0m\n\u001B[0;32m    129\u001B[0m     \u001B[38;5;28;01mraise\u001B[39;00m \u001B[38;5;167;01mValueError\u001B[39;00m(msg)\n\u001B[0;32m    131\u001B[0m \u001B[38;5;28;01mif\u001B[39;00m copy \u001B[38;5;129;01mor\u001B[39;00m arr\u001B[38;5;241m.\u001B[39mdtype \u001B[38;5;241m==\u001B[39m \u001B[38;5;28mobject\u001B[39m \u001B[38;5;129;01mor\u001B[39;00m dtype \u001B[38;5;241m==\u001B[39m \u001B[38;5;28mobject\u001B[39m:\n\u001B[0;32m    132\u001B[0m     \u001B[38;5;66;03m# Explicit copy, or required since NumPy can't view from / to object.\u001B[39;00m\n\u001B[1;32m--> 133\u001B[0m     \u001B[38;5;28;01mreturn\u001B[39;00m \u001B[43marr\u001B[49m\u001B[38;5;241;43m.\u001B[39;49m\u001B[43mastype\u001B[49m\u001B[43m(\u001B[49m\u001B[43mdtype\u001B[49m\u001B[43m,\u001B[49m\u001B[43m \u001B[49m\u001B[43mcopy\u001B[49m\u001B[38;5;241;43m=\u001B[39;49m\u001B[38;5;28;43;01mTrue\u001B[39;49;00m\u001B[43m)\u001B[49m\n\u001B[0;32m    135\u001B[0m \u001B[38;5;28;01mreturn\u001B[39;00m arr\u001B[38;5;241m.\u001B[39mastype(dtype, copy\u001B[38;5;241m=\u001B[39mcopy)\n",
      "\u001B[1;31mValueError\u001B[0m: invalid literal for int() with base 10: '.'"
     ]
    }
   ],
   "source": [],
   "metadata": {
    "collapsed": false,
    "ExecuteTime": {
     "end_time": "2024-05-01T07:37:50.650976500Z",
     "start_time": "2024-05-01T07:37:48.755783200Z"
    }
   },
   "id": "b11b7e14a297c513"
  },
  {
   "cell_type": "code",
   "execution_count": 15,
   "outputs": [],
   "source": [
    "calculate_proportions(df, 'prop_0-14', 'Numbers.of.people.from.0.14.years.old', 'Number.of.inhabitants')\n",
    "calculate_proportions(df, 'prop_15-24', 'Number.of.people.from.15.24.years.old', 'Number.of.inhabitants')\n",
    "calculate_proportions(df, 'prop_25-44', 'Number.of.people.from.25.44.years.old', 'Number.of.inhabitants')\n",
    "calculate_proportions(df, 'prop_45-64', 'Number.of.people.from.45.64.years.old', 'Number.of.inhabitants')\n",
    "calculate_proportions(df, 'prop_65+', 'Number.of.people....65.years.old', 'Number.of.inhabitants')\n",
    "calculate_proportions(df, 'prop_low_ed', 'n_low_educated', 'Number.of.inhabitants')\n",
    "calculate_proportions(df, 'prop_med_ed', 'n_highschool_educated', 'Number.of.inhabitants')\n",
    "calculate_proportions(df, 'prop_high_ed', 'n_highly_educated', 'Number.of.inhabitants')\n",
    "df.dropna(inplace=True)"
   ],
   "metadata": {
    "collapsed": false,
    "ExecuteTime": {
     "end_time": "2024-05-01T08:02:18.174627700Z",
     "start_time": "2024-05-01T08:02:18.116780500Z"
    }
   },
   "id": "52c6d8d7d4734fc0"
  },
  {
   "cell_type": "code",
   "execution_count": 16,
   "outputs": [],
   "source": [
    "# Define df_score DataFrame\n",
    "df_score = pd.DataFrame()\n",
    "\n",
    "# Apply the function to each row in the 'prop_0-14' column\n",
    "df_score['score_0-14'] = df.apply(scoring, column=\"prop_0-14\", axis=1)\n",
    "df_score['score_15-24'] = df.apply(scoring, column=\"prop_15-24\", axis=1)\n",
    "df_score['score_25-44'] = df.apply(scoring, column=\"prop_25-44\", axis=1)\n",
    "df_score['score_45-64'] = df.apply(scoring, column=\"prop_45-64\", axis=1)\n",
    "df_score['score_65+'] = df.apply(scoring, column=\"prop_65+\", axis=1)\n",
    "df_score['score_age']=(df_score['score_0-14']+df_score['score_15-24']+df_score['score_25-44']+df_score['score_45-64']+df_score['score_65+'])/5"
   ],
   "metadata": {
    "collapsed": false,
    "ExecuteTime": {
     "end_time": "2024-05-01T08:02:21.883192Z",
     "start_time": "2024-05-01T08:02:21.596002Z"
    }
   },
   "id": "31519f1833c4b3f6"
  },
  {
   "cell_type": "code",
   "execution_count": 21,
   "outputs": [
    {
     "data": {
      "text/plain": "     score_0-14  score_15-24  score_25-44  score_45-64  score_65+  score_age  \\\n2      0.688176     0.640775     0.829360     0.819150   0.449607   0.685414   \n3      0.791651     0.684390     0.927810     0.984089   0.813846   0.840357   \n4      0.763448     0.826184     0.897154     0.997353   0.922555   0.881339   \n5      0.847813     0.642098     0.797250     0.887170   0.734054   0.781677   \n6      0.868800     0.658488     0.726380     0.954484   0.614496   0.764530   \n..          ...          ...          ...          ...        ...        ...   \n768    0.631346     0.911748     0.909082     0.877055   0.835206   0.832888   \n769    0.682451     0.992574     0.748582     0.799816   0.721457   0.788976   \n770    0.804600     0.927129     0.809993     0.897128   0.700873   0.827945   \n771    0.891632     0.835165     0.929295     0.850408   0.892539   0.879808   \n772    0.965361     0.774025     0.450822     0.707433   0.594058   0.698340   \n\n     score_men  score_women  score_gender  score_household_size  \\\n2     0.938834     0.937097      0.937965              0.807898   \n3     0.963720     0.968475      0.966097              0.943071   \n4     0.973157     0.974046      0.973602              0.943071   \n5     0.975660     0.976415      0.976038              0.943071   \n6     0.942266     0.945720      0.943993              0.861065   \n..         ...          ...           ...                   ...   \n768   0.967190     0.963786      0.965488              0.858391   \n769   0.950115     0.950715      0.950415              0.959379   \n770   0.969227     0.969059      0.969143              0.959379   \n771   0.991062     0.994309      0.992686              0.959379   \n772   0.965488     0.958375      0.961932              0.825187   \n\n     score_single_family  score_multi_family  score_family  score_low_ed  \\\n2               0.060872            0.522849      0.291861      0.664511   \n3               0.758210            0.690113      0.724161      0.631496   \n4               0.994244            0.994438      0.994341      0.654935   \n5               0.746722            0.670395      0.708559      0.950503   \n6               0.502894            0.039435      0.271165      0.796656   \n..                   ...                 ...           ...           ...   \n768             0.771047            0.818006      0.794526      0.537811   \n769             0.849718            0.828135      0.838927      0.703386   \n770             0.746722            0.670395      0.708559      0.851626   \n771             0.794898            0.749265      0.772081      0.713778   \n772             0.704052            0.591525      0.647789      0.623247   \n\n     score_med_ed  score_high_ed  score_education  score_employed  \\\n2        0.990234       0.497216         0.717320        0.994611   \n3        0.893217       0.498503         0.674405        0.982036   \n4        0.779241       0.398414         0.610863        0.982036   \n5        0.828172       0.695222         0.824632        0.982036   \n6        0.784500       0.567733         0.716296        0.993590   \n..            ...            ...              ...             ...   \n768      0.927826       0.602958         0.689532        0.959717   \n769      0.956516       0.763614         0.807838        0.970749   \n770      0.866150       0.767376         0.828384        0.982036   \n771      0.824508       0.695569         0.744618        0.959717   \n772      0.500716       0.797059         0.640341        0.935408   \n\n     score_unemployed  score_employment  \n2            0.971554          0.983083  \n3            0.900619          0.941327  \n4            0.900619          0.941327  \n5            0.900619          0.941327  \n6            0.964948          0.979269  \n..                ...               ...  \n768          0.771959          0.865838  \n769          0.836289          0.903519  \n770          0.900619          0.941327  \n771          0.771959          0.865838  \n772          0.740232          0.837820  \n\n[624 rows x 20 columns]",
      "text/html": "<div>\n<style scoped>\n    .dataframe tbody tr th:only-of-type {\n        vertical-align: middle;\n    }\n\n    .dataframe tbody tr th {\n        vertical-align: top;\n    }\n\n    .dataframe thead th {\n        text-align: right;\n    }\n</style>\n<table border=\"1\" class=\"dataframe\">\n  <thead>\n    <tr style=\"text-align: right;\">\n      <th></th>\n      <th>score_0-14</th>\n      <th>score_15-24</th>\n      <th>score_25-44</th>\n      <th>score_45-64</th>\n      <th>score_65+</th>\n      <th>score_age</th>\n      <th>score_men</th>\n      <th>score_women</th>\n      <th>score_gender</th>\n      <th>score_household_size</th>\n      <th>score_single_family</th>\n      <th>score_multi_family</th>\n      <th>score_family</th>\n      <th>score_low_ed</th>\n      <th>score_med_ed</th>\n      <th>score_high_ed</th>\n      <th>score_education</th>\n      <th>score_employed</th>\n      <th>score_unemployed</th>\n      <th>score_employment</th>\n    </tr>\n  </thead>\n  <tbody>\n    <tr>\n      <th>2</th>\n      <td>0.688176</td>\n      <td>0.640775</td>\n      <td>0.829360</td>\n      <td>0.819150</td>\n      <td>0.449607</td>\n      <td>0.685414</td>\n      <td>0.938834</td>\n      <td>0.937097</td>\n      <td>0.937965</td>\n      <td>0.807898</td>\n      <td>0.060872</td>\n      <td>0.522849</td>\n      <td>0.291861</td>\n      <td>0.664511</td>\n      <td>0.990234</td>\n      <td>0.497216</td>\n      <td>0.717320</td>\n      <td>0.994611</td>\n      <td>0.971554</td>\n      <td>0.983083</td>\n    </tr>\n    <tr>\n      <th>3</th>\n      <td>0.791651</td>\n      <td>0.684390</td>\n      <td>0.927810</td>\n      <td>0.984089</td>\n      <td>0.813846</td>\n      <td>0.840357</td>\n      <td>0.963720</td>\n      <td>0.968475</td>\n      <td>0.966097</td>\n      <td>0.943071</td>\n      <td>0.758210</td>\n      <td>0.690113</td>\n      <td>0.724161</td>\n      <td>0.631496</td>\n      <td>0.893217</td>\n      <td>0.498503</td>\n      <td>0.674405</td>\n      <td>0.982036</td>\n      <td>0.900619</td>\n      <td>0.941327</td>\n    </tr>\n    <tr>\n      <th>4</th>\n      <td>0.763448</td>\n      <td>0.826184</td>\n      <td>0.897154</td>\n      <td>0.997353</td>\n      <td>0.922555</td>\n      <td>0.881339</td>\n      <td>0.973157</td>\n      <td>0.974046</td>\n      <td>0.973602</td>\n      <td>0.943071</td>\n      <td>0.994244</td>\n      <td>0.994438</td>\n      <td>0.994341</td>\n      <td>0.654935</td>\n      <td>0.779241</td>\n      <td>0.398414</td>\n      <td>0.610863</td>\n      <td>0.982036</td>\n      <td>0.900619</td>\n      <td>0.941327</td>\n    </tr>\n    <tr>\n      <th>5</th>\n      <td>0.847813</td>\n      <td>0.642098</td>\n      <td>0.797250</td>\n      <td>0.887170</td>\n      <td>0.734054</td>\n      <td>0.781677</td>\n      <td>0.975660</td>\n      <td>0.976415</td>\n      <td>0.976038</td>\n      <td>0.943071</td>\n      <td>0.746722</td>\n      <td>0.670395</td>\n      <td>0.708559</td>\n      <td>0.950503</td>\n      <td>0.828172</td>\n      <td>0.695222</td>\n      <td>0.824632</td>\n      <td>0.982036</td>\n      <td>0.900619</td>\n      <td>0.941327</td>\n    </tr>\n    <tr>\n      <th>6</th>\n      <td>0.868800</td>\n      <td>0.658488</td>\n      <td>0.726380</td>\n      <td>0.954484</td>\n      <td>0.614496</td>\n      <td>0.764530</td>\n      <td>0.942266</td>\n      <td>0.945720</td>\n      <td>0.943993</td>\n      <td>0.861065</td>\n      <td>0.502894</td>\n      <td>0.039435</td>\n      <td>0.271165</td>\n      <td>0.796656</td>\n      <td>0.784500</td>\n      <td>0.567733</td>\n      <td>0.716296</td>\n      <td>0.993590</td>\n      <td>0.964948</td>\n      <td>0.979269</td>\n    </tr>\n    <tr>\n      <th>...</th>\n      <td>...</td>\n      <td>...</td>\n      <td>...</td>\n      <td>...</td>\n      <td>...</td>\n      <td>...</td>\n      <td>...</td>\n      <td>...</td>\n      <td>...</td>\n      <td>...</td>\n      <td>...</td>\n      <td>...</td>\n      <td>...</td>\n      <td>...</td>\n      <td>...</td>\n      <td>...</td>\n      <td>...</td>\n      <td>...</td>\n      <td>...</td>\n      <td>...</td>\n    </tr>\n    <tr>\n      <th>768</th>\n      <td>0.631346</td>\n      <td>0.911748</td>\n      <td>0.909082</td>\n      <td>0.877055</td>\n      <td>0.835206</td>\n      <td>0.832888</td>\n      <td>0.967190</td>\n      <td>0.963786</td>\n      <td>0.965488</td>\n      <td>0.858391</td>\n      <td>0.771047</td>\n      <td>0.818006</td>\n      <td>0.794526</td>\n      <td>0.537811</td>\n      <td>0.927826</td>\n      <td>0.602958</td>\n      <td>0.689532</td>\n      <td>0.959717</td>\n      <td>0.771959</td>\n      <td>0.865838</td>\n    </tr>\n    <tr>\n      <th>769</th>\n      <td>0.682451</td>\n      <td>0.992574</td>\n      <td>0.748582</td>\n      <td>0.799816</td>\n      <td>0.721457</td>\n      <td>0.788976</td>\n      <td>0.950115</td>\n      <td>0.950715</td>\n      <td>0.950415</td>\n      <td>0.959379</td>\n      <td>0.849718</td>\n      <td>0.828135</td>\n      <td>0.838927</td>\n      <td>0.703386</td>\n      <td>0.956516</td>\n      <td>0.763614</td>\n      <td>0.807838</td>\n      <td>0.970749</td>\n      <td>0.836289</td>\n      <td>0.903519</td>\n    </tr>\n    <tr>\n      <th>770</th>\n      <td>0.804600</td>\n      <td>0.927129</td>\n      <td>0.809993</td>\n      <td>0.897128</td>\n      <td>0.700873</td>\n      <td>0.827945</td>\n      <td>0.969227</td>\n      <td>0.969059</td>\n      <td>0.969143</td>\n      <td>0.959379</td>\n      <td>0.746722</td>\n      <td>0.670395</td>\n      <td>0.708559</td>\n      <td>0.851626</td>\n      <td>0.866150</td>\n      <td>0.767376</td>\n      <td>0.828384</td>\n      <td>0.982036</td>\n      <td>0.900619</td>\n      <td>0.941327</td>\n    </tr>\n    <tr>\n      <th>771</th>\n      <td>0.891632</td>\n      <td>0.835165</td>\n      <td>0.929295</td>\n      <td>0.850408</td>\n      <td>0.892539</td>\n      <td>0.879808</td>\n      <td>0.991062</td>\n      <td>0.994309</td>\n      <td>0.992686</td>\n      <td>0.959379</td>\n      <td>0.794898</td>\n      <td>0.749265</td>\n      <td>0.772081</td>\n      <td>0.713778</td>\n      <td>0.824508</td>\n      <td>0.695569</td>\n      <td>0.744618</td>\n      <td>0.959717</td>\n      <td>0.771959</td>\n      <td>0.865838</td>\n    </tr>\n    <tr>\n      <th>772</th>\n      <td>0.965361</td>\n      <td>0.774025</td>\n      <td>0.450822</td>\n      <td>0.707433</td>\n      <td>0.594058</td>\n      <td>0.698340</td>\n      <td>0.965488</td>\n      <td>0.958375</td>\n      <td>0.961932</td>\n      <td>0.825187</td>\n      <td>0.704052</td>\n      <td>0.591525</td>\n      <td>0.647789</td>\n      <td>0.623247</td>\n      <td>0.500716</td>\n      <td>0.797059</td>\n      <td>0.640341</td>\n      <td>0.935408</td>\n      <td>0.740232</td>\n      <td>0.837820</td>\n    </tr>\n  </tbody>\n</table>\n<p>624 rows × 20 columns</p>\n</div>"
     },
     "execution_count": 21,
     "metadata": {},
     "output_type": "execute_result"
    }
   ],
   "source": [
    "calculate_proportions(df, 'prop_men', 'Number.of.man', 'Number.of.inhabitants')\n",
    "calculate_proportions(df, 'prop_women', 'Number.of.women', 'Number.of.inhabitants')\n",
    "df_score['score_men'] = df.apply(scoring, column=\"prop_men\", axis=1)\n",
    "df_score['score_women'] = df.apply(scoring, column=\"prop_women\", axis=1)\n",
    "df_score[\"score_gender\"]= (df_score[\"score_men\"]+df_score[\"score_women\"])/2\n",
    "\n",
    "df_score['score_household_size']=df.apply(scoring, column=\"Average.household.size\", axis=1)\n",
    "df_score['score_single_family']=df.apply(scoring, column='percent.of.single.family.housing', axis=1)\n",
    "df_score['score_multi_family']=df.apply(scoring, column='percent.of.multifamily.housing', axis=1)\n",
    "df_score[\"score_family\"]= (df_score[\"score_single_family\"]+df_score[\"score_multi_family\"])/2\n",
    "\n",
    "\n",
    "df_score['score_low_ed'] = df.apply(scoring, column=\"prop_low_ed\", axis=1)\n",
    "df_score['score_med_ed'] = df.apply(scoring, column=\"prop_med_ed\", axis=1)\n",
    "df_score['score_high_ed'] = df.apply(scoring, column=\"prop_high_ed\", axis=1)\n",
    "df_score[\"score_education\"]= (df_score[\"score_low_ed\"]+df_score[\"score_med_ed\"]+df_score[\"score_high_ed\"])/3\n",
    "\n",
    "df_score['score_employed'] = df.apply(scoring, column=\"p_employees\", axis=1)\n",
    "df_score['score_unemployed'] = df.apply(scoring, column=\"p_self_employed\", axis=1)\n",
    "df_score['score_employment'] = (df_score['score_employed']+df_score['score_unemployed'])/2\n",
    "df_score"
   ],
   "metadata": {
    "collapsed": false,
    "ExecuteTime": {
     "end_time": "2024-05-01T08:04:50.158094100Z",
     "start_time": "2024-05-01T08:04:49.357483400Z"
    }
   },
   "id": "db46d8ae62500524"
  }
 ],
 "metadata": {
  "kernelspec": {
   "display_name": "Python 3",
   "language": "python",
   "name": "python3"
  },
  "language_info": {
   "codemirror_mode": {
    "name": "ipython",
    "version": 2
   },
   "file_extension": ".py",
   "mimetype": "text/x-python",
   "name": "python",
   "nbconvert_exporter": "python",
   "pygments_lexer": "ipython2",
   "version": "2.7.6"
  }
 },
 "nbformat": 4,
 "nbformat_minor": 5
}

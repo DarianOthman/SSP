{
 "cells": [
  {
   "cell_type": "code",
   "execution_count": 19,
   "id": "initial_id",
   "metadata": {
    "collapsed": true,
    "ExecuteTime": {
     "end_time": "2024-04-24T15:38:19.136020800Z",
     "start_time": "2024-04-24T15:38:19.046468700Z"
    }
   },
   "outputs": [],
   "source": [
    "import pandas as pd\n",
    "df = pd.read_csv(\"data_full.csv\", index_col=0)"
   ]
  },
  {
   "cell_type": "code",
   "execution_count": null,
   "outputs": [],
   "source": [
    "# Define proportion function\n",
    "def calculate_proportions(df, col1, col2, col3):\n",
    "    df[col1] = df[col2] / df[col3]\n",
    "    return df\n",
    "\n",
    "# Define scoring function\n",
    "def scoring(row, column):\n",
    "    if row[column] > df[column].mean():\n",
    "        return df[column].mean() / row[column]\n",
    "    else:\n",
    "        return row[column] / df[column].mean()"
   ],
   "metadata": {
    "collapsed": false
   },
   "id": "bd77b96b66226923"
  },
  {
   "cell_type": "code",
   "execution_count": 20,
   "outputs": [],
   "source": [
    "calculate_proportions(df, 'prop_0-14', 'Numbers of people from 0-14 years old', 'Number of inhabitants')\n",
    "calculate_proportions(df, 'prop_15-24', 'Number of people from 15-24 years old', 'Number of inhabitants')\n",
    "calculate_proportions(df, 'prop_25-44', 'Number of people from 25-44 years old', 'Number of inhabitants')\n",
    "calculate_proportions(df, 'prop_45-64', 'Number of people from 45-64 years old', 'Number of inhabitants')\n",
    "calculate_proportions(df, 'prop_65+', 'Number of people >= 65 years old', 'Number of inhabitants')\n",
    "df.dropna(inplace=True)"
   ],
   "metadata": {
    "collapsed": false,
    "ExecuteTime": {
     "end_time": "2024-04-24T15:38:19.169275900Z",
     "start_time": "2024-04-24T15:38:19.138016400Z"
    }
   },
   "id": "52c6d8d7d4734fc0"
  },
  {
   "cell_type": "code",
   "execution_count": null,
   "outputs": [],
   "source": [
    "# Define df_score DataFrame\n",
    "df_score = pd.DataFrame()\n",
    "\n",
    "# Apply the function to each row in the 'prop_0-14' column\n",
    "df_score['score_0-14'] = df.apply(scoring, column=\"prop_0-14\", axis=1)\n",
    "df_score['score_15-24'] = df.apply(scoring, column=\"prop_15-24\", axis=1)\n",
    "df_score['score_25-44'] = df.apply(scoring, column=\"prop_25-44\", axis=1)\n",
    "df_score['score_45-64'] = df.apply(scoring, column=\"prop_45-64\", axis=1)\n",
    "df_score['score_65+'] = df.apply(scoring, column=\"prop_65+\", axis=1)\n",
    "df_score['score_age']=(df_score['score_0-14']+df_score['score_15-24']+df_score['score_25-44']+df_score['score_45-64']+df_score['score_65+'])/5"
   ],
   "metadata": {
    "collapsed": false
   },
   "id": "31519f1833c4b3f6"
  },
  {
   "cell_type": "code",
   "execution_count": 24,
   "outputs": [
    {
     "data": {
      "text/plain": "     score_0-14  score_15-24  score_25-44  score_45-64  score_65+  score_age  \\\n1      0.737097     0.846136     0.926252     0.873910   0.756441   0.827967   \n2      0.719653     0.638103     0.828238     0.805118   0.453596   0.688942   \n3      0.757025     0.681536     0.926555     0.967232   0.821067   0.830683   \n4      0.730055     0.822738     0.895940     0.980269   0.930741   0.871949   \n5      0.810730     0.639420     0.796171     0.902631   0.740567   0.777904   \n..          ...          ...          ...          ...        ...        ...   \n768    0.660224     0.915567     0.907852     0.892341   0.842617   0.843720   \n769    0.713666     0.988434     0.747569     0.813755   0.727859   0.798256   \n770    0.841403     0.923262     0.808897     0.912763   0.707092   0.838683   \n771    0.932415     0.831682     0.928038     0.865229   0.900458   0.891565   \n772    0.990573     0.770797     0.450212     0.719762   0.599329   0.706135   \n\n     score_men  score_women  score_gender  \n1     0.983560     0.985394      0.984477  \n2     0.928527     0.928417      0.928472  \n3     0.953140     0.959505      0.956322  \n4     0.962473     0.965024      0.963749  \n5     0.964948     0.967371      0.966160  \n..         ...          ...           ...  \n768   0.956571     0.954859      0.955715  \n769   0.939683     0.941909      0.940796  \n770   0.958586     0.960084      0.959335  \n771   0.997940     0.996409      0.997175  \n772   0.954888     0.949499      0.952194  \n\n[743 rows x 9 columns]",
      "text/html": "<div>\n<style scoped>\n    .dataframe tbody tr th:only-of-type {\n        vertical-align: middle;\n    }\n\n    .dataframe tbody tr th {\n        vertical-align: top;\n    }\n\n    .dataframe thead th {\n        text-align: right;\n    }\n</style>\n<table border=\"1\" class=\"dataframe\">\n  <thead>\n    <tr style=\"text-align: right;\">\n      <th></th>\n      <th>score_0-14</th>\n      <th>score_15-24</th>\n      <th>score_25-44</th>\n      <th>score_45-64</th>\n      <th>score_65+</th>\n      <th>score_age</th>\n      <th>score_men</th>\n      <th>score_women</th>\n      <th>score_gender</th>\n    </tr>\n  </thead>\n  <tbody>\n    <tr>\n      <th>1</th>\n      <td>0.737097</td>\n      <td>0.846136</td>\n      <td>0.926252</td>\n      <td>0.873910</td>\n      <td>0.756441</td>\n      <td>0.827967</td>\n      <td>0.983560</td>\n      <td>0.985394</td>\n      <td>0.984477</td>\n    </tr>\n    <tr>\n      <th>2</th>\n      <td>0.719653</td>\n      <td>0.638103</td>\n      <td>0.828238</td>\n      <td>0.805118</td>\n      <td>0.453596</td>\n      <td>0.688942</td>\n      <td>0.928527</td>\n      <td>0.928417</td>\n      <td>0.928472</td>\n    </tr>\n    <tr>\n      <th>3</th>\n      <td>0.757025</td>\n      <td>0.681536</td>\n      <td>0.926555</td>\n      <td>0.967232</td>\n      <td>0.821067</td>\n      <td>0.830683</td>\n      <td>0.953140</td>\n      <td>0.959505</td>\n      <td>0.956322</td>\n    </tr>\n    <tr>\n      <th>4</th>\n      <td>0.730055</td>\n      <td>0.822738</td>\n      <td>0.895940</td>\n      <td>0.980269</td>\n      <td>0.930741</td>\n      <td>0.871949</td>\n      <td>0.962473</td>\n      <td>0.965024</td>\n      <td>0.963749</td>\n    </tr>\n    <tr>\n      <th>5</th>\n      <td>0.810730</td>\n      <td>0.639420</td>\n      <td>0.796171</td>\n      <td>0.902631</td>\n      <td>0.740567</td>\n      <td>0.777904</td>\n      <td>0.964948</td>\n      <td>0.967371</td>\n      <td>0.966160</td>\n    </tr>\n    <tr>\n      <th>...</th>\n      <td>...</td>\n      <td>...</td>\n      <td>...</td>\n      <td>...</td>\n      <td>...</td>\n      <td>...</td>\n      <td>...</td>\n      <td>...</td>\n      <td>...</td>\n    </tr>\n    <tr>\n      <th>768</th>\n      <td>0.660224</td>\n      <td>0.915567</td>\n      <td>0.907852</td>\n      <td>0.892341</td>\n      <td>0.842617</td>\n      <td>0.843720</td>\n      <td>0.956571</td>\n      <td>0.954859</td>\n      <td>0.955715</td>\n    </tr>\n    <tr>\n      <th>769</th>\n      <td>0.713666</td>\n      <td>0.988434</td>\n      <td>0.747569</td>\n      <td>0.813755</td>\n      <td>0.727859</td>\n      <td>0.798256</td>\n      <td>0.939683</td>\n      <td>0.941909</td>\n      <td>0.940796</td>\n    </tr>\n    <tr>\n      <th>770</th>\n      <td>0.841403</td>\n      <td>0.923262</td>\n      <td>0.808897</td>\n      <td>0.912763</td>\n      <td>0.707092</td>\n      <td>0.838683</td>\n      <td>0.958586</td>\n      <td>0.960084</td>\n      <td>0.959335</td>\n    </tr>\n    <tr>\n      <th>771</th>\n      <td>0.932415</td>\n      <td>0.831682</td>\n      <td>0.928038</td>\n      <td>0.865229</td>\n      <td>0.900458</td>\n      <td>0.891565</td>\n      <td>0.997940</td>\n      <td>0.996409</td>\n      <td>0.997175</td>\n    </tr>\n    <tr>\n      <th>772</th>\n      <td>0.990573</td>\n      <td>0.770797</td>\n      <td>0.450212</td>\n      <td>0.719762</td>\n      <td>0.599329</td>\n      <td>0.706135</td>\n      <td>0.954888</td>\n      <td>0.949499</td>\n      <td>0.952194</td>\n    </tr>\n  </tbody>\n</table>\n<p>743 rows × 9 columns</p>\n</div>"
     },
     "execution_count": 24,
     "metadata": {},
     "output_type": "execute_result"
    }
   ],
   "source": [
    "calculate_proportions(df, 'prop_men', 'Number of man', 'Number of inhabitants')\n",
    "calculate_proportions(df, 'prop_women', 'Number of women', 'Number of inhabitants')\n",
    "df_score['score_men'] = df.apply(scoring, column=\"prop_men\", axis=1)\n",
    "df_score['score_women'] = df.apply(scoring, column=\"prop_women\", axis=1)\n",
    "df_score[\"score_gender\"]= (df_score[\"score_men\"]+df_score[\"score_women\"])/2\n",
    "df_score"
   ],
   "metadata": {
    "collapsed": false,
    "ExecuteTime": {
     "end_time": "2024-04-24T15:44:50.525761800Z",
     "start_time": "2024-04-24T15:44:49.339154700Z"
    }
   },
   "id": "db46d8ae62500524"
  }
 ],
 "metadata": {
  "kernelspec": {
   "display_name": "Python 3",
   "language": "python",
   "name": "python3"
  },
  "language_info": {
   "codemirror_mode": {
    "name": "ipython",
    "version": 2
   },
   "file_extension": ".py",
   "mimetype": "text/x-python",
   "name": "python",
   "nbconvert_exporter": "python",
   "pygments_lexer": "ipython2",
   "version": "2.7.6"
  }
 },
 "nbformat": 4,
 "nbformat_minor": 5
}

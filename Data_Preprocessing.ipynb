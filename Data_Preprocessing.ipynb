{
 "cells": [
  {
   "cell_type": "code",
   "execution_count": 1,
   "outputs": [],
   "source": [
    "# Libraries and functions\n",
    "# Importing the necessary libraries\n",
    "import pandas as pd\n",
    "import numpy as np\n",
    "\n",
    "# Function to calculate proportions\n",
    "def calculate_proportions(df1, col1, col2, col3):\n",
    "    df_new[col1] = df1[col2] / df1[col3]\n",
    "    return df_new\n",
    "\n",
    "# Function to normalize the values of a column\n",
    "def normalize(df, col1, col2):\n",
    "    min_density = df[col1].min()\n",
    "    max_density = df[col1].max()\n",
    "    df_new[col2] =(df[col1] - min_density) / (max_density - min_density)\n",
    "    return df_new"
   ],
   "metadata": {
    "collapsed": false,
    "ExecuteTime": {
     "end_time": "2024-05-16T13:51:35.537759700Z",
     "start_time": "2024-05-16T13:51:34.463756100Z"
    }
   },
   "id": "f429e95e2a132739"
  },
  {
   "cell_type": "code",
   "execution_count": 2,
   "outputs": [
    {
     "name": "stderr",
     "output_type": "stream",
     "text": [
      "C:\\Users\\I6240624\\AppData\\Local\\Temp\\ipykernel_20312\\3954079681.py:28: FutureWarning: Series.__getitem__ treating keys as positions is deprecated. In a future version, integer keys will always be treated as labels (consistent with DataFrame behavior). To access a value by position, use `ser.iloc[pos]`\n",
      "  average_value = (row1[-1] + row2[-1]) / 2\n",
      "C:\\Users\\I6240624\\AppData\\Local\\Temp\\ipykernel_20312\\3954079681.py:31: FutureWarning: Series.__getitem__ treating keys as positions is deprecated. In a future version, integer keys will always be treated as labels (consistent with DataFrame behavior). To access a value by position, use `ser.iloc[pos]`\n",
      "  new_row = [max(row1[0], row2[0]), 2021, average_value]\n"
     ]
    }
   ],
   "source": [
    "# Load the control variable data\n",
    "df = pd.read_csv(\"Data/data.csv\", index_col=0)\n",
    "\n",
    "# Load the livability data (from CBS)\n",
    "df_buurt = pd.read_csv(\"Data/Leefbaarometer-scores buurten 2002-2022.csv\")\n",
    "\n",
    "# Select the first four columns: the code, the name, the year, and the livability score\n",
    "df_buurt = df_buurt.iloc[:, :4]\n",
    "\n",
    "# Filter for the years 2020 and 2022\n",
    "df_buurt = df_buurt[(df_buurt['jaar'] == 2020) | (df_buurt['jaar'] == 2022)]\n",
    "\n",
    "# Remove the first two characters from 'bu_code': BU001400 to 001400\n",
    "df_buurt[\"bu_code\"] = df_buurt[\"bu_code\"].apply(lambda x: x[2:])\n",
    "\n",
    "# Rename the 'bu_naam' column to 'name'\n",
    "df_buurt.rename(columns={'bu_naam': 'name'}, inplace=True)\n",
    "\n",
    "# Initialize an empty list to store the averaged rows\n",
    "dfall = []\n",
    "\n",
    "# Iterate over the dataframe in steps of 2 to pair rows\n",
    "for i in range(0, len(df_buurt) - 1, 2):\n",
    "    row1 = df_buurt.iloc[i]\n",
    "    row2 = df_buurt.iloc[i + 1]\n",
    "    \n",
    "    # Calculate the average of the last column values\n",
    "    average_value = (row1[-1] + row2[-1]) / 2\n",
    "    \n",
    "    # Create a new row with the max value of the first column, year as 2021, and the average value\n",
    "    new_row = [max(row1[0], row2[0]), 2021, average_value]\n",
    "    \n",
    "    # Append the new row to the list\n",
    "    dfall.append(new_row)\n",
    "\n",
    "# Convert the list of new rows to a DataFrame\n",
    "df_all = pd.DataFrame(dfall, columns=[\"code\", \"year\", \"livability_score\"])\n",
    "\n",
    "# Convert the 'code' column to integer type\n",
    "df_all[\"code\"] = df_all[\"code\"].astype(int)\n",
    "\n",
    "# Merge the control variable dataframe with the livability dataframe on the 'code' column\n",
    "df=pd.merge(df, df_all, left_on=\"gwb_code_10\",right_on=\"code\", how='inner')"
   ],
   "metadata": {
    "collapsed": false,
    "ExecuteTime": {
     "end_time": "2024-05-16T13:51:38.464650400Z",
     "start_time": "2024-05-16T13:51:35.554679Z"
    }
   },
   "id": "a11438d1d1ad7b50"
  },
  {
   "cell_type": "code",
   "execution_count": 3,
   "outputs": [],
   "source": [
    "# Column renaming and selection for better readability\n",
    "new_column_names = {\n",
    "    \"gwb_code_10\": \"postal_code\",\n",
    "    \"DistanceToGPPractice_5\": \"Distance GP\", \n",
    "    \"Within1Km_6\": \"Within 1 km GP\", \n",
    "    \"Within3Km_7\": \"Within 3 km GP\", \n",
    "    \"Within5Km_8\": \"Within 5 km GP\",\n",
    "    \"DistanceToHospital_11\": \"Distance Hospital\",\n",
    "    \"Within5Km_12\": \"Within 5 km Hospital\",\n",
    "    \"Within10Km_13\": \"Within 10 km Hospital\", \n",
    "    \"Within20Km_14\": \"Within 20 km Hospital\",\n",
    "    \"DistanceToLargeSupermarket_24\": \"Distance Supermarket\", \n",
    "    \"Within1Km_25\": \"Within 1 km Supermarket\", \n",
    "    \"Within3Km_26\": \"Within 3 km Supermarket\", \n",
    "    \"Within5Km_27\": \"Within 5 km Supermarket\",\n",
    "    \"DistanceToDepartmentStore_32\": \"Distance Department Store\",\n",
    "    \"Within5Km_33\": \"Within 5 km Department Store\",\n",
    "    \"Within10Km_34\": \"Within 10 km Department Store\",\n",
    "    \"Within20Km_35\": \"Within 20 km Department Store\",\n",
    "    \"DistanceToRestaurant_44\": \"Distance Restaurant\", \n",
    "    \"Within1Km_45\": \"Within 1 km Restaurant\", \n",
    "    \"Within3Km_46\": \"Within 3 km Restaurant\", \n",
    "    \"Within5Km_47\": \"Within 5 km Restaurant\",\n",
    "    \"DistanceToDaycareCentres_52\": \"Distance Day Care\", \n",
    "    \"Within1Km_53\": \"Within 1 km Day Care\", \n",
    "    \"Within3Km_54\": \"Within 3 km Day Care\", \n",
    "    \"Within5Km_55\": \"Within 5 km Day Care\",\n",
    "    \"DistanceToSchool_60\": \"Distance School\", \n",
    "    \"Within1Km_61\": \"Within 1 km School\", \n",
    "    \"Within3Km_62\": \"Within 3 km School\", \n",
    "    \"Within5Km_63\": \"Within 5 km School\"\n",
    "}\n",
    "\n",
    "# Renaming columns and selecting specified columns\n",
    "dist_df = df.rename(columns=new_column_names)[list(new_column_names.values())]\n",
    "\n",
    "# Exporting the DataFrame to a CSV file for regression analysis\n",
    "dist_df.to_csv(\"Data/distances.csv\", index=False)"
   ],
   "metadata": {
    "collapsed": false,
    "ExecuteTime": {
     "end_time": "2024-05-16T13:51:38.526804300Z",
     "start_time": "2024-05-16T13:51:38.471934400Z"
    }
   },
   "id": "79efd4f27f66c687"
  },
  {
   "cell_type": "code",
   "execution_count": 4,
   "outputs": [],
   "source": [
    "# Create a new DataFrame\n",
    "df_new = pd.DataFrame()\n",
    "\n",
    "# Copy 'postal_code' column from existing DataFrame 'df' to the new DataFrame 'df_new'\n",
    "df_new[\"postal_code\"] = df[\"gwb_code_10\"]"
   ],
   "metadata": {
    "collapsed": false,
    "ExecuteTime": {
     "end_time": "2024-05-16T13:51:38.542334900Z",
     "start_time": "2024-05-16T13:51:38.533501400Z"
    }
   },
   "id": "4ca49286b79bf082"
  },
  {
   "cell_type": "code",
   "execution_count": 5,
   "outputs": [],
   "source": [
    "# Calculate the weighted average age for each row\n",
    "df_new['Weighted_Average_Age'] = (\n",
    "                                         df['Numbers.of.people.from.0.14.years.old'] * 7 +\n",
    "                                         df['Number.of.people.from.15.24.years.old'] * 20 +\n",
    "                                         df['Number.of.people.from.25.44.years.old'] * 35 +\n",
    "                                         df['Number.of.people.from.45.64.years.old'] * 55 +\n",
    "                                         df['Number.of.people....65.years.old'] * 70\n",
    "                                 ) / df['Number.of.inhabitants']\n",
    "\n",
    "\n",
    "# Calculate the variance for each row\n",
    "df_new['Variance_Age'] = (\n",
    "                                 (df['Numbers.of.people.from.0.14.years.old'] * (\n",
    "                                             7 - df_new['Weighted_Average_Age']) ** 2) +\n",
    "                                 (df['Number.of.people.from.15.24.years.old'] * (\n",
    "                                             20 - df_new['Weighted_Average_Age']) ** 2) +\n",
    "                                 (df['Number.of.people.from.25.44.years.old'] * (\n",
    "                                             35 - df_new['Weighted_Average_Age']) ** 2) +\n",
    "                                 (df['Number.of.people.from.45.64.years.old'] * (\n",
    "                                             55 - df_new['Weighted_Average_Age']) ** 2) +\n",
    "                                 (df['Number.of.people....65.years.old'] * (\n",
    "                                             70 - df_new['Weighted_Average_Age']) ** 2)\n",
    "                         ) / df['Number.of.inhabitants']\n",
    "\n",
    "# Standard deviation is the square root of the variance\n",
    "df_new['Standard_Deviation_Age'] = np.sqrt(df_new['Variance_Age'])\n",
    "df_new=df_new.drop(columns=\"Variance_Age\")"
   ],
   "metadata": {
    "collapsed": false,
    "ExecuteTime": {
     "end_time": "2024-05-16T13:51:38.578099300Z",
     "start_time": "2024-05-16T13:51:38.551124200Z"
    }
   },
   "id": "6e1ea16cf2a91c72"
  },
  {
   "cell_type": "code",
   "execution_count": 6,
   "outputs": [],
   "source": [
    "# Calculate proportions for age groups\n",
    "calculate_proportions(df, 'prop_0-14', 'Numbers.of.people.from.0.14.years.old', 'Number.of.inhabitants')\n",
    "\n",
    "\n",
    "calculate_proportions(df, 'prop_15-24', 'Number.of.people.from.15.24.years.old', 'Number.of.inhabitants')\n",
    "\n",
    "\n",
    "calculate_proportions(df, 'prop_25-44', 'Number.of.people.from.25.44.years.old', 'Number.of.inhabitants')\n",
    "\n",
    "\n",
    "calculate_proportions(df, 'prop_45-64', 'Number.of.people.from.45.64.years.old', 'Number.of.inhabitants')\n",
    "\n",
    "\n",
    "calculate_proportions(df, 'prop_65+', 'Number.of.people....65.years.old', 'Number.of.inhabitants')\n",
    "\n",
    "\n",
    "# Calculate proportion for education level\n",
    "df = df.drop(columns=['n_highschool_educated'])\n",
    "calculate_proportions(df, 'prop_university', 'n_highly_educated', 'Number.of.inhabitants')\n",
    "df = df.drop(columns=['n_highly_educated'])\n",
    "\n",
    "# Calculate proportion for income recipients\n",
    "calculate_proportions(df, 'prop_recipients', 'n_income_recipients', 'Number.of.inhabitants')\n",
    "df_new[\"worker\"] = 1 - df_new['prop_recipients']\n",
    "df_new = df_new.drop(columns=['prop_recipients'])\n",
    "df = df.drop(columns=['n_income_recipients'])\n",
    "\n",
    "# Calculate proportion for women\n",
    "calculate_proportions(df, 'prop_women', 'Number.of.women', 'Number.of.inhabitants')\n",
    "df = df.drop(columns=['Number.of.women'])"
   ],
   "metadata": {
    "collapsed": false,
    "ExecuteTime": {
     "end_time": "2024-05-16T13:51:38.610139400Z",
     "start_time": "2024-05-16T13:51:38.581091Z"
    }
   },
   "id": "8f22a8a719213df4"
  },
  {
   "cell_type": "code",
   "execution_count": 7,
   "outputs": [],
   "source": [
    "# Normalize population density\n",
    "normalize(df, 'Population.density', 'pop_density')\n",
    "df = df.drop(columns=['Population.density'])\n",
    "\n",
    "# Include livability score\n",
    "df_new[\"livability_score\"]=df[\"livability_score\"]*2\n",
    "\n",
    "# Calculate and normalize total aid\n",
    "df[\"Aid\"] = df[\"n_pp_w_AO\"] + df[\"n_pp_w_WW\"]\n",
    "normalize(df, \"Aid\", \"Aid\")\n",
    "df = df.drop(columns=['Aid'])\n",
    "\n",
    "# Normalize average income per recipient\n",
    "normalize(df, \"avg_income_per_recipient\", \"Income\")\n",
    "\n",
    "# Convert percentage of single-family housing to decimal and assign to new DataFrame\n",
    "df_new[\"single_family_housing\"] = df[\"percent.of.single.family.housing\"] / 100\n",
    "df = df.drop(columns=['percent.of.single.family.housing'])\n",
    "\n",
    "# Drop rows with missing values in the new DataFrame\n",
    "df_new.dropna(inplace=True)"
   ],
   "metadata": {
    "collapsed": false,
    "ExecuteTime": {
     "end_time": "2024-05-16T13:51:38.643406Z",
     "start_time": "2024-05-16T13:51:38.613133400Z"
    }
   },
   "id": "d45f2eef93d83d57"
  },
  {
   "cell_type": "code",
   "execution_count": 8,
   "outputs": [
    {
     "data": {
      "text/plain": "     postal_code  Weighted_Average_Age  Standard_Deviation_Age  prop_0-14  \\\n0         340101             47.443038               21.552028   0.098101   \n1         340102             40.202797               21.803908   0.180070   \n2         340201             40.317560               19.234362   0.116719   \n3         340202             39.320709               20.525905   0.150527   \n4         340203             36.697898               19.934602   0.181261   \n..           ...                   ...                     ...        ...   \n957      3639700             38.842905               20.597952   0.160473   \n958      3639701             35.979042               19.471641   0.182635   \n959      3639702             43.046154               21.198026   0.138462   \n960      3639703             41.746647               20.991594   0.150522   \n961      3639800             41.040404               21.820806   0.175084   \n\n     prop_15-24  prop_25-44  prop_45-64  prop_65+  prop_university    worker  \\\n0      0.094937    0.253165    0.199367  0.357595         0.170886  0.177215   \n1      0.101399    0.283217    0.239510  0.197552         0.171329  0.195804   \n2      0.096740    0.401682    0.223975  0.159832         0.319664  0.263933   \n3      0.157718    0.244487    0.316874  0.130393         0.246405  0.194631   \n4      0.155867    0.268827    0.316112  0.078809         0.182137  0.229422   \n..          ...         ...         ...       ...              ...       ...   \n957    0.136824    0.295608    0.265203  0.143581         0.165541  0.222973   \n958    0.140719    0.314371    0.284431  0.074850         0.227545  0.221557   \n959    0.115385    0.220000    0.324615  0.203077         0.295385  0.169231   \n960    0.095380    0.271237    0.293592  0.187779         0.211624  0.195231   \n961    0.114478    0.225589    0.303030  0.185185         0.228956  0.191919   \n\n     prop_women  pop_density  livability_score       Aid    Income  \\\n0      0.534810     0.085318          8.226781  0.058480  0.119906   \n1      0.517483     0.158171          7.931987  0.140351  0.103448   \n2      0.481598     0.157137          8.070317  0.198830  0.170063   \n3      0.512464     0.137107          8.062306  0.345029  0.163009   \n4      0.496497     0.245857          7.932075  0.187135  0.137931   \n..          ...          ...               ...       ...       ...   \n957    0.498311     0.259273          7.732136  0.122807  0.090909   \n958    0.517964     0.266512          7.500271  0.081871  0.087774   \n959    0.492308     0.137488          7.715644  0.093567  0.174765   \n960    0.511177     0.126140          7.862723  0.128655  0.123041   \n961    0.528620     0.138577          7.932971  0.040936  0.170063   \n\n     single_family_housing  \n0                     0.03  \n1                     0.65  \n2                     0.01  \n3                     0.68  \n4                     0.83  \n..                     ...  \n957                   0.00  \n958                   0.00  \n959                   1.00  \n960                   0.56  \n961                   0.81  \n\n[962 rows x 16 columns]",
      "text/html": "<div>\n<style scoped>\n    .dataframe tbody tr th:only-of-type {\n        vertical-align: middle;\n    }\n\n    .dataframe tbody tr th {\n        vertical-align: top;\n    }\n\n    .dataframe thead th {\n        text-align: right;\n    }\n</style>\n<table border=\"1\" class=\"dataframe\">\n  <thead>\n    <tr style=\"text-align: right;\">\n      <th></th>\n      <th>postal_code</th>\n      <th>Weighted_Average_Age</th>\n      <th>Standard_Deviation_Age</th>\n      <th>prop_0-14</th>\n      <th>prop_15-24</th>\n      <th>prop_25-44</th>\n      <th>prop_45-64</th>\n      <th>prop_65+</th>\n      <th>prop_university</th>\n      <th>worker</th>\n      <th>prop_women</th>\n      <th>pop_density</th>\n      <th>livability_score</th>\n      <th>Aid</th>\n      <th>Income</th>\n      <th>single_family_housing</th>\n    </tr>\n  </thead>\n  <tbody>\n    <tr>\n      <th>0</th>\n      <td>340101</td>\n      <td>47.443038</td>\n      <td>21.552028</td>\n      <td>0.098101</td>\n      <td>0.094937</td>\n      <td>0.253165</td>\n      <td>0.199367</td>\n      <td>0.357595</td>\n      <td>0.170886</td>\n      <td>0.177215</td>\n      <td>0.534810</td>\n      <td>0.085318</td>\n      <td>8.226781</td>\n      <td>0.058480</td>\n      <td>0.119906</td>\n      <td>0.03</td>\n    </tr>\n    <tr>\n      <th>1</th>\n      <td>340102</td>\n      <td>40.202797</td>\n      <td>21.803908</td>\n      <td>0.180070</td>\n      <td>0.101399</td>\n      <td>0.283217</td>\n      <td>0.239510</td>\n      <td>0.197552</td>\n      <td>0.171329</td>\n      <td>0.195804</td>\n      <td>0.517483</td>\n      <td>0.158171</td>\n      <td>7.931987</td>\n      <td>0.140351</td>\n      <td>0.103448</td>\n      <td>0.65</td>\n    </tr>\n    <tr>\n      <th>2</th>\n      <td>340201</td>\n      <td>40.317560</td>\n      <td>19.234362</td>\n      <td>0.116719</td>\n      <td>0.096740</td>\n      <td>0.401682</td>\n      <td>0.223975</td>\n      <td>0.159832</td>\n      <td>0.319664</td>\n      <td>0.263933</td>\n      <td>0.481598</td>\n      <td>0.157137</td>\n      <td>8.070317</td>\n      <td>0.198830</td>\n      <td>0.170063</td>\n      <td>0.01</td>\n    </tr>\n    <tr>\n      <th>3</th>\n      <td>340202</td>\n      <td>39.320709</td>\n      <td>20.525905</td>\n      <td>0.150527</td>\n      <td>0.157718</td>\n      <td>0.244487</td>\n      <td>0.316874</td>\n      <td>0.130393</td>\n      <td>0.246405</td>\n      <td>0.194631</td>\n      <td>0.512464</td>\n      <td>0.137107</td>\n      <td>8.062306</td>\n      <td>0.345029</td>\n      <td>0.163009</td>\n      <td>0.68</td>\n    </tr>\n    <tr>\n      <th>4</th>\n      <td>340203</td>\n      <td>36.697898</td>\n      <td>19.934602</td>\n      <td>0.181261</td>\n      <td>0.155867</td>\n      <td>0.268827</td>\n      <td>0.316112</td>\n      <td>0.078809</td>\n      <td>0.182137</td>\n      <td>0.229422</td>\n      <td>0.496497</td>\n      <td>0.245857</td>\n      <td>7.932075</td>\n      <td>0.187135</td>\n      <td>0.137931</td>\n      <td>0.83</td>\n    </tr>\n    <tr>\n      <th>...</th>\n      <td>...</td>\n      <td>...</td>\n      <td>...</td>\n      <td>...</td>\n      <td>...</td>\n      <td>...</td>\n      <td>...</td>\n      <td>...</td>\n      <td>...</td>\n      <td>...</td>\n      <td>...</td>\n      <td>...</td>\n      <td>...</td>\n      <td>...</td>\n      <td>...</td>\n      <td>...</td>\n    </tr>\n    <tr>\n      <th>957</th>\n      <td>3639700</td>\n      <td>38.842905</td>\n      <td>20.597952</td>\n      <td>0.160473</td>\n      <td>0.136824</td>\n      <td>0.295608</td>\n      <td>0.265203</td>\n      <td>0.143581</td>\n      <td>0.165541</td>\n      <td>0.222973</td>\n      <td>0.498311</td>\n      <td>0.259273</td>\n      <td>7.732136</td>\n      <td>0.122807</td>\n      <td>0.090909</td>\n      <td>0.00</td>\n    </tr>\n    <tr>\n      <th>958</th>\n      <td>3639701</td>\n      <td>35.979042</td>\n      <td>19.471641</td>\n      <td>0.182635</td>\n      <td>0.140719</td>\n      <td>0.314371</td>\n      <td>0.284431</td>\n      <td>0.074850</td>\n      <td>0.227545</td>\n      <td>0.221557</td>\n      <td>0.517964</td>\n      <td>0.266512</td>\n      <td>7.500271</td>\n      <td>0.081871</td>\n      <td>0.087774</td>\n      <td>0.00</td>\n    </tr>\n    <tr>\n      <th>959</th>\n      <td>3639702</td>\n      <td>43.046154</td>\n      <td>21.198026</td>\n      <td>0.138462</td>\n      <td>0.115385</td>\n      <td>0.220000</td>\n      <td>0.324615</td>\n      <td>0.203077</td>\n      <td>0.295385</td>\n      <td>0.169231</td>\n      <td>0.492308</td>\n      <td>0.137488</td>\n      <td>7.715644</td>\n      <td>0.093567</td>\n      <td>0.174765</td>\n      <td>1.00</td>\n    </tr>\n    <tr>\n      <th>960</th>\n      <td>3639703</td>\n      <td>41.746647</td>\n      <td>20.991594</td>\n      <td>0.150522</td>\n      <td>0.095380</td>\n      <td>0.271237</td>\n      <td>0.293592</td>\n      <td>0.187779</td>\n      <td>0.211624</td>\n      <td>0.195231</td>\n      <td>0.511177</td>\n      <td>0.126140</td>\n      <td>7.862723</td>\n      <td>0.128655</td>\n      <td>0.123041</td>\n      <td>0.56</td>\n    </tr>\n    <tr>\n      <th>961</th>\n      <td>3639800</td>\n      <td>41.040404</td>\n      <td>21.820806</td>\n      <td>0.175084</td>\n      <td>0.114478</td>\n      <td>0.225589</td>\n      <td>0.303030</td>\n      <td>0.185185</td>\n      <td>0.228956</td>\n      <td>0.191919</td>\n      <td>0.528620</td>\n      <td>0.138577</td>\n      <td>7.932971</td>\n      <td>0.040936</td>\n      <td>0.170063</td>\n      <td>0.81</td>\n    </tr>\n  </tbody>\n</table>\n<p>962 rows × 16 columns</p>\n</div>"
     },
     "execution_count": 8,
     "metadata": {},
     "output_type": "execute_result"
    }
   ],
   "source": [
    "df_new"
   ],
   "metadata": {
    "collapsed": false,
    "ExecuteTime": {
     "end_time": "2024-05-16T13:51:38.708813800Z",
     "start_time": "2024-05-16T13:51:38.641285400Z"
    }
   },
   "id": "3dc144b05116310f"
  },
  {
   "cell_type": "code",
   "execution_count": 9,
   "outputs": [],
   "source": [
    "# Save the new DataFrame with normalized variables to a CSV file\n",
    "df_new.to_csv(\"Data/normalized_variables.csv\")"
   ],
   "metadata": {
    "collapsed": false,
    "ExecuteTime": {
     "end_time": "2024-05-16T13:51:38.835929800Z",
     "start_time": "2024-05-16T13:51:38.684879800Z"
    }
   },
   "id": "2ab49643e8c15e4"
  }
 ],
 "metadata": {
  "kernelspec": {
   "display_name": "Python 3",
   "language": "python",
   "name": "python3"
  },
  "language_info": {
   "codemirror_mode": {
    "name": "ipython",
    "version": 2
   },
   "file_extension": ".py",
   "mimetype": "text/x-python",
   "name": "python",
   "nbconvert_exporter": "python",
   "pygments_lexer": "ipython2",
   "version": "2.7.6"
  }
 },
 "nbformat": 4,
 "nbformat_minor": 5
}
